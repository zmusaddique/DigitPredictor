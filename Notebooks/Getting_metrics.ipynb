{
 "cells": [
  {
   "cell_type": "markdown",
   "id": "ba053a69",
   "metadata": {},
   "source": [
    "# Get Metrics"
   ]
  },
  {
   "cell_type": "code",
   "execution_count": 50,
   "id": "374aad97",
   "metadata": {},
   "outputs": [],
   "source": [
    "import numpy as np, pandas as pd, joblib\n",
    "from sklearn.datasets import fetch_openml"
   ]
  },
  {
   "cell_type": "code",
   "execution_count": 2,
   "id": "9d1985e5",
   "metadata": {},
   "outputs": [],
   "source": [
    "from sklearn.ensemble import RandomForestClassifier"
   ]
  },
  {
   "cell_type": "code",
   "execution_count": 3,
   "id": "2806583f",
   "metadata": {},
   "outputs": [],
   "source": [
    "from sklearn.metrics import accuracy_score, precision_score, recall_score, f1_score"
   ]
  },
  {
   "cell_type": "code",
   "execution_count": 4,
   "id": "c912b975",
   "metadata": {},
   "outputs": [],
   "source": [
    "mnist = fetch_openml('mnist_784', version=1, parser=\"auto\") #This returns a bunch object (something like dictionary) that is compatible with sklearn"
   ]
  },
  {
   "cell_type": "code",
   "execution_count": 5,
   "id": "3cc81597",
   "metadata": {},
   "outputs": [],
   "source": [
    "# Extract the full training set and test set\n",
    "X_train_full = mnist.data[:60000]\n",
    "y_train_full = mnist.target[:60000]\n",
    "\n",
    "X_test = mnist.data[60000:]\n",
    "y_test = mnist.target[60000:]"
   ]
  },
  {
   "cell_type": "code",
   "execution_count": 6,
   "id": "97489c5e",
   "metadata": {},
   "outputs": [],
   "source": [
    "y_test = y_test.astype(np.uint8)"
   ]
  },
  {
   "cell_type": "code",
   "execution_count": 11,
   "id": "1a972680",
   "metadata": {},
   "outputs": [
    {
     "data": {
      "text/plain": [
       "pixel1      0\n",
       "pixel2      0\n",
       "pixel3      0\n",
       "pixel4      0\n",
       "pixel5      0\n",
       "           ..\n",
       "pixel780    0\n",
       "pixel781    0\n",
       "pixel782    0\n",
       "pixel783    0\n",
       "pixel784    0\n",
       "Name: 5, Length: 784, dtype: int64"
      ]
     },
     "execution_count": 11,
     "metadata": {},
     "output_type": "execute_result"
    }
   ],
   "source": [
    "X_train_full.iloc[5]"
   ]
  },
  {
   "cell_type": "code",
   "execution_count": 12,
   "id": "e9e819f7",
   "metadata": {},
   "outputs": [
    {
     "data": {
      "text/plain": [
       "'2'"
      ]
     },
     "execution_count": 12,
     "metadata": {},
     "output_type": "execute_result"
    }
   ],
   "source": [
    "y_train_full[5]"
   ]
  },
  {
   "cell_type": "markdown",
   "id": "9e3cf3e4",
   "metadata": {},
   "source": [
    "## KNN-Enhanced Metrics"
   ]
  },
  {
   "cell_type": "code",
   "execution_count": 25,
   "id": "51d5dc15",
   "metadata": {},
   "outputs": [],
   "source": [
    "knn_enhanced = joblib.load(\"knn_model_ehanced.pkl\")"
   ]
  },
  {
   "cell_type": "code",
   "execution_count": 8,
   "id": "453e268a",
   "metadata": {},
   "outputs": [
    {
     "ename": "TypeError",
     "evalue": "KNeighborsClassifier.predict() missing 1 required positional argument: 'X'",
     "output_type": "error",
     "traceback": [
      "\u001b[0;31m---------------------------------------------------------------------------\u001b[0m",
      "\u001b[0;31mTypeError\u001b[0m                                 Traceback (most recent call last)",
      "Cell \u001b[0;32mIn[8], line 1\u001b[0m\n\u001b[0;32m----> 1\u001b[0m knn_enhanced_pred \u001b[38;5;241m=\u001b[39m \u001b[43mknn_enhanced\u001b[49m\u001b[38;5;241;43m.\u001b[39;49m\u001b[43mpredict\u001b[49m\u001b[43m(\u001b[49m\u001b[43m)\u001b[49m\n",
      "\u001b[0;31mTypeError\u001b[0m: KNeighborsClassifier.predict() missing 1 required positional argument: 'X'"
     ]
    }
   ],
   "source": [
    "knn_enhanced_pred = knn_enhanced.predict()"
   ]
  },
  {
   "cell_type": "code",
   "execution_count": 9,
   "id": "b1f74c28",
   "metadata": {},
   "outputs": [
    {
     "ename": "NameError",
     "evalue": "name 'knn_enhanced_pred' is not defined",
     "output_type": "error",
     "traceback": [
      "\u001b[0;31m---------------------------------------------------------------------------\u001b[0m",
      "\u001b[0;31mNameError\u001b[0m                                 Traceback (most recent call last)",
      "Cell \u001b[0;32mIn[9], line 1\u001b[0m\n\u001b[0;32m----> 1\u001b[0m \u001b[43mknn_enhanced_pred\u001b[49m\n",
      "\u001b[0;31mNameError\u001b[0m: name 'knn_enhanced_pred' is not defined"
     ]
    }
   ],
   "source": [
    "knn_enhanced_pred"
   ]
  },
  {
   "cell_type": "code",
   "execution_count": 9,
   "id": "6b7a3d97",
   "metadata": {},
   "outputs": [],
   "source": [
    "knn_enhanced_acc = accuracy_score( y_test, knn_enhanced_pred)"
   ]
  },
  {
   "cell_type": "code",
   "execution_count": 10,
   "id": "31ddf274",
   "metadata": {},
   "outputs": [
    {
     "data": {
      "text/plain": [
       "0.9714"
      ]
     },
     "execution_count": 10,
     "metadata": {},
     "output_type": "execute_result"
    }
   ],
   "source": [
    "knn_enhanced_acc"
   ]
  },
  {
   "cell_type": "code",
   "execution_count": 11,
   "id": "b96d5e6a",
   "metadata": {},
   "outputs": [],
   "source": [
    "knn_enhanced_prec = precision_score(y_test, knn_enhanced_pred, average='macro')"
   ]
  },
  {
   "cell_type": "code",
   "execution_count": 12,
   "id": "9418cad5",
   "metadata": {},
   "outputs": [
    {
     "data": {
      "text/plain": [
       "0.9715597201945959"
      ]
     },
     "execution_count": 12,
     "metadata": {},
     "output_type": "execute_result"
    }
   ],
   "source": [
    "knn_enhanced_prec"
   ]
  },
  {
   "cell_type": "code",
   "execution_count": 13,
   "id": "811b9320",
   "metadata": {},
   "outputs": [],
   "source": [
    "knn_enhanced_rec = recall_score(y_test, knn_enhanced_pred, average='weighted')"
   ]
  },
  {
   "cell_type": "code",
   "execution_count": 14,
   "id": "3db38c96",
   "metadata": {},
   "outputs": [
    {
     "data": {
      "text/plain": [
       "0.9714"
      ]
     },
     "execution_count": 14,
     "metadata": {},
     "output_type": "execute_result"
    }
   ],
   "source": [
    "knn_enhanced_rec"
   ]
  },
  {
   "cell_type": "code",
   "execution_count": 15,
   "id": "d8370890",
   "metadata": {},
   "outputs": [],
   "source": [
    "knn_enhanced_f1 = f1_score(y_test, knn_enhanced_pred, average='weighted')"
   ]
  },
  {
   "cell_type": "code",
   "execution_count": 16,
   "id": "5218de29",
   "metadata": {},
   "outputs": [
    {
     "data": {
      "text/plain": [
       "0.9713597782738583"
      ]
     },
     "execution_count": 16,
     "metadata": {},
     "output_type": "execute_result"
    }
   ],
   "source": [
    "knn_enhanced_f1"
   ]
  },
  {
   "cell_type": "code",
   "execution_count": 17,
   "id": "9faae887",
   "metadata": {},
   "outputs": [
    {
     "data": {
      "text/plain": [
       "5"
      ]
     },
     "execution_count": 17,
     "metadata": {},
     "output_type": "execute_result"
    }
   ],
   "source": [
    "y_test.iloc[127]"
   ]
  },
  {
   "cell_type": "code",
   "execution_count": 18,
   "id": "606894cb",
   "metadata": {},
   "outputs": [
    {
     "name": "stderr",
     "output_type": "stream",
     "text": [
      "/home/test/.local/lib/python3.10/site-packages/sklearn/base.py:439: UserWarning: X does not have valid feature names, but KNeighborsClassifier was fitted with feature names\n",
      "  warnings.warn(\n"
     ]
    },
    {
     "data": {
      "text/plain": [
       "array([5], dtype=uint8)"
      ]
     },
     "execution_count": 18,
     "metadata": {},
     "output_type": "execute_result"
    }
   ],
   "source": [
    "knn_enhanced.predict(np.reshape(X_test.iloc[127], (1, -1)))"
   ]
  },
  {
   "cell_type": "code",
   "execution_count": 19,
   "id": "214983cd",
   "metadata": {},
   "outputs": [
    {
     "name": "stderr",
     "output_type": "stream",
     "text": [
      "/home/test/.local/lib/python3.10/site-packages/sklearn/base.py:439: UserWarning: X does not have valid feature names, but KNeighborsClassifier was fitted with feature names\n",
      "  warnings.warn(\n"
     ]
    },
    {
     "data": {
      "text/plain": [
       "0.0"
      ]
     },
     "execution_count": 19,
     "metadata": {},
     "output_type": "execute_result"
    }
   ],
   "source": [
    "max(knn_enhanced.predict_proba(np.reshape(X_test.iloc[127], (1, -1))))[0]"
   ]
  },
  {
   "cell_type": "code",
   "execution_count": 20,
   "id": "aa37a234",
   "metadata": {},
   "outputs": [],
   "source": [
    "# for i in range(10):\n",
    "#     knn_en_cm[i][i] =0\n",
    "# knn_en_cm = knn_en_cm - np.eye(len(knn_en_cm))"
   ]
  },
  {
   "cell_type": "code",
   "execution_count": 30,
   "id": "42b02294",
   "metadata": {},
   "outputs": [
    {
     "name": "stderr",
     "output_type": "stream",
     "text": [
      "/home/test/.local/lib/python3.10/site-packages/sklearn/base.py:439: UserWarning: X does not have valid feature names, but KNeighborsClassifier was fitted with feature names\n",
      "  warnings.warn(\n"
     ]
    },
    {
     "data": {
      "text/plain": [
       "array([[0., 0., 1., 0., 0., 0., 0., 0., 0., 0.]])"
      ]
     },
     "execution_count": 30,
     "metadata": {},
     "output_type": "execute_result"
    }
   ],
   "source": [
    "knn_enhanced.predict_proba(X_train_full.iloc[5].values.reshape(1,-1))"
   ]
  },
  {
   "cell_type": "code",
   "execution_count": 21,
   "id": "3b22b788",
   "metadata": {
    "scrolled": false
   },
   "outputs": [
    {
     "data": {
      "image/png": "[encoded data removed]",
      "text/plain": [
       "<Figure size 640x480 with 2 Axes>"
      ]
     },
     "metadata": {},
     "output_type": "display_data"
    }
   ],
   "source": [
    "import matplotlib.pyplot as plt\n",
    "from sklearn.metrics import confusion_matrix\n",
    "\n",
    "knn_en_cm = confusion_matrix(y_test, knn_enhanced_pred, labels=np.arange(10)) \n",
    "\n",
    "# for i in range(10):\n",
    "#     knn_en_cm[i][i] =0\n",
    "# knn_en_cm = knn_en_cm - np.eye(len(knn_en_cm))\n",
    "\n",
    "np.fill_diagonal(knn_en_cm, 0)\n",
    "\n",
    "fig, ax = plt.subplots()\n",
    "im = ax.imshow(np.array(knn_en_cm), cmap='OrRd') \n",
    "ax.figure.colorbar(im, ax=ax, pad=.2)\n",
    "ax.set_xticks(np.arange(10))\n",
    "ax.set_yticks(np.arange(10))\n",
    "ax.set_xlabel('Predicted')\n",
    "ax.set_ylabel('Actual')\n",
    "ax.set_title('Confusion Matrix', fontweight='bold')\n",
    "\n",
    "# Compute the sum of values for each predicted class\n",
    "sum_values = np.nansum(knn_en_cm, axis=1)\n",
    "\n",
    "# Get the indices of the top 6 sum values in magnitude\n",
    "top_indices = np.argsort(sum_values)[-3:]\n",
    "med_indices = np.argsort(sum_values)[-6:-3]\n",
    "rest_indices = np.argsort(sum_values)[:-6]\n",
    "\n",
    "# Display the sum values on the right side\n",
    "\n",
    "for i, sum_val in enumerate(sum_values):\n",
    "    if np.isnan(sum_val):\n",
    "        sum_val = 0\n",
    "    if i in top_indices:\n",
    "        ax.text(10.1, i, str(int(sum_val)), va='center', color='red', fontweight='bold')\n",
    "    if i in med_indices:\n",
    "        ax.text(10.1, i, str(int(sum_val)), va='center', color='orange', fontweight='bold')\n",
    "    if i in rest_indices:\n",
    "        ax.text(10.1, i, str(int(sum_val)), va='center', color='blue')\n",
    "\n",
    "ax.text(10.2, -1, 'Score', va='center', ha='center')\n",
    "plt.savefig('knn_enhanced_cm.png');\n",
    "plt.show()"
   ]
  },
  {
   "cell_type": "markdown",
   "id": "fd04e114",
   "metadata": {},
   "source": [
    "# KNN-Extended Metrics"
   ]
  },
  {
   "cell_type": "code",
   "execution_count": 41,
   "id": "8be3cbba",
   "metadata": {
    "scrolled": true
   },
   "outputs": [],
   "source": [
    "knn_extended = joblib.load(\"knn_clf_extended_colab.pkl\")\n",
    "\n"
   ]
  },
  {
   "cell_type": "code",
   "execution_count": 23,
   "id": "388e47e4",
   "metadata": {},
   "outputs": [
    {
     "name": "stderr",
     "output_type": "stream",
     "text": [
      "/home/test/.local/lib/python3.10/site-packages/sklearn/base.py:432: UserWarning: X has feature names, but KNeighborsClassifier was fitted without feature names\n",
      "  warnings.warn(\n"
     ]
    },
    {
     "data": {
      "text/plain": [
       "0.9763"
      ]
     },
     "execution_count": 23,
     "metadata": {},
     "output_type": "execute_result"
    }
   ],
   "source": [
    "knn_extended_pred = knn_extended.predict(X_test)\n",
    "\n",
    "knn_extended_acc = accuracy_score( y_test, knn_extended_pred)\n",
    "\n",
    "knn_extended_acc\n"
   ]
  },
  {
   "cell_type": "code",
   "execution_count": 24,
   "id": "b56a3742",
   "metadata": {},
   "outputs": [
    {
     "data": {
      "text/plain": [
       "0.9766352308968693"
      ]
     },
     "execution_count": 24,
     "metadata": {},
     "output_type": "execute_result"
    }
   ],
   "source": [
    "knn_extended_prec = precision_score(y_test,  knn_extended_pred, average='macro')\n",
    "\n",
    "knn_extended_prec\n",
    "\n"
   ]
  },
  {
   "cell_type": "code",
   "execution_count": 25,
   "id": "f5d24e2b",
   "metadata": {},
   "outputs": [
    {
     "data": {
      "text/plain": [
       "0.9763"
      ]
     },
     "execution_count": 25,
     "metadata": {},
     "output_type": "execute_result"
    }
   ],
   "source": [
    "knn_extended_rec = recall_score(y_test, knn_extended_pred, average='weighted')\n",
    "\n",
    "knn_extended_rec\n",
    "\n"
   ]
  },
  {
   "cell_type": "code",
   "execution_count": 26,
   "id": "4587d366",
   "metadata": {},
   "outputs": [
    {
     "data": {
      "text/plain": [
       "0.9762833512584528"
      ]
     },
     "execution_count": 26,
     "metadata": {},
     "output_type": "execute_result"
    }
   ],
   "source": [
    "knn_extended_f1 = f1_score(y_test, knn_extended_pred, average='weighted')\n",
    "\n",
    "knn_extended_f1"
   ]
  },
  {
   "cell_type": "code",
   "execution_count": 27,
   "id": "6a835dcb",
   "metadata": {},
   "outputs": [
    {
     "data": {
      "text/plain": [
       "array([5], dtype=uint8)"
      ]
     },
     "execution_count": 27,
     "metadata": {},
     "output_type": "execute_result"
    }
   ],
   "source": [
    "knn_extended.predict(np.reshape(X_test.iloc[127], (1, -1)))"
   ]
  },
  {
   "cell_type": "code",
   "execution_count": 29,
   "id": "6a6ac8ef",
   "metadata": {
    "scrolled": true
   },
   "outputs": [
    {
     "data": {
      "image/png": "[encoded data removed]",
      "text/plain": [
       "<Figure size 640x480 with 2 Axes>"
      ]
     },
     "metadata": {},
     "output_type": "display_data"
    }
   ],
   "source": [
    "import matplotlib.pyplot as plt\n",
    "from sklearn.metrics import confusion_matrix\n",
    "\n",
    "knn_ex_cm = confusion_matrix(y_test, knn_extended_pred, labels=np.arange(10)) - np.eye(10)\n",
    "\n",
    "# for i in range(10):\n",
    "#     knn_en_cm[i][i] =0\n",
    "# knn_en_cm = knn_en_cm - np.eye(len(knn_en_cm))\n",
    "\n",
    "np.fill_diagonal(knn_ex_cm, 0)\n",
    "\n",
    "fig, ax = plt.subplots()\n",
    "im = ax.imshow(np.array(knn_ex_cm), cmap='OrRd') \n",
    "ax.figure.colorbar(im, ax=ax, pad=.2)\n",
    "ax.set_xticks(np.arange(10))\n",
    "ax.set_yticks(np.arange(10))\n",
    "ax.set_xlabel('Predicted')\n",
    "ax.set_ylabel('Actual')\n",
    "ax.set_title('Confusion Matrix', fontweight='bold')\n",
    "\n",
    "# Compute the sum of values for each predicted class\n",
    "sum_values = np.nansum(knn_ex_cm, axis=1)\n",
    "\n",
    "# Get the indices of the top 6 sum values in magnitude\n",
    "top_indices = np.argsort(sum_values)[-3:]\n",
    "med_indices = np.argsort(sum_values)[-6:-3]\n",
    "rest_indices = np.argsort(sum_values)[:-6]\n",
    "\n",
    "# Display the sum values on the right side\n",
    "\n",
    "for i, sum_val in enumerate(sum_values):\n",
    "    if np.isnan(sum_val):\n",
    "        sum_val = 0\n",
    "    if i in top_indices:\n",
    "        ax.text(10.1, i, str(int(sum_val)), va='center', color='red', fontweight='bold')\n",
    "    if i in med_indices:\n",
    "        ax.text(10.1, i, str(int(sum_val)), va='center', color='orange', fontweight='bold')\n",
    "    if i in rest_indices:\n",
    "        ax.text(10.1, i, str(int(sum_val)), va='center', color='blue')\n",
    "\n",
    "ax.text(10.2, -1, 'Score', va='center', ha='center')\n",
    "plt.savefig('knn_extended_cm.png');\n",
    "plt.show()"
   ]
  },
  {
   "cell_type": "markdown",
   "id": "e0c28caa",
   "metadata": {},
   "source": [
    "# SGD - OvO Metrics"
   ]
  },
  {
   "cell_type": "code",
   "execution_count": 42,
   "id": "bbca5100",
   "metadata": {},
   "outputs": [],
   "source": [
    "sgd_ovo_clf = joblib.load(\"ovo_sgd_clf_colab.pkl\")"
   ]
  },
  {
   "cell_type": "code",
   "execution_count": 13,
   "id": "ad1f3ae0",
   "metadata": {},
   "outputs": [
    {
     "name": "stderr",
     "output_type": "stream",
     "text": [
      "/home/test/.local/lib/python3.10/site-packages/sklearn/base.py:432: UserWarning: X has feature names, but OneVsOneClassifier was fitted without feature names\n",
      "  warnings.warn(\n"
     ]
    }
   ],
   "source": [
    "sgd_ovo_clf_pred = sgd_ovo_clf.predict(X_test)"
   ]
  },
  {
   "cell_type": "code",
   "execution_count": 30,
   "id": "839951fc",
   "metadata": {},
   "outputs": [
    {
     "name": "stderr",
     "output_type": "stream",
     "text": [
      "/home/test/.local/lib/python3.10/site-packages/sklearn/base.py:432: UserWarning: X has feature names, but OneVsOneClassifier was fitted without feature names\n",
      "  warnings.warn(\n"
     ]
    },
    {
     "data": {
      "text/plain": [
       "0.813"
      ]
     },
     "execution_count": 30,
     "metadata": {},
     "output_type": "execute_result"
    }
   ],
   "source": [
    "sgd_ovo_clf_acc = accuracy_score( y_test, sgd_ovo_clf_pred)\n",
    "\n",
    "sgd_ovo_clf_acc"
   ]
  },
  {
   "cell_type": "code",
   "execution_count": 31,
   "id": "f4b24e26",
   "metadata": {},
   "outputs": [
    {
     "data": {
      "text/plain": [
       "0.8591031022514455"
      ]
     },
     "execution_count": 31,
     "metadata": {},
     "output_type": "execute_result"
    }
   ],
   "source": [
    "sgd_ovo_clf_prec = precision_score(y_test,  sgd_ovo_clf_pred, average='macro')\n",
    "\n",
    "sgd_ovo_clf_prec"
   ]
  },
  {
   "cell_type": "code",
   "execution_count": 32,
   "id": "21d6289f",
   "metadata": {},
   "outputs": [
    {
     "data": {
      "text/plain": [
       "0.813"
      ]
     },
     "execution_count": 32,
     "metadata": {},
     "output_type": "execute_result"
    }
   ],
   "source": [
    "sgd_ovo_clf_rec = recall_score(y_test, sgd_ovo_clf_pred, average='weighted')\n",
    "\n",
    "sgd_ovo_clf_rec\n",
    "\n"
   ]
  },
  {
   "cell_type": "code",
   "execution_count": 33,
   "id": "a5d08e6d",
   "metadata": {},
   "outputs": [
    {
     "data": {
      "text/plain": [
       "0.800547282398953"
      ]
     },
     "execution_count": 33,
     "metadata": {},
     "output_type": "execute_result"
    }
   ],
   "source": [
    "sgd_ovo_clf_f1 = f1_score(y_test, sgd_ovo_clf_pred, average='weighted')\n",
    "\n",
    "sgd_ovo_clf_f1"
   ]
  },
  {
   "cell_type": "code",
   "execution_count": 32,
   "id": "652e8cd4",
   "metadata": {},
   "outputs": [
    {
     "data": {
      "text/plain": [
       "array([[ 5.33320621, -0.33333017,  9.33332764,  5.3333212 ,  2.66673051,\n",
       "         4.33329027,  0.66667335,  2.66670007,  8.33332728,  7.33331577]])"
      ]
     },
     "execution_count": 32,
     "metadata": {},
     "output_type": "execute_result"
    }
   ],
   "source": [
    "sgd_ovo_clf.decision_function(X_train_full.iloc[5].values.reshape(1,-1))"
   ]
  },
  {
   "cell_type": "code",
   "execution_count": 34,
   "id": "3292cc4e",
   "metadata": {
    "scrolled": true
   },
   "outputs": [
    {
     "data": {
      "image/png": "[encoded data removed]",
      "text/plain": [
       "<Figure size 640x480 with 2 Axes>"
      ]
     },
     "metadata": {},
     "output_type": "display_data"
    }
   ],
   "source": [
    "import matplotlib.pyplot as plt\n",
    "from sklearn.metrics import confusion_matrix\n",
    "\n",
    "sgd_ovo_clf_cm = confusion_matrix(y_test, sgd_ovo_clf_pred, labels=np.arange(10)) - np.eye(10)\n",
    "\n",
    "# for i in range(10):\n",
    "#     knn_en_cm[i][i] =0\n",
    "# knn_en_cm = knn_en_cm - np.eye(len(knn_en_cm))\n",
    "\n",
    "np.fill_diagonal(sgd_ovo_clf_cm, 0)\n",
    "\n",
    "fig, ax = plt.subplots()\n",
    "im = ax.imshow(np.array(sgd_ovo_clf_cm), cmap='OrRd') \n",
    "ax.figure.colorbar(im, ax=ax, pad=.2)\n",
    "ax.set_xticks(np.arange(10))\n",
    "ax.set_yticks(np.arange(10))\n",
    "ax.set_xlabel('Predicted')\n",
    "ax.set_ylabel('Actual')\n",
    "ax.set_title('Confusion Matrix', fontweight='bold')\n",
    "\n",
    "# Compute the sum of values for each predicted class\n",
    "sum_values = np.nansum(sgd_ovo_clf_cm, axis=1)\n",
    "\n",
    "# Get the indices of the top 6 sum values in magnitude\n",
    "top_indices = np.argsort(sum_values)[-3:]\n",
    "med_indices = np.argsort(sum_values)[-6:-3]\n",
    "rest_indices = np.argsort(sum_values)[:-6]\n",
    "\n",
    "# Display the sum values on the right side\n",
    "\n",
    "for i, sum_val in enumerate(sum_values):\n",
    "    if np.isnan(sum_val):\n",
    "        sum_val = 0\n",
    "    if i in top_indices:\n",
    "        ax.text(10.1, i, str(int(sum_val)), va='center', color='red', fontweight='bold')\n",
    "    elif i in med_indices:\n",
    "        ax.text(10.1, i, str(int(sum_val)), va='center', color='orange', fontweight='bold')\n",
    "    elif i in rest_indices:\n",
    "        ax.text(10.1, i, str(int(sum_val)), va='center', color='blue')\n",
    "\n",
    "ax.text(10.2, -1, 'Score', va='center', ha='center')\n",
    "plt.savefig('sgd_ovo_clf_cm.png');\n",
    "plt.show()"
   ]
  },
  {
   "cell_type": "markdown",
   "id": "97b5bdee",
   "metadata": {},
   "source": [
    "# SGD - OvR Metrics"
   ]
  },
  {
   "cell_type": "code",
   "execution_count": 43,
   "id": "df61b1b3",
   "metadata": {},
   "outputs": [],
   "source": [
    "sgd_ovr_clf = joblib.load(\"ovr_sgd_clf_colab.pkl\")\n"
   ]
  },
  {
   "cell_type": "code",
   "execution_count": 35,
   "id": "e369bc89",
   "metadata": {},
   "outputs": [
    {
     "name": "stderr",
     "output_type": "stream",
     "text": [
      "/home/test/.local/lib/python3.10/site-packages/sklearn/base.py:432: UserWarning: X has feature names, but SGDClassifier was fitted without feature names\n",
      "  warnings.warn(\n",
      "/home/test/.local/lib/python3.10/site-packages/sklearn/base.py:432: UserWarning: X has feature names, but SGDClassifier was fitted without feature names\n",
      "  warnings.warn(\n",
      "/home/test/.local/lib/python3.10/site-packages/sklearn/base.py:432: UserWarning: X has feature names, but SGDClassifier was fitted without feature names\n",
      "  warnings.warn(\n",
      "/home/test/.local/lib/python3.10/site-packages/sklearn/base.py:432: UserWarning: X has feature names, but SGDClassifier was fitted without feature names\n",
      "  warnings.warn(\n",
      "/home/test/.local/lib/python3.10/site-packages/sklearn/base.py:432: UserWarning: X has feature names, but SGDClassifier was fitted without feature names\n",
      "  warnings.warn(\n",
      "/home/test/.local/lib/python3.10/site-packages/sklearn/base.py:432: UserWarning: X has feature names, but SGDClassifier was fitted without feature names\n",
      "  warnings.warn(\n",
      "/home/test/.local/lib/python3.10/site-packages/sklearn/base.py:432: UserWarning: X has feature names, but SGDClassifier was fitted without feature names\n",
      "  warnings.warn(\n",
      "/home/test/.local/lib/python3.10/site-packages/sklearn/base.py:432: UserWarning: X has feature names, but SGDClassifier was fitted without feature names\n",
      "  warnings.warn(\n",
      "/home/test/.local/lib/python3.10/site-packages/sklearn/base.py:432: UserWarning: X has feature names, but SGDClassifier was fitted without feature names\n",
      "  warnings.warn(\n",
      "/home/test/.local/lib/python3.10/site-packages/sklearn/base.py:432: UserWarning: X has feature names, but SGDClassifier was fitted without feature names\n",
      "  warnings.warn(\n"
     ]
    },
    {
     "data": {
      "text/plain": [
       "0.8253"
      ]
     },
     "execution_count": 35,
     "metadata": {},
     "output_type": "execute_result"
    }
   ],
   "source": [
    "\n",
    "sgd_ovr_clf_pred = sgd_ovr_clf.predict(X_test)\n",
    "\n",
    "sgd_ovr_clf_acc = accuracy_score( y_test, sgd_ovr_clf_pred)\n",
    "\n",
    "sgd_ovr_clf_acc"
   ]
  },
  {
   "cell_type": "code",
   "execution_count": 36,
   "id": "26e7573d",
   "metadata": {},
   "outputs": [
    {
     "data": {
      "text/plain": [
       "0.8492765055766178"
      ]
     },
     "execution_count": 36,
     "metadata": {},
     "output_type": "execute_result"
    }
   ],
   "source": [
    "sgd_ovr_clf_prec = precision_score(y_test,  sgd_ovr_clf_pred, average='macro')\n",
    "\n",
    "sgd_ovr_clf_prec"
   ]
  },
  {
   "cell_type": "code",
   "execution_count": 37,
   "id": "7cdfefc4",
   "metadata": {},
   "outputs": [
    {
     "data": {
      "text/plain": [
       "0.8253"
      ]
     },
     "execution_count": 37,
     "metadata": {},
     "output_type": "execute_result"
    }
   ],
   "source": [
    "sgd_ovr_clf_rec = recall_score(y_test, sgd_ovr_clf_pred, average='weighted')\n",
    "\n",
    "sgd_ovr_clf_rec"
   ]
  },
  {
   "cell_type": "code",
   "execution_count": 38,
   "id": "94a0c111",
   "metadata": {},
   "outputs": [
    {
     "data": {
      "text/plain": [
       "0.8208239418579742"
      ]
     },
     "execution_count": 38,
     "metadata": {},
     "output_type": "execute_result"
    }
   ],
   "source": [
    "sgd_ovr_clf_f1 = f1_score(y_test, sgd_ovr_clf_pred, average='weighted')\n",
    "\n",
    "sgd_ovr_clf_f1"
   ]
  },
  {
   "cell_type": "code",
   "execution_count": 39,
   "id": "fa2ca8c2",
   "metadata": {
    "scrolled": false
   },
   "outputs": [
    {
     "data": {
      "image/png": "[encoded data removed]",
      "text/plain": [
       "<Figure size 640x480 with 2 Axes>"
      ]
     },
     "metadata": {},
     "output_type": "display_data"
    }
   ],
   "source": [
    "import matplotlib.pyplot as plt\n",
    "from sklearn.metrics import confusion_matrix\n",
    "\n",
    "sgd_ovr_clf_cm = confusion_matrix(y_test, sgd_ovr_clf_pred, labels=np.arange(10)) - np.eye(10)\n",
    "\n",
    "# for i in range(10):\n",
    "#     knn_en_cm[i][i] =0\n",
    "# knn_en_cm = knn_en_cm - np.eye(len(knn_en_cm))\n",
    "\n",
    "np.fill_diagonal(sgd_ovr_clf_cm, 0)\n",
    "\n",
    "fig, ax = plt.subplots()\n",
    "im = ax.imshow(np.array(sgd_ovr_clf_cm), cmap='OrRd') \n",
    "ax.figure.colorbar(im, ax=ax, pad=.2)\n",
    "ax.set_xticks(np.arange(10))\n",
    "ax.set_yticks(np.arange(10))\n",
    "ax.set_xlabel('Predicted')\n",
    "ax.set_ylabel('Actual')\n",
    "ax.set_title('Confusion Matrix', fontweight='bold')\n",
    "\n",
    "# Compute the sum of values for each predicted class\n",
    "sum_values = np.nansum(sgd_ovr_clf_cm, axis=1)\n",
    "\n",
    "# Get the indices of the top 6 sum values in magnitude\n",
    "top_indices = np.argsort(sum_values)[-3:]\n",
    "med_indices = np.argsort(sum_values)[-6:-3]\n",
    "rest_indices = np.argsort(sum_values)[:-6]\n",
    "\n",
    "# Display the sum values on the right side\n",
    "\n",
    "for i, sum_val in enumerate(sum_values):\n",
    "    if np.isnan(sum_val):\n",
    "        sum_val = 0\n",
    "    if i in top_indices:\n",
    "        ax.text(10.1, i, str(int(sum_val)), va='center', color='red', fontweight='bold')\n",
    "    elif i in med_indices:\n",
    "        ax.text(10.1, i, str(int(sum_val)), va='center', color='orange', fontweight='bold')\n",
    "    elif i in rest_indices:\n",
    "        ax.text(10.1, i, str(int(sum_val)), va='center', color='blue')\n",
    "\n",
    "ax.text(10.2, -1, 'Score', va='center', ha='center')\n",
    "plt.savefig('sgd_ovr_clf_cm.png');\n",
    "plt.show()"
   ]
  },
  {
   "cell_type": "markdown",
   "id": "2ced0f47",
   "metadata": {},
   "source": [
    "# RFC - OvO Metrics"
   ]
  },
  {
   "cell_type": "code",
   "execution_count": 40,
   "id": "906bc7dc",
   "metadata": {},
   "outputs": [],
   "source": [
    "from sklearn.multiclass import OneVsOneClassifier"
   ]
  },
  {
   "cell_type": "code",
   "execution_count": 44,
   "id": "287c6ea1",
   "metadata": {},
   "outputs": [],
   "source": [
    "rf_ovo_clf = joblib.load(\"ovo_rf_clf_colab.pkl\")"
   ]
  },
  {
   "cell_type": "code",
   "execution_count": null,
   "id": "0330e52f",
   "metadata": {},
   "outputs": [],
   "source": [
    "rf_ovo_clf_pred = rf_ovo_clf.predict(X_test)"
   ]
  },
  {
   "cell_type": "code",
   "execution_count": 46,
   "id": "efdbe9ff",
   "metadata": {},
   "outputs": [
    {
     "data": {
      "text/plain": [
       "0.9656"
      ]
     },
     "execution_count": 46,
     "metadata": {},
     "output_type": "execute_result"
    }
   ],
   "source": [
    "rf_ovo_clf_acc = accuracy_score( y_test, rf_ovo_clf_pred)\n",
    "\n",
    "rf_ovo_clf_acc"
   ]
  },
  {
   "cell_type": "code",
   "execution_count": 43,
   "id": "828eb999",
   "metadata": {},
   "outputs": [
    {
     "data": {
      "text/plain": [
       "True"
      ]
     },
     "execution_count": 43,
     "metadata": {},
     "output_type": "execute_result"
    }
   ],
   "source": [
    "isinstance(rf_ovo_clf.estimator, RandomForestClassifier)"
   ]
  },
  {
   "cell_type": "code",
   "execution_count": 47,
   "id": "8e583fa3",
   "metadata": {},
   "outputs": [
    {
     "data": {
      "text/plain": [
       "0.9654536968771158"
      ]
     },
     "execution_count": 47,
     "metadata": {},
     "output_type": "execute_result"
    }
   ],
   "source": [
    "rf_ovo_clf_prec = precision_score(y_test,  rf_ovo_clf_pred, average='macro')\n",
    "\n",
    "rf_ovo_clf_prec"
   ]
  },
  {
   "cell_type": "code",
   "execution_count": 48,
   "id": "3febd9fb",
   "metadata": {},
   "outputs": [
    {
     "data": {
      "text/plain": [
       "0.9656"
      ]
     },
     "execution_count": 48,
     "metadata": {},
     "output_type": "execute_result"
    }
   ],
   "source": [
    "rf_ovo_clf_rec = recall_score(y_test, rf_ovo_clf_pred, average='weighted')\n",
    "\n",
    "rf_ovo_clf_rec"
   ]
  },
  {
   "cell_type": "code",
   "execution_count": 49,
   "id": "8a10a432",
   "metadata": {},
   "outputs": [
    {
     "data": {
      "text/plain": [
       "0.9656443811404773"
      ]
     },
     "execution_count": 49,
     "metadata": {},
     "output_type": "execute_result"
    }
   ],
   "source": [
    "rf_ovo_clf_f1 = f1_score(y_test, rf_ovo_clf_pred, average='weighted')\n",
    "\n",
    "rf_ovo_clf_f1"
   ]
  },
  {
   "cell_type": "code",
   "execution_count": 50,
   "id": "9f65564a",
   "metadata": {
    "scrolled": false
   },
   "outputs": [
    {
     "data": {
      "image/png": "[encoded data removed]",
      "text/plain": [
       "<Figure size 640x480 with 2 Axes>"
      ]
     },
     "metadata": {},
     "output_type": "display_data"
    }
   ],
   "source": [
    "import matplotlib.pyplot as plt\n",
    "from sklearn.metrics import confusion_matrix\n",
    "\n",
    "rf_ovo_clf_cm = confusion_matrix(y_test, rf_ovo_clf_pred, labels=np.arange(10)) - np.eye(10)\n",
    "\n",
    "# for i in range(10):\n",
    "#     knn_en_cm[i][i] =0\n",
    "# knn_en_cm = knn_en_cm - np.eye(len(knn_en_cm))\n",
    "\n",
    "np.fill_diagonal(rf_ovo_clf_cm, 0)\n",
    "\n",
    "fig, ax = plt.subplots()\n",
    "im = ax.imshow(np.array(rf_ovo_clf_cm), cmap='OrRd') \n",
    "ax.figure.colorbar(im, ax=ax, pad=.2)\n",
    "ax.set_xticks(np.arange(10))\n",
    "ax.set_yticks(np.arange(10))\n",
    "ax.set_xlabel('Predicted')\n",
    "ax.set_ylabel('Actual')\n",
    "ax.set_title('Confusion Matrix', fontweight='bold')\n",
    "\n",
    "# Compute the sum of values for each predicted class\n",
    "sum_values = np.nansum(rf_ovo_clf_cm, axis=1)\n",
    "\n",
    "# Get the indices of the top 6 sum values in magnitude\n",
    "top_indices = np.argsort(sum_values)[-3:]\n",
    "med_indices = np.argsort(sum_values)[-6:-3]\n",
    "rest_indices = np.argsort(sum_values)[:-6]\n",
    "\n",
    "# Display the sum values on the right side\n",
    "\n",
    "for i, sum_val in enumerate(sum_values):\n",
    "    if np.isnan(sum_val):\n",
    "        sum_val = 0\n",
    "    if i in top_indices:\n",
    "        ax.text(10.1, i, str(int(sum_val)), va='center', color='red', fontweight='bold')\n",
    "    elif i in med_indices:\n",
    "        ax.text(10.1, i, str(int(sum_val)), va='center', color='orange', fontweight='bold')\n",
    "    elif i in rest_indices:\n",
    "        ax.text(10.1, i, str(int(sum_val)), va='center', color='blue')\n",
    "\n",
    "ax.text(10.2, -1, 'Score', va='center', ha='center')\n",
    "plt.savefig('rf_ovo_clf_cm.png');\n",
    "plt.show()"
   ]
  },
  {
   "cell_type": "code",
   "execution_count": 55,
   "id": "ee8ad463",
   "metadata": {},
   "outputs": [
    {
     "name": "stderr",
     "output_type": "stream",
     "text": [
      "/home/test/.local/lib/python3.10/site-packages/sklearn/datasets/_openml.py:968: FutureWarning: The default value of `parser` will change from `'liac-arff'` to `'auto'` in 1.4. You can set `parser='auto'` to silence this warning. Therefore, an `ImportError` will be raised from 1.4 if the dataset is dense and pandas is not installed. Note that the pandas parser may return different data types. See the Notes Section in fetch_openml's API doc for details.\n",
      "  warn(\n"
     ]
    },
    {
     "data": {
      "image/png": "[encoded data removed]",
      "text/plain": [
       "<Figure size 800x800 with 2 Axes>"
      ]
     },
     "metadata": {},
     "output_type": "display_data"
    }
   ],
   "source": [
    "from sklearn.ensemble import RandomForestClassifier\n",
    "from sklearn.datasets import fetch_openml\n",
    "import matplotlib.pyplot as plt\n",
    "import numpy as np\n",
    "\n",
    "# Load the MNIST dataset\n",
    "mnist = fetch_openml('mnist_784', version=1, cache=True)\n",
    "X = mnist['data']\n",
    "y = mnist['target']\n",
    "\n",
    "# Train a Random Forest Classifier for each class pair in the OneVsOneClassifier\n",
    "# Replace `ovr_clf` with your OneVsOneClassifier model\n",
    "for clf in rf_ovo_clf.estimators_:\n",
    "    if isinstance(clf, RandomForestClassifier):\n",
    "        rf_clf = clf\n",
    "        break\n",
    "\n",
    "# Calculate the average feature importance across all binary classifiers\n",
    "importances = np.mean([tree.feature_importances_ for tree in rf_clf.estimators_], axis=0)\n",
    "\n",
    "# Reshape feature importance to match the original image shape\n",
    "importances = importances.reshape((28, 28))\n",
    "\n",
    "# Visualize feature importance\n",
    "plt.figure(figsize=(8, 8))\n",
    "plt.imshow(importances, cmap='hot', interpolation='nearest')\n",
    "plt.title('Feature Importance - MNIST')\n",
    "plt.colorbar()\n",
    "plt.show()\n"
   ]
  },
  {
   "cell_type": "markdown",
   "id": "9252fda7",
   "metadata": {},
   "source": [
    "# RFC - OvR Metrics"
   ]
  },
  {
   "cell_type": "code",
   "execution_count": 45,
   "id": "e5fdb851",
   "metadata": {},
   "outputs": [],
   "source": [
    "rf_ovr_clf = joblib.load(\"ovr_rf_clf_colab.pkl\")"
   ]
  },
  {
   "cell_type": "code",
   "execution_count": 51,
   "id": "c36b8d6c",
   "metadata": {},
   "outputs": [
    {
     "data": {
      "text/plain": [
       "0.9665"
      ]
     },
     "execution_count": 51,
     "metadata": {},
     "output_type": "execute_result"
    }
   ],
   "source": [
    "rf_ovr_clf_pred = rf_ovr_clf.predict(X_test)\n",
    "\n",
    "rf_ovr_clf_acc = accuracy_score( y_test, rf_ovr_clf_pred)\n",
    "\n",
    "rf_ovr_clf_acc"
   ]
  },
  {
   "cell_type": "code",
   "execution_count": 52,
   "id": "9d753f8f",
   "metadata": {},
   "outputs": [
    {
     "data": {
      "text/plain": [
       "0.9664331517825872"
      ]
     },
     "execution_count": 52,
     "metadata": {},
     "output_type": "execute_result"
    }
   ],
   "source": [
    "rf_ovr_clf_prec = precision_score(y_test,  rf_ovr_clf_pred, average='macro')\n",
    "\n",
    "rf_ovr_clf_prec"
   ]
  },
  {
   "cell_type": "code",
   "execution_count": 53,
   "id": "144f3311",
   "metadata": {},
   "outputs": [
    {
     "data": {
      "text/plain": [
       "0.9665"
      ]
     },
     "execution_count": 53,
     "metadata": {},
     "output_type": "execute_result"
    }
   ],
   "source": [
    "rf_ovr_clf_rec = recall_score(y_test, rf_ovr_clf_pred, average='weighted')\n",
    "\n",
    "rf_ovr_clf_rec"
   ]
  },
  {
   "cell_type": "code",
   "execution_count": 54,
   "id": "aebe7536",
   "metadata": {},
   "outputs": [
    {
     "data": {
      "text/plain": [
       "0.9664931379194104"
      ]
     },
     "execution_count": 54,
     "metadata": {},
     "output_type": "execute_result"
    }
   ],
   "source": [
    "rf_ovr_clf_f1 = f1_score(y_test, rf_ovr_clf_pred, average='weighted')\n",
    "\n",
    "rf_ovr_clf_f1"
   ]
  },
  {
   "cell_type": "code",
   "execution_count": 55,
   "id": "4f63307c",
   "metadata": {
    "scrolled": false
   },
   "outputs": [
    {
     "data": {
      "image/png": "[encoded data removed]",
      "text/plain": [
       "<Figure size 640x480 with 2 Axes>"
      ]
     },
     "metadata": {},
     "output_type": "display_data"
    }
   ],
   "source": [
    "import matplotlib.pyplot as plt\n",
    "from sklearn.metrics import confusion_matrix\n",
    "\n",
    "rf_ovr_clf_cm = confusion_matrix(y_test, rf_ovr_clf_pred, labels=np.arange(10)) - np.eye(10)\n",
    "\n",
    "# for i in range(10):\n",
    "#     knn_en_cm[i][i] =0\n",
    "# knn_en_cm = knn_en_cm - np.eye(len(knn_en_cm))\n",
    "\n",
    "np.fill_diagonal(rf_ovr_clf_cm, 0)\n",
    "\n",
    "fig, ax = plt.subplots()\n",
    "im = ax.imshow(np.array(rf_ovr_clf_cm), cmap='OrRd') \n",
    "ax.figure.colorbar(im, ax=ax, pad=.2)\n",
    "ax.set_xticks(np.arange(10))\n",
    "ax.set_yticks(np.arange(10))\n",
    "ax.set_xlabel('Predicted')\n",
    "ax.set_ylabel('Actual')\n",
    "ax.set_title('Confusion Matrix', fontweight='bold')\n",
    "\n",
    "# Compute the sum of values for each predicted class\n",
    "sum_values = np.nansum(rf_ovr_clf_cm, axis=1)\n",
    "\n",
    "# Get the indices of the top 6 sum values in magnitude\n",
    "top_indices = np.argsort(sum_values)[-3:]\n",
    "med_indices = np.argsort(sum_values)[-6:-3]\n",
    "rest_indices = np.argsort(sum_values)[:-6]\n",
    "\n",
    "# Display the sum values on the right side\n",
    "\n",
    "for i, sum_val in enumerate(sum_values):\n",
    "    if np.isnan(sum_val):\n",
    "        sum_val = 0\n",
    "    if i in top_indices:\n",
    "        ax.text(10.1, i, str(int(sum_val)), va='center', color='red', fontweight='bold')\n",
    "    elif i in med_indices:\n",
    "        ax.text(10.1, i, str(int(sum_val)), va='center', color='orange', fontweight='bold')\n",
    "    elif i in rest_indices:\n",
    "        ax.text(10.1, i, str(int(sum_val)), va='center', color='blue')\n",
    "\n",
    "ax.text(10.2, -1, 'Score', va='center', ha='center')\n",
    "plt.savefig('rf_ovr_clf_cm.png');\n",
    "plt.show()"
   ]
  },
  {
   "cell_type": "code",
   "execution_count": 13,
   "id": "828d9732",
   "metadata": {},
   "outputs": [
    {
     "data": {
      "image/png": "[encoded data removed]",
      "text/plain": [
       "<Figure size 800x800 with 2 Axes>"
      ]
     },
     "metadata": {},
     "output_type": "display_data"
    }
   ],
   "source": [
    "import matplotlib.pyplot as plt\n",
    "\n",
    "# Calculate the average feature importance across all classes\n",
    "importances = np.mean([tree.feature_importances_ for tree in rf_ovr_clf.estimators_], axis=0)\n",
    "importances = importances.reshape((28, 28))\n",
    "\n",
    "# Visualize the feature importance\n",
    "plt.figure(figsize=(8, 8))\n",
    "plt.imshow(importances, cmap='hot', interpolation='nearest')\n",
    "plt.title('Feature Importance - Random Forest (OvR)')\n",
    "plt.colorbar()\n",
    "plt.show()"
   ]
  },
  {
   "cell_type": "markdown",
   "id": "2441daab",
   "metadata": {},
   "source": [
    "# SVC - OvO Metrics"
   ]
  },
  {
   "cell_type": "code",
   "execution_count": 46,
   "id": "5e1803c3",
   "metadata": {},
   "outputs": [],
   "source": [
    "svc_ovo_clf = joblib.load(\"ovo_svc_clf_colab.pkl\")"
   ]
  },
  {
   "cell_type": "code",
   "execution_count": null,
   "id": "7a6fd66e",
   "metadata": {},
   "outputs": [],
   "source": [
    "svc_ovo_clf_pred = svc_ovo_clf.predict(X_test)"
   ]
  },
  {
   "cell_type": "code",
   "execution_count": 56,
   "id": "483d9028",
   "metadata": {},
   "outputs": [
    {
     "name": "stderr",
     "output_type": "stream",
     "text": [
      "/home/test/.local/lib/python3.10/site-packages/sklearn/base.py:432: UserWarning: X has feature names, but SVC was fitted without feature names\n",
      "  warnings.warn(\n"
     ]
    },
    {
     "data": {
      "text/plain": [
       "0.1028"
      ]
     },
     "execution_count": 56,
     "metadata": {},
     "output_type": "execute_result"
    }
   ],
   "source": [
    "svc_ovo_clf_acc = accuracy_score(y_test, svc_ovo_clf_pred)\n",
    "\n",
    "svc_ovo_clf_acc"
   ]
  },
  {
   "cell_type": "code",
   "execution_count": 57,
   "id": "48ffa26a",
   "metadata": {},
   "outputs": [
    {
     "name": "stderr",
     "output_type": "stream",
     "text": [
      "/home/test/.local/lib/python3.10/site-packages/sklearn/metrics/_classification.py:1344: UndefinedMetricWarning: Precision is ill-defined and being set to 0.0 in labels with no predicted samples. Use `zero_division` parameter to control this behavior.\n",
      "  _warn_prf(average, modifier, msg_start, len(result))\n"
     ]
    },
    {
     "data": {
      "text/plain": [
       "0.010280000000000001"
      ]
     },
     "execution_count": 57,
     "metadata": {},
     "output_type": "execute_result"
    }
   ],
   "source": [
    "svc_ovo_clf_prec = precision_score(y_test, svc_ovo_clf_pred, average='macro')\n",
    "\n",
    "svc_ovo_clf_prec"
   ]
  },
  {
   "cell_type": "code",
   "execution_count": 58,
   "id": "d29f6646",
   "metadata": {},
   "outputs": [
    {
     "data": {
      "text/plain": [
       "0.1028"
      ]
     },
     "execution_count": 58,
     "metadata": {},
     "output_type": "execute_result"
    }
   ],
   "source": [
    "svc_ovo_clf_rec = recall_score(y_test, svc_ovo_clf_pred, average='weighted')\n",
    "\n",
    "svc_ovo_clf_rec"
   ]
  },
  {
   "cell_type": "code",
   "execution_count": 59,
   "id": "61049fa9",
   "metadata": {},
   "outputs": [
    {
     "data": {
      "text/plain": [
       "0.019165469713456656"
      ]
     },
     "execution_count": 59,
     "metadata": {},
     "output_type": "execute_result"
    }
   ],
   "source": [
    "svc_ovo_clf_f1 = f1_score(y_test, svc_ovo_clf_pred, average='weighted')\n",
    "\n",
    "svc_ovo_clf_f1"
   ]
  },
  {
   "cell_type": "code",
   "execution_count": 60,
   "id": "08c7e953",
   "metadata": {
    "scrolled": false
   },
   "outputs": [
    {
     "data": {
      "image/png": "[encoded data removed]",
      "text/plain": [
       "<Figure size 640x480 with 2 Axes>"
      ]
     },
     "metadata": {},
     "output_type": "display_data"
    }
   ],
   "source": [
    "import matplotlib.pyplot as plt\n",
    "from sklearn.metrics import confusion_matrix\n",
    "\n",
    "svc_ovo_clf_cm = confusion_matrix(y_test, svc_ovo_clf_pred, labels=np.arange(10)) - np.eye(10)\n",
    "\n",
    "# for i in range(10):\n",
    "#     knn_en_cm[i][i] =0\n",
    "# knn_en_cm = knn_en_cm - np.eye(len(knn_en_cm))\n",
    "\n",
    "np.fill_diagonal(svc_ovo_clf_cm, 0)\n",
    "\n",
    "fig, ax = plt.subplots()\n",
    "im = ax.imshow(np.array(svc_ovo_clf_cm), cmap='OrRd') \n",
    "ax.figure.colorbar(im, ax=ax, pad=.2)\n",
    "ax.set_xticks(np.arange(10))\n",
    "ax.set_yticks(np.arange(10))\n",
    "ax.set_xlabel('Predicted')\n",
    "ax.set_ylabel('Actual')\n",
    "ax.set_title('Confusion Matrix', fontweight='bold')\n",
    "\n",
    "# Compute the sum of values for each predicted class\n",
    "sum_values = np.nansum(svc_ovo_clf_cm, axis=1)\n",
    "\n",
    "# Get the indices of the top 6 sum values in magnitude\n",
    "top_indices = np.argsort(sum_values)[-3:]\n",
    "med_indices = np.argsort(sum_values)[-6:-3]\n",
    "rest_indices = np.argsort(sum_values)[:-6]\n",
    "\n",
    "# Display the sum values on the right side\n",
    "\n",
    "for i, sum_val in enumerate(sum_values):\n",
    "    if np.isnan(sum_val):\n",
    "        sum_val = 0\n",
    "    if i in top_indices:\n",
    "        ax.text(10.1, i, str(int(sum_val)), va='center', color='red', fontweight='bold')\n",
    "    elif i in med_indices:\n",
    "        ax.text(10.1, i, str(int(sum_val)), va='center', color='orange', fontweight='bold')\n",
    "    elif i in rest_indices:\n",
    "        ax.text(10.1, i, str(int(sum_val)), va='center', color='blue')\n",
    "\n",
    "ax.text(10.2, -1, 'Score', va='center', ha='center')\n",
    "# plt.savefig('svc_ovo_clf_cm.png');\n",
    "plt.show()"
   ]
  },
  {
   "cell_type": "code",
   "execution_count": 24,
   "id": "cc157073",
   "metadata": {},
   "outputs": [
    {
     "name": "stderr",
     "output_type": "stream",
     "text": [
      "/home/test/.local/lib/python3.10/site-packages/sklearn/base.py:432: UserWarning: X has feature names, but SVC was fitted without feature names\n",
      "  warnings.warn(\n",
      "/home/test/.local/lib/python3.10/site-packages/sklearn/base.py:432: UserWarning: X has feature names, but SVC was fitted without feature names\n",
      "  warnings.warn(\n",
      "/home/test/.local/lib/python3.10/site-packages/sklearn/base.py:432: UserWarning: X has feature names, but SVC was fitted without feature names\n",
      "  warnings.warn(\n",
      "/home/test/.local/lib/python3.10/site-packages/sklearn/base.py:432: UserWarning: X has feature names, but SVC was fitted without feature names\n",
      "  warnings.warn(\n",
      "/home/test/.local/lib/python3.10/site-packages/sklearn/base.py:432: UserWarning: X has feature names, but SVC was fitted without feature names\n",
      "  warnings.warn(\n",
      "/home/test/.local/lib/python3.10/site-packages/sklearn/base.py:432: UserWarning: X has feature names, but SVC was fitted without feature names\n",
      "  warnings.warn(\n",
      "/home/test/.local/lib/python3.10/site-packages/sklearn/base.py:432: UserWarning: X has feature names, but SVC was fitted without feature names\n",
      "  warnings.warn(\n",
      "/home/test/.local/lib/python3.10/site-packages/sklearn/base.py:432: UserWarning: X has feature names, but SVC was fitted without feature names\n",
      "  warnings.warn(\n",
      "/home/test/.local/lib/python3.10/site-packages/sklearn/base.py:432: UserWarning: X has feature names, but SVC was fitted without feature names\n",
      "  warnings.warn(\n",
      "/home/test/.local/lib/python3.10/site-packages/sklearn/base.py:432: UserWarning: X has feature names, but SVC was fitted without feature names\n",
      "  warnings.warn(\n",
      "/home/test/.local/lib/python3.10/site-packages/sklearn/base.py:432: UserWarning: X has feature names, but SVC was fitted without feature names\n",
      "  warnings.warn(\n",
      "/home/test/.local/lib/python3.10/site-packages/sklearn/base.py:432: UserWarning: X has feature names, but SVC was fitted without feature names\n",
      "  warnings.warn(\n",
      "/home/test/.local/lib/python3.10/site-packages/sklearn/base.py:432: UserWarning: X has feature names, but SVC was fitted without feature names\n",
      "  warnings.warn(\n",
      "/home/test/.local/lib/python3.10/site-packages/sklearn/base.py:432: UserWarning: X has feature names, but SVC was fitted without feature names\n",
      "  warnings.warn(\n",
      "/home/test/.local/lib/python3.10/site-packages/sklearn/base.py:432: UserWarning: X has feature names, but SVC was fitted without feature names\n",
      "  warnings.warn(\n",
      "/home/test/.local/lib/python3.10/site-packages/sklearn/base.py:432: UserWarning: X has feature names, but SVC was fitted without feature names\n",
      "  warnings.warn(\n",
      "/home/test/.local/lib/python3.10/site-packages/sklearn/base.py:432: UserWarning: X has feature names, but SVC was fitted without feature names\n",
      "  warnings.warn(\n",
      "/home/test/.local/lib/python3.10/site-packages/sklearn/base.py:432: UserWarning: X has feature names, but SVC was fitted without feature names\n",
      "  warnings.warn(\n",
      "/home/test/.local/lib/python3.10/site-packages/sklearn/base.py:432: UserWarning: X has feature names, but SVC was fitted without feature names\n",
      "  warnings.warn(\n",
      "/home/test/.local/lib/python3.10/site-packages/sklearn/base.py:432: UserWarning: X has feature names, but SVC was fitted without feature names\n",
      "  warnings.warn(\n",
      "/home/test/.local/lib/python3.10/site-packages/sklearn/base.py:432: UserWarning: X has feature names, but SVC was fitted without feature names\n",
      "  warnings.warn(\n",
      "/home/test/.local/lib/python3.10/site-packages/sklearn/base.py:432: UserWarning: X has feature names, but SVC was fitted without feature names\n",
      "  warnings.warn(\n",
      "/home/test/.local/lib/python3.10/site-packages/sklearn/base.py:432: UserWarning: X has feature names, but SVC was fitted without feature names\n",
      "  warnings.warn(\n",
      "/home/test/.local/lib/python3.10/site-packages/sklearn/base.py:432: UserWarning: X has feature names, but SVC was fitted without feature names\n",
      "  warnings.warn(\n",
      "/home/test/.local/lib/python3.10/site-packages/sklearn/base.py:432: UserWarning: X has feature names, but SVC was fitted without feature names\n",
      "  warnings.warn(\n",
      "/home/test/.local/lib/python3.10/site-packages/sklearn/base.py:432: UserWarning: X has feature names, but SVC was fitted without feature names\n",
      "  warnings.warn(\n",
      "/home/test/.local/lib/python3.10/site-packages/sklearn/base.py:432: UserWarning: X has feature names, but SVC was fitted without feature names\n",
      "  warnings.warn(\n",
      "/home/test/.local/lib/python3.10/site-packages/sklearn/base.py:432: UserWarning: X has feature names, but SVC was fitted without feature names\n",
      "  warnings.warn(\n",
      "/home/test/.local/lib/python3.10/site-packages/sklearn/base.py:432: UserWarning: X has feature names, but SVC was fitted without feature names\n",
      "  warnings.warn(\n",
      "/home/test/.local/lib/python3.10/site-packages/sklearn/base.py:432: UserWarning: X has feature names, but SVC was fitted without feature names\n",
      "  warnings.warn(\n",
      "/home/test/.local/lib/python3.10/site-packages/sklearn/base.py:432: UserWarning: X has feature names, but SVC was fitted without feature names\n",
      "  warnings.warn(\n",
      "/home/test/.local/lib/python3.10/site-packages/sklearn/base.py:432: UserWarning: X has feature names, but SVC was fitted without feature names\n",
      "  warnings.warn(\n",
      "/home/test/.local/lib/python3.10/site-packages/sklearn/base.py:432: UserWarning: X has feature names, but SVC was fitted without feature names\n",
      "  warnings.warn(\n",
      "/home/test/.local/lib/python3.10/site-packages/sklearn/base.py:432: UserWarning: X has feature names, but SVC was fitted without feature names\n",
      "  warnings.warn(\n",
      "/home/test/.local/lib/python3.10/site-packages/sklearn/base.py:432: UserWarning: X has feature names, but SVC was fitted without feature names\n",
      "  warnings.warn(\n",
      "/home/test/.local/lib/python3.10/site-packages/sklearn/base.py:432: UserWarning: X has feature names, but SVC was fitted without feature names\n",
      "  warnings.warn(\n",
      "/home/test/.local/lib/python3.10/site-packages/sklearn/base.py:432: UserWarning: X has feature names, but SVC was fitted without feature names\n",
      "  warnings.warn(\n",
      "/home/test/.local/lib/python3.10/site-packages/sklearn/base.py:432: UserWarning: X has feature names, but SVC was fitted without feature names\n",
      "  warnings.warn(\n",
      "/home/test/.local/lib/python3.10/site-packages/sklearn/base.py:432: UserWarning: X has feature names, but SVC was fitted without feature names\n",
      "  warnings.warn(\n",
      "/home/test/.local/lib/python3.10/site-packages/sklearn/base.py:432: UserWarning: X has feature names, but SVC was fitted without feature names\n",
      "  warnings.warn(\n",
      "/home/test/.local/lib/python3.10/site-packages/sklearn/base.py:432: UserWarning: X has feature names, but SVC was fitted without feature names\n",
      "  warnings.warn(\n",
      "/home/test/.local/lib/python3.10/site-packages/sklearn/base.py:432: UserWarning: X has feature names, but SVC was fitted without feature names\n",
      "  warnings.warn(\n",
      "/home/test/.local/lib/python3.10/site-packages/sklearn/base.py:432: UserWarning: X has feature names, but SVC was fitted without feature names\n",
      "  warnings.warn(\n",
      "/home/test/.local/lib/python3.10/site-packages/sklearn/base.py:432: UserWarning: X has feature names, but SVC was fitted without feature names\n",
      "  warnings.warn(\n",
      "/home/test/.local/lib/python3.10/site-packages/sklearn/base.py:432: UserWarning: X has feature names, but SVC was fitted without feature names\n",
      "  warnings.warn(\n",
      "/home/test/.local/lib/python3.10/site-packages/sklearn/base.py:432: UserWarning: X has feature names, but SVC was fitted without feature names\n",
      "  warnings.warn(\n",
      "/home/test/.local/lib/python3.10/site-packages/sklearn/base.py:432: UserWarning: X has feature names, but SVC was fitted without feature names\n",
      "  warnings.warn(\n",
      "/home/test/.local/lib/python3.10/site-packages/sklearn/base.py:432: UserWarning: X has feature names, but SVC was fitted without feature names\n",
      "  warnings.warn(\n",
      "/home/test/.local/lib/python3.10/site-packages/sklearn/base.py:432: UserWarning: X has feature names, but SVC was fitted without feature names\n",
      "  warnings.warn(\n",
      "/home/test/.local/lib/python3.10/site-packages/sklearn/base.py:432: UserWarning: X has feature names, but SVC was fitted without feature names\n",
      "  warnings.warn(\n",
      "/home/test/.local/lib/python3.10/site-packages/sklearn/base.py:432: UserWarning: X has feature names, but SVC was fitted without feature names\n",
      "  warnings.warn(\n"
     ]
    },
    {
     "ename": "KeyboardInterrupt",
     "evalue": "",
     "output_type": "error",
     "traceback": [
      "\u001b[0;31m---------------------------------------------------------------------------\u001b[0m",
      "\u001b[0;31mKeyboardInterrupt\u001b[0m                         Traceback (most recent call last)",
      "Cell \u001b[0;32mIn[24], line 4\u001b[0m\n\u001b[1;32m      1\u001b[0m \u001b[38;5;28;01mfrom\u001b[39;00m \u001b[38;5;21;01msklearn\u001b[39;00m\u001b[38;5;21;01m.\u001b[39;00m\u001b[38;5;21;01minspection\u001b[39;00m \u001b[38;5;28;01mimport\u001b[39;00m permutation_importance\n\u001b[1;32m      3\u001b[0m \u001b[38;5;66;03m# Calculate the average feature importance across all classes\u001b[39;00m\n\u001b[0;32m----> 4\u001b[0m result \u001b[38;5;241m=\u001b[39m \u001b[43mpermutation_importance\u001b[49m\u001b[43m(\u001b[49m\u001b[43msvc_ovo_clf\u001b[49m\u001b[43m,\u001b[49m\u001b[43m \u001b[49m\u001b[43mX_train_full\u001b[49m\u001b[43m,\u001b[49m\u001b[43m \u001b[49m\u001b[43my_train_full\u001b[49m\u001b[43m,\u001b[49m\u001b[43m \u001b[49m\u001b[43mn_repeats\u001b[49m\u001b[38;5;241;43m=\u001b[39;49m\u001b[38;5;241;43m10\u001b[39;49m\u001b[43m,\u001b[49m\u001b[43m \u001b[49m\u001b[43mrandom_state\u001b[49m\u001b[38;5;241;43m=\u001b[39;49m\u001b[38;5;241;43m42\u001b[39;49m\u001b[43m)\u001b[49m\n\u001b[1;32m      5\u001b[0m importances \u001b[38;5;241m=\u001b[39m result\u001b[38;5;241m.\u001b[39mimportances_mean\u001b[38;5;241m.\u001b[39mreshape((\u001b[38;5;241m28\u001b[39m, \u001b[38;5;241m28\u001b[39m))\n\u001b[1;32m      7\u001b[0m \u001b[38;5;66;03m# Visualize the feature importance\u001b[39;00m\n",
      "File \u001b[0;32m~/.local/lib/python3.10/site-packages/sklearn/inspection/_permutation_importance.py:258\u001b[0m, in \u001b[0;36mpermutation_importance\u001b[0;34m(estimator, X, y, scoring, n_repeats, n_jobs, random_state, sample_weight, max_samples)\u001b[0m\n\u001b[1;32m    254\u001b[0m     scorer \u001b[38;5;241m=\u001b[39m _MultimetricScorer(scorers\u001b[38;5;241m=\u001b[39mscorers_dict)\n\u001b[1;32m    256\u001b[0m baseline_score \u001b[38;5;241m=\u001b[39m _weights_scorer(scorer, estimator, X, y, sample_weight)\n\u001b[0;32m--> 258\u001b[0m scores \u001b[38;5;241m=\u001b[39m \u001b[43mParallel\u001b[49m\u001b[43m(\u001b[49m\u001b[43mn_jobs\u001b[49m\u001b[38;5;241;43m=\u001b[39;49m\u001b[43mn_jobs\u001b[49m\u001b[43m)\u001b[49m\u001b[43m(\u001b[49m\n\u001b[1;32m    259\u001b[0m \u001b[43m    \u001b[49m\u001b[43mdelayed\u001b[49m\u001b[43m(\u001b[49m\u001b[43m_calculate_permutation_scores\u001b[49m\u001b[43m)\u001b[49m\u001b[43m(\u001b[49m\n\u001b[1;32m    260\u001b[0m \u001b[43m        \u001b[49m\u001b[43mestimator\u001b[49m\u001b[43m,\u001b[49m\n\u001b[1;32m    261\u001b[0m \u001b[43m        \u001b[49m\u001b[43mX\u001b[49m\u001b[43m,\u001b[49m\n\u001b[1;32m    262\u001b[0m \u001b[43m        \u001b[49m\u001b[43my\u001b[49m\u001b[43m,\u001b[49m\n\u001b[1;32m    263\u001b[0m \u001b[43m        \u001b[49m\u001b[43msample_weight\u001b[49m\u001b[43m,\u001b[49m\n\u001b[1;32m    264\u001b[0m \u001b[43m        \u001b[49m\u001b[43mcol_idx\u001b[49m\u001b[43m,\u001b[49m\n\u001b[1;32m    265\u001b[0m \u001b[43m        \u001b[49m\u001b[43mrandom_seed\u001b[49m\u001b[43m,\u001b[49m\n\u001b[1;32m    266\u001b[0m \u001b[43m        \u001b[49m\u001b[43mn_repeats\u001b[49m\u001b[43m,\u001b[49m\n\u001b[1;32m    267\u001b[0m \u001b[43m        \u001b[49m\u001b[43mscorer\u001b[49m\u001b[43m,\u001b[49m\n\u001b[1;32m    268\u001b[0m \u001b[43m        \u001b[49m\u001b[43mmax_samples\u001b[49m\u001b[43m,\u001b[49m\n\u001b[1;32m    269\u001b[0m \u001b[43m    \u001b[49m\u001b[43m)\u001b[49m\n\u001b[1;32m    270\u001b[0m \u001b[43m    \u001b[49m\u001b[38;5;28;43;01mfor\u001b[39;49;00m\u001b[43m \u001b[49m\u001b[43mcol_idx\u001b[49m\u001b[43m \u001b[49m\u001b[38;5;129;43;01min\u001b[39;49;00m\u001b[43m \u001b[49m\u001b[38;5;28;43mrange\u001b[39;49m\u001b[43m(\u001b[49m\u001b[43mX\u001b[49m\u001b[38;5;241;43m.\u001b[39;49m\u001b[43mshape\u001b[49m\u001b[43m[\u001b[49m\u001b[38;5;241;43m1\u001b[39;49m\u001b[43m]\u001b[49m\u001b[43m)\u001b[49m\n\u001b[1;32m    271\u001b[0m \u001b[43m\u001b[49m\u001b[43m)\u001b[49m\n\u001b[1;32m    273\u001b[0m \u001b[38;5;28;01mif\u001b[39;00m \u001b[38;5;28misinstance\u001b[39m(baseline_score, \u001b[38;5;28mdict\u001b[39m):\n\u001b[1;32m    274\u001b[0m     \u001b[38;5;28;01mreturn\u001b[39;00m {\n\u001b[1;32m    275\u001b[0m         name: _create_importances_bunch(\n\u001b[1;32m    276\u001b[0m             baseline_score[name],\n\u001b[0;32m   (...)\u001b[0m\n\u001b[1;32m    280\u001b[0m         \u001b[38;5;28;01mfor\u001b[39;00m name \u001b[38;5;129;01min\u001b[39;00m baseline_score\n\u001b[1;32m    281\u001b[0m     }\n",
      "File \u001b[0;32m~/.local/lib/python3.10/site-packages/sklearn/utils/parallel.py:63\u001b[0m, in \u001b[0;36mParallel.__call__\u001b[0;34m(self, iterable)\u001b[0m\n\u001b[1;32m     58\u001b[0m config \u001b[38;5;241m=\u001b[39m get_config()\n\u001b[1;32m     59\u001b[0m iterable_with_config \u001b[38;5;241m=\u001b[39m (\n\u001b[1;32m     60\u001b[0m     (_with_config(delayed_func, config), args, kwargs)\n\u001b[1;32m     61\u001b[0m     \u001b[38;5;28;01mfor\u001b[39;00m delayed_func, args, kwargs \u001b[38;5;129;01min\u001b[39;00m iterable\n\u001b[1;32m     62\u001b[0m )\n\u001b[0;32m---> 63\u001b[0m \u001b[38;5;28;01mreturn\u001b[39;00m \u001b[38;5;28;43msuper\u001b[39;49m\u001b[43m(\u001b[49m\u001b[43m)\u001b[49m\u001b[38;5;241;43m.\u001b[39;49m\u001b[38;5;21;43m__call__\u001b[39;49m\u001b[43m(\u001b[49m\u001b[43miterable_with_config\u001b[49m\u001b[43m)\u001b[49m\n",
      "File \u001b[0;32m~/.local/lib/python3.10/site-packages/joblib/parallel.py:1088\u001b[0m, in \u001b[0;36mParallel.__call__\u001b[0;34m(self, iterable)\u001b[0m\n\u001b[1;32m   1085\u001b[0m \u001b[38;5;28;01mif\u001b[39;00m \u001b[38;5;28mself\u001b[39m\u001b[38;5;241m.\u001b[39mdispatch_one_batch(iterator):\n\u001b[1;32m   1086\u001b[0m     \u001b[38;5;28mself\u001b[39m\u001b[38;5;241m.\u001b[39m_iterating \u001b[38;5;241m=\u001b[39m \u001b[38;5;28mself\u001b[39m\u001b[38;5;241m.\u001b[39m_original_iterator \u001b[38;5;129;01mis\u001b[39;00m \u001b[38;5;129;01mnot\u001b[39;00m \u001b[38;5;28;01mNone\u001b[39;00m\n\u001b[0;32m-> 1088\u001b[0m \u001b[38;5;28;01mwhile\u001b[39;00m \u001b[38;5;28;43mself\u001b[39;49m\u001b[38;5;241;43m.\u001b[39;49m\u001b[43mdispatch_one_batch\u001b[49m\u001b[43m(\u001b[49m\u001b[43miterator\u001b[49m\u001b[43m)\u001b[49m:\n\u001b[1;32m   1089\u001b[0m     \u001b[38;5;28;01mpass\u001b[39;00m\n\u001b[1;32m   1091\u001b[0m \u001b[38;5;28;01mif\u001b[39;00m pre_dispatch \u001b[38;5;241m==\u001b[39m \u001b[38;5;124m\"\u001b[39m\u001b[38;5;124mall\u001b[39m\u001b[38;5;124m\"\u001b[39m \u001b[38;5;129;01mor\u001b[39;00m n_jobs \u001b[38;5;241m==\u001b[39m \u001b[38;5;241m1\u001b[39m:\n\u001b[1;32m   1092\u001b[0m     \u001b[38;5;66;03m# The iterable was consumed all at once by the above for loop.\u001b[39;00m\n\u001b[1;32m   1093\u001b[0m     \u001b[38;5;66;03m# No need to wait for async callbacks to trigger to\u001b[39;00m\n\u001b[1;32m   1094\u001b[0m     \u001b[38;5;66;03m# consumption.\u001b[39;00m\n",
      "File \u001b[0;32m~/.local/lib/python3.10/site-packages/joblib/parallel.py:901\u001b[0m, in \u001b[0;36mParallel.dispatch_one_batch\u001b[0;34m(self, iterator)\u001b[0m\n\u001b[1;32m    899\u001b[0m     \u001b[38;5;28;01mreturn\u001b[39;00m \u001b[38;5;28;01mFalse\u001b[39;00m\n\u001b[1;32m    900\u001b[0m \u001b[38;5;28;01melse\u001b[39;00m:\n\u001b[0;32m--> 901\u001b[0m     \u001b[38;5;28;43mself\u001b[39;49m\u001b[38;5;241;43m.\u001b[39;49m\u001b[43m_dispatch\u001b[49m\u001b[43m(\u001b[49m\u001b[43mtasks\u001b[49m\u001b[43m)\u001b[49m\n\u001b[1;32m    902\u001b[0m     \u001b[38;5;28;01mreturn\u001b[39;00m \u001b[38;5;28;01mTrue\u001b[39;00m\n",
      "File \u001b[0;32m~/.local/lib/python3.10/site-packages/joblib/parallel.py:819\u001b[0m, in \u001b[0;36mParallel._dispatch\u001b[0;34m(self, batch)\u001b[0m\n\u001b[1;32m    817\u001b[0m \u001b[38;5;28;01mwith\u001b[39;00m \u001b[38;5;28mself\u001b[39m\u001b[38;5;241m.\u001b[39m_lock:\n\u001b[1;32m    818\u001b[0m     job_idx \u001b[38;5;241m=\u001b[39m \u001b[38;5;28mlen\u001b[39m(\u001b[38;5;28mself\u001b[39m\u001b[38;5;241m.\u001b[39m_jobs)\n\u001b[0;32m--> 819\u001b[0m     job \u001b[38;5;241m=\u001b[39m \u001b[38;5;28;43mself\u001b[39;49m\u001b[38;5;241;43m.\u001b[39;49m\u001b[43m_backend\u001b[49m\u001b[38;5;241;43m.\u001b[39;49m\u001b[43mapply_async\u001b[49m\u001b[43m(\u001b[49m\u001b[43mbatch\u001b[49m\u001b[43m,\u001b[49m\u001b[43m \u001b[49m\u001b[43mcallback\u001b[49m\u001b[38;5;241;43m=\u001b[39;49m\u001b[43mcb\u001b[49m\u001b[43m)\u001b[49m\n\u001b[1;32m    820\u001b[0m     \u001b[38;5;66;03m# A job can complete so quickly than its callback is\u001b[39;00m\n\u001b[1;32m    821\u001b[0m     \u001b[38;5;66;03m# called before we get here, causing self._jobs to\u001b[39;00m\n\u001b[1;32m    822\u001b[0m     \u001b[38;5;66;03m# grow. To ensure correct results ordering, .insert is\u001b[39;00m\n\u001b[1;32m    823\u001b[0m     \u001b[38;5;66;03m# used (rather than .append) in the following line\u001b[39;00m\n\u001b[1;32m    824\u001b[0m     \u001b[38;5;28mself\u001b[39m\u001b[38;5;241m.\u001b[39m_jobs\u001b[38;5;241m.\u001b[39minsert(job_idx, job)\n",
      "File \u001b[0;32m~/.local/lib/python3.10/site-packages/joblib/_parallel_backends.py:208\u001b[0m, in \u001b[0;36mSequentialBackend.apply_async\u001b[0;34m(self, func, callback)\u001b[0m\n\u001b[1;32m    206\u001b[0m \u001b[38;5;28;01mdef\u001b[39;00m \u001b[38;5;21mapply_async\u001b[39m(\u001b[38;5;28mself\u001b[39m, func, callback\u001b[38;5;241m=\u001b[39m\u001b[38;5;28;01mNone\u001b[39;00m):\n\u001b[1;32m    207\u001b[0m \u001b[38;5;250m    \u001b[39m\u001b[38;5;124;03m\"\"\"Schedule a func to be run\"\"\"\u001b[39;00m\n\u001b[0;32m--> 208\u001b[0m     result \u001b[38;5;241m=\u001b[39m \u001b[43mImmediateResult\u001b[49m\u001b[43m(\u001b[49m\u001b[43mfunc\u001b[49m\u001b[43m)\u001b[49m\n\u001b[1;32m    209\u001b[0m     \u001b[38;5;28;01mif\u001b[39;00m callback:\n\u001b[1;32m    210\u001b[0m         callback(result)\n",
      "File \u001b[0;32m~/.local/lib/python3.10/site-packages/joblib/_parallel_backends.py:597\u001b[0m, in \u001b[0;36mImmediateResult.__init__\u001b[0;34m(self, batch)\u001b[0m\n\u001b[1;32m    594\u001b[0m \u001b[38;5;28;01mdef\u001b[39;00m \u001b[38;5;21m__init__\u001b[39m(\u001b[38;5;28mself\u001b[39m, batch):\n\u001b[1;32m    595\u001b[0m     \u001b[38;5;66;03m# Don't delay the application, to avoid keeping the input\u001b[39;00m\n\u001b[1;32m    596\u001b[0m     \u001b[38;5;66;03m# arguments in memory\u001b[39;00m\n\u001b[0;32m--> 597\u001b[0m     \u001b[38;5;28mself\u001b[39m\u001b[38;5;241m.\u001b[39mresults \u001b[38;5;241m=\u001b[39m \u001b[43mbatch\u001b[49m\u001b[43m(\u001b[49m\u001b[43m)\u001b[49m\n",
      "File \u001b[0;32m~/.local/lib/python3.10/site-packages/joblib/parallel.py:288\u001b[0m, in \u001b[0;36mBatchedCalls.__call__\u001b[0;34m(self)\u001b[0m\n\u001b[1;32m    284\u001b[0m \u001b[38;5;28;01mdef\u001b[39;00m \u001b[38;5;21m__call__\u001b[39m(\u001b[38;5;28mself\u001b[39m):\n\u001b[1;32m    285\u001b[0m     \u001b[38;5;66;03m# Set the default nested backend to self._backend but do not set the\u001b[39;00m\n\u001b[1;32m    286\u001b[0m     \u001b[38;5;66;03m# change the default number of processes to -1\u001b[39;00m\n\u001b[1;32m    287\u001b[0m     \u001b[38;5;28;01mwith\u001b[39;00m parallel_backend(\u001b[38;5;28mself\u001b[39m\u001b[38;5;241m.\u001b[39m_backend, n_jobs\u001b[38;5;241m=\u001b[39m\u001b[38;5;28mself\u001b[39m\u001b[38;5;241m.\u001b[39m_n_jobs):\n\u001b[0;32m--> 288\u001b[0m         \u001b[38;5;28;01mreturn\u001b[39;00m [func(\u001b[38;5;241m*\u001b[39margs, \u001b[38;5;241m*\u001b[39m\u001b[38;5;241m*\u001b[39mkwargs)\n\u001b[1;32m    289\u001b[0m                 \u001b[38;5;28;01mfor\u001b[39;00m func, args, kwargs \u001b[38;5;129;01min\u001b[39;00m \u001b[38;5;28mself\u001b[39m\u001b[38;5;241m.\u001b[39mitems]\n",
      "File \u001b[0;32m~/.local/lib/python3.10/site-packages/joblib/parallel.py:288\u001b[0m, in \u001b[0;36m<listcomp>\u001b[0;34m(.0)\u001b[0m\n\u001b[1;32m    284\u001b[0m \u001b[38;5;28;01mdef\u001b[39;00m \u001b[38;5;21m__call__\u001b[39m(\u001b[38;5;28mself\u001b[39m):\n\u001b[1;32m    285\u001b[0m     \u001b[38;5;66;03m# Set the default nested backend to self._backend but do not set the\u001b[39;00m\n\u001b[1;32m    286\u001b[0m     \u001b[38;5;66;03m# change the default number of processes to -1\u001b[39;00m\n\u001b[1;32m    287\u001b[0m     \u001b[38;5;28;01mwith\u001b[39;00m parallel_backend(\u001b[38;5;28mself\u001b[39m\u001b[38;5;241m.\u001b[39m_backend, n_jobs\u001b[38;5;241m=\u001b[39m\u001b[38;5;28mself\u001b[39m\u001b[38;5;241m.\u001b[39m_n_jobs):\n\u001b[0;32m--> 288\u001b[0m         \u001b[38;5;28;01mreturn\u001b[39;00m [\u001b[43mfunc\u001b[49m\u001b[43m(\u001b[49m\u001b[38;5;241;43m*\u001b[39;49m\u001b[43margs\u001b[49m\u001b[43m,\u001b[49m\u001b[43m \u001b[49m\u001b[38;5;241;43m*\u001b[39;49m\u001b[38;5;241;43m*\u001b[39;49m\u001b[43mkwargs\u001b[49m\u001b[43m)\u001b[49m\n\u001b[1;32m    289\u001b[0m                 \u001b[38;5;28;01mfor\u001b[39;00m func, args, kwargs \u001b[38;5;129;01min\u001b[39;00m \u001b[38;5;28mself\u001b[39m\u001b[38;5;241m.\u001b[39mitems]\n",
      "File \u001b[0;32m~/.local/lib/python3.10/site-packages/sklearn/utils/parallel.py:123\u001b[0m, in \u001b[0;36m_FuncWrapper.__call__\u001b[0;34m(self, *args, **kwargs)\u001b[0m\n\u001b[1;32m    121\u001b[0m     config \u001b[38;5;241m=\u001b[39m {}\n\u001b[1;32m    122\u001b[0m \u001b[38;5;28;01mwith\u001b[39;00m config_context(\u001b[38;5;241m*\u001b[39m\u001b[38;5;241m*\u001b[39mconfig):\n\u001b[0;32m--> 123\u001b[0m     \u001b[38;5;28;01mreturn\u001b[39;00m \u001b[38;5;28;43mself\u001b[39;49m\u001b[38;5;241;43m.\u001b[39;49m\u001b[43mfunction\u001b[49m\u001b[43m(\u001b[49m\u001b[38;5;241;43m*\u001b[39;49m\u001b[43margs\u001b[49m\u001b[43m,\u001b[49m\u001b[43m \u001b[49m\u001b[38;5;241;43m*\u001b[39;49m\u001b[38;5;241;43m*\u001b[39;49m\u001b[43mkwargs\u001b[49m\u001b[43m)\u001b[49m\n",
      "File \u001b[0;32m~/.local/lib/python3.10/site-packages/sklearn/inspection/_permutation_importance.py:63\u001b[0m, in \u001b[0;36m_calculate_permutation_scores\u001b[0;34m(estimator, X, y, sample_weight, col_idx, random_state, n_repeats, scorer, max_samples)\u001b[0m\n\u001b[1;32m     61\u001b[0m     \u001b[38;5;28;01melse\u001b[39;00m:\n\u001b[1;32m     62\u001b[0m         X_permuted[:, col_idx] \u001b[38;5;241m=\u001b[39m X_permuted[shuffling_idx, col_idx]\n\u001b[0;32m---> 63\u001b[0m     scores\u001b[38;5;241m.\u001b[39mappend(\u001b[43m_weights_scorer\u001b[49m\u001b[43m(\u001b[49m\u001b[43mscorer\u001b[49m\u001b[43m,\u001b[49m\u001b[43m \u001b[49m\u001b[43mestimator\u001b[49m\u001b[43m,\u001b[49m\u001b[43m \u001b[49m\u001b[43mX_permuted\u001b[49m\u001b[43m,\u001b[49m\u001b[43m \u001b[49m\u001b[43my\u001b[49m\u001b[43m,\u001b[49m\u001b[43m \u001b[49m\u001b[43msample_weight\u001b[49m\u001b[43m)\u001b[49m)\n\u001b[1;32m     65\u001b[0m \u001b[38;5;28;01mif\u001b[39;00m \u001b[38;5;28misinstance\u001b[39m(scores[\u001b[38;5;241m0\u001b[39m], \u001b[38;5;28mdict\u001b[39m):\n\u001b[1;32m     66\u001b[0m     scores \u001b[38;5;241m=\u001b[39m _aggregate_score_dicts(scores)\n",
      "File \u001b[0;32m~/.local/lib/python3.10/site-packages/sklearn/inspection/_permutation_importance.py:18\u001b[0m, in \u001b[0;36m_weights_scorer\u001b[0;34m(scorer, estimator, X, y, sample_weight)\u001b[0m\n\u001b[1;32m     16\u001b[0m \u001b[38;5;28;01mif\u001b[39;00m sample_weight \u001b[38;5;129;01mis\u001b[39;00m \u001b[38;5;129;01mnot\u001b[39;00m \u001b[38;5;28;01mNone\u001b[39;00m:\n\u001b[1;32m     17\u001b[0m     \u001b[38;5;28;01mreturn\u001b[39;00m scorer(estimator, X, y, sample_weight)\n\u001b[0;32m---> 18\u001b[0m \u001b[38;5;28;01mreturn\u001b[39;00m \u001b[43mscorer\u001b[49m\u001b[43m(\u001b[49m\u001b[43mestimator\u001b[49m\u001b[43m,\u001b[49m\u001b[43m \u001b[49m\u001b[43mX\u001b[49m\u001b[43m,\u001b[49m\u001b[43m \u001b[49m\u001b[43my\u001b[49m\u001b[43m)\u001b[49m\n",
      "File \u001b[0;32m~/.local/lib/python3.10/site-packages/sklearn/metrics/_scorer.py:444\u001b[0m, in \u001b[0;36m_passthrough_scorer\u001b[0;34m(estimator, *args, **kwargs)\u001b[0m\n\u001b[1;32m    442\u001b[0m \u001b[38;5;28;01mdef\u001b[39;00m \u001b[38;5;21m_passthrough_scorer\u001b[39m(estimator, \u001b[38;5;241m*\u001b[39margs, \u001b[38;5;241m*\u001b[39m\u001b[38;5;241m*\u001b[39mkwargs):\n\u001b[1;32m    443\u001b[0m \u001b[38;5;250m    \u001b[39m\u001b[38;5;124;03m\"\"\"Function that wraps estimator.score\"\"\"\u001b[39;00m\n\u001b[0;32m--> 444\u001b[0m     \u001b[38;5;28;01mreturn\u001b[39;00m \u001b[43mestimator\u001b[49m\u001b[38;5;241;43m.\u001b[39;49m\u001b[43mscore\u001b[49m\u001b[43m(\u001b[49m\u001b[38;5;241;43m*\u001b[39;49m\u001b[43margs\u001b[49m\u001b[43m,\u001b[49m\u001b[43m \u001b[49m\u001b[38;5;241;43m*\u001b[39;49m\u001b[38;5;241;43m*\u001b[39;49m\u001b[43mkwargs\u001b[49m\u001b[43m)\u001b[49m\n",
      "File \u001b[0;32m~/.local/lib/python3.10/site-packages/sklearn/base.py:668\u001b[0m, in \u001b[0;36mClassifierMixin.score\u001b[0;34m(self, X, y, sample_weight)\u001b[0m\n\u001b[1;32m    643\u001b[0m \u001b[38;5;250m\u001b[39m\u001b[38;5;124;03m\"\"\"\u001b[39;00m\n\u001b[1;32m    644\u001b[0m \u001b[38;5;124;03mReturn the mean accuracy on the given test data and labels.\u001b[39;00m\n\u001b[1;32m    645\u001b[0m \n\u001b[0;32m   (...)\u001b[0m\n\u001b[1;32m    664\u001b[0m \u001b[38;5;124;03m    Mean accuracy of ``self.predict(X)`` w.r.t. `y`.\u001b[39;00m\n\u001b[1;32m    665\u001b[0m \u001b[38;5;124;03m\"\"\"\u001b[39;00m\n\u001b[1;32m    666\u001b[0m \u001b[38;5;28;01mfrom\u001b[39;00m \u001b[38;5;21;01m.\u001b[39;00m\u001b[38;5;21;01mmetrics\u001b[39;00m \u001b[38;5;28;01mimport\u001b[39;00m accuracy_score\n\u001b[0;32m--> 668\u001b[0m \u001b[38;5;28;01mreturn\u001b[39;00m accuracy_score(y, \u001b[38;5;28;43mself\u001b[39;49m\u001b[38;5;241;43m.\u001b[39;49m\u001b[43mpredict\u001b[49m\u001b[43m(\u001b[49m\u001b[43mX\u001b[49m\u001b[43m)\u001b[49m, sample_weight\u001b[38;5;241m=\u001b[39msample_weight)\n",
      "File \u001b[0;32m~/.local/lib/python3.10/site-packages/sklearn/svm/_base.py:820\u001b[0m, in \u001b[0;36mBaseSVC.predict\u001b[0;34m(self, X)\u001b[0m\n\u001b[1;32m    818\u001b[0m     y \u001b[38;5;241m=\u001b[39m np\u001b[38;5;241m.\u001b[39margmax(\u001b[38;5;28mself\u001b[39m\u001b[38;5;241m.\u001b[39mdecision_function(X), axis\u001b[38;5;241m=\u001b[39m\u001b[38;5;241m1\u001b[39m)\n\u001b[1;32m    819\u001b[0m \u001b[38;5;28;01melse\u001b[39;00m:\n\u001b[0;32m--> 820\u001b[0m     y \u001b[38;5;241m=\u001b[39m \u001b[38;5;28;43msuper\u001b[39;49m\u001b[43m(\u001b[49m\u001b[43m)\u001b[49m\u001b[38;5;241;43m.\u001b[39;49m\u001b[43mpredict\u001b[49m\u001b[43m(\u001b[49m\u001b[43mX\u001b[49m\u001b[43m)\u001b[49m\n\u001b[1;32m    821\u001b[0m \u001b[38;5;28;01mreturn\u001b[39;00m \u001b[38;5;28mself\u001b[39m\u001b[38;5;241m.\u001b[39mclasses_\u001b[38;5;241m.\u001b[39mtake(np\u001b[38;5;241m.\u001b[39masarray(y, dtype\u001b[38;5;241m=\u001b[39mnp\u001b[38;5;241m.\u001b[39mintp))\n",
      "File \u001b[0;32m~/.local/lib/python3.10/site-packages/sklearn/svm/_base.py:435\u001b[0m, in \u001b[0;36mBaseLibSVM.predict\u001b[0;34m(self, X)\u001b[0m\n\u001b[1;32m    433\u001b[0m X \u001b[38;5;241m=\u001b[39m \u001b[38;5;28mself\u001b[39m\u001b[38;5;241m.\u001b[39m_validate_for_predict(X)\n\u001b[1;32m    434\u001b[0m predict \u001b[38;5;241m=\u001b[39m \u001b[38;5;28mself\u001b[39m\u001b[38;5;241m.\u001b[39m_sparse_predict \u001b[38;5;28;01mif\u001b[39;00m \u001b[38;5;28mself\u001b[39m\u001b[38;5;241m.\u001b[39m_sparse \u001b[38;5;28;01melse\u001b[39;00m \u001b[38;5;28mself\u001b[39m\u001b[38;5;241m.\u001b[39m_dense_predict\n\u001b[0;32m--> 435\u001b[0m \u001b[38;5;28;01mreturn\u001b[39;00m \u001b[43mpredict\u001b[49m\u001b[43m(\u001b[49m\u001b[43mX\u001b[49m\u001b[43m)\u001b[49m\n",
      "File \u001b[0;32m~/.local/lib/python3.10/site-packages/sklearn/svm/_base.py:454\u001b[0m, in \u001b[0;36mBaseLibSVM._dense_predict\u001b[0;34m(self, X)\u001b[0m\n\u001b[1;32m    446\u001b[0m         \u001b[38;5;28;01mraise\u001b[39;00m \u001b[38;5;167;01mValueError\u001b[39;00m(\n\u001b[1;32m    447\u001b[0m             \u001b[38;5;124m\"\u001b[39m\u001b[38;5;124mX.shape[1] = \u001b[39m\u001b[38;5;132;01m%d\u001b[39;00m\u001b[38;5;124m should be equal to \u001b[39m\u001b[38;5;132;01m%d\u001b[39;00m\u001b[38;5;124m, \u001b[39m\u001b[38;5;124m\"\u001b[39m\n\u001b[1;32m    448\u001b[0m             \u001b[38;5;124m\"\u001b[39m\u001b[38;5;124mthe number of samples at training time\u001b[39m\u001b[38;5;124m\"\u001b[39m\n\u001b[1;32m    449\u001b[0m             \u001b[38;5;241m%\u001b[39m (X\u001b[38;5;241m.\u001b[39mshape[\u001b[38;5;241m1\u001b[39m], \u001b[38;5;28mself\u001b[39m\u001b[38;5;241m.\u001b[39mshape_fit_[\u001b[38;5;241m0\u001b[39m])\n\u001b[1;32m    450\u001b[0m         )\n\u001b[1;32m    452\u001b[0m svm_type \u001b[38;5;241m=\u001b[39m LIBSVM_IMPL\u001b[38;5;241m.\u001b[39mindex(\u001b[38;5;28mself\u001b[39m\u001b[38;5;241m.\u001b[39m_impl)\n\u001b[0;32m--> 454\u001b[0m \u001b[38;5;28;01mreturn\u001b[39;00m \u001b[43mlibsvm\u001b[49m\u001b[38;5;241;43m.\u001b[39;49m\u001b[43mpredict\u001b[49m\u001b[43m(\u001b[49m\n\u001b[1;32m    455\u001b[0m \u001b[43m    \u001b[49m\u001b[43mX\u001b[49m\u001b[43m,\u001b[49m\n\u001b[1;32m    456\u001b[0m \u001b[43m    \u001b[49m\u001b[38;5;28;43mself\u001b[39;49m\u001b[38;5;241;43m.\u001b[39;49m\u001b[43msupport_\u001b[49m\u001b[43m,\u001b[49m\n\u001b[1;32m    457\u001b[0m \u001b[43m    \u001b[49m\u001b[38;5;28;43mself\u001b[39;49m\u001b[38;5;241;43m.\u001b[39;49m\u001b[43msupport_vectors_\u001b[49m\u001b[43m,\u001b[49m\n\u001b[1;32m    458\u001b[0m \u001b[43m    \u001b[49m\u001b[38;5;28;43mself\u001b[39;49m\u001b[38;5;241;43m.\u001b[39;49m\u001b[43m_n_support\u001b[49m\u001b[43m,\u001b[49m\n\u001b[1;32m    459\u001b[0m \u001b[43m    \u001b[49m\u001b[38;5;28;43mself\u001b[39;49m\u001b[38;5;241;43m.\u001b[39;49m\u001b[43m_dual_coef_\u001b[49m\u001b[43m,\u001b[49m\n\u001b[1;32m    460\u001b[0m \u001b[43m    \u001b[49m\u001b[38;5;28;43mself\u001b[39;49m\u001b[38;5;241;43m.\u001b[39;49m\u001b[43m_intercept_\u001b[49m\u001b[43m,\u001b[49m\n\u001b[1;32m    461\u001b[0m \u001b[43m    \u001b[49m\u001b[38;5;28;43mself\u001b[39;49m\u001b[38;5;241;43m.\u001b[39;49m\u001b[43m_probA\u001b[49m\u001b[43m,\u001b[49m\n\u001b[1;32m    462\u001b[0m \u001b[43m    \u001b[49m\u001b[38;5;28;43mself\u001b[39;49m\u001b[38;5;241;43m.\u001b[39;49m\u001b[43m_probB\u001b[49m\u001b[43m,\u001b[49m\n\u001b[1;32m    463\u001b[0m \u001b[43m    \u001b[49m\u001b[43msvm_type\u001b[49m\u001b[38;5;241;43m=\u001b[39;49m\u001b[43msvm_type\u001b[49m\u001b[43m,\u001b[49m\n\u001b[1;32m    464\u001b[0m \u001b[43m    \u001b[49m\u001b[43mkernel\u001b[49m\u001b[38;5;241;43m=\u001b[39;49m\u001b[43mkernel\u001b[49m\u001b[43m,\u001b[49m\n\u001b[1;32m    465\u001b[0m \u001b[43m    \u001b[49m\u001b[43mdegree\u001b[49m\u001b[38;5;241;43m=\u001b[39;49m\u001b[38;5;28;43mself\u001b[39;49m\u001b[38;5;241;43m.\u001b[39;49m\u001b[43mdegree\u001b[49m\u001b[43m,\u001b[49m\n\u001b[1;32m    466\u001b[0m \u001b[43m    \u001b[49m\u001b[43mcoef0\u001b[49m\u001b[38;5;241;43m=\u001b[39;49m\u001b[38;5;28;43mself\u001b[39;49m\u001b[38;5;241;43m.\u001b[39;49m\u001b[43mcoef0\u001b[49m\u001b[43m,\u001b[49m\n\u001b[1;32m    467\u001b[0m \u001b[43m    \u001b[49m\u001b[43mgamma\u001b[49m\u001b[38;5;241;43m=\u001b[39;49m\u001b[38;5;28;43mself\u001b[39;49m\u001b[38;5;241;43m.\u001b[39;49m\u001b[43m_gamma\u001b[49m\u001b[43m,\u001b[49m\n\u001b[1;32m    468\u001b[0m \u001b[43m    \u001b[49m\u001b[43mcache_size\u001b[49m\u001b[38;5;241;43m=\u001b[39;49m\u001b[38;5;28;43mself\u001b[39;49m\u001b[38;5;241;43m.\u001b[39;49m\u001b[43mcache_size\u001b[49m\u001b[43m,\u001b[49m\n\u001b[1;32m    469\u001b[0m \u001b[43m\u001b[49m\u001b[43m)\u001b[49m\n",
      "\u001b[0;31mKeyboardInterrupt\u001b[0m: "
     ]
    }
   ],
   "source": [
    "from sklearn.inspection import permutation_importance\n",
    "\n",
    "# Calculate the average feature importance across all classes\n",
    "result = permutation_importance(svc_ovo_clf, X_train_full, y_train_full, n_repeats=10, random_state=42)\n",
    "importances = result.importances_mean.reshape((28, 28))\n",
    "\n",
    "# Visualize the feature importance\n",
    "plt.figure(figsize=(8, 8))\n",
    "plt.imshow(importances, cmap='hot', interpolation='nearest')\n",
    "plt.title('Feature Importance - SVC (OvO)')\n",
    "plt.colorbar()\n",
    "plt.show()"
   ]
  },
  {
   "cell_type": "code",
   "execution_count": 21,
   "id": "c0c16259",
   "metadata": {},
   "outputs": [
    {
     "data": {
      "text/plain": [
       "sklearn.svm._classes.SVC"
      ]
     },
     "execution_count": 21,
     "metadata": {},
     "output_type": "execute_result"
    }
   ],
   "source": [
    "type(svc_ovo_clf)"
   ]
  },
  {
   "cell_type": "markdown",
   "id": "93b8bf69",
   "metadata": {},
   "source": [
    "# SVC - OvR Metrics"
   ]
  },
  {
   "cell_type": "code",
   "execution_count": 47,
   "id": "d1c6670f",
   "metadata": {},
   "outputs": [],
   "source": [
    "svc_ovr_clf = joblib.load(\"ovr_svc_clf_colab.pkl\")"
   ]
  },
  {
   "cell_type": "code",
   "execution_count": 61,
   "id": "2b15dd9f",
   "metadata": {},
   "outputs": [
    {
     "name": "stderr",
     "output_type": "stream",
     "text": [
      "/home/test/.local/lib/python3.10/site-packages/sklearn/base.py:432: UserWarning: X has feature names, but SVC was fitted without feature names\n",
      "  warnings.warn(\n",
      "/home/test/.local/lib/python3.10/site-packages/sklearn/base.py:432: UserWarning: X has feature names, but SVC was fitted without feature names\n",
      "  warnings.warn(\n",
      "/home/test/.local/lib/python3.10/site-packages/sklearn/base.py:432: UserWarning: X has feature names, but SVC was fitted without feature names\n",
      "  warnings.warn(\n",
      "/home/test/.local/lib/python3.10/site-packages/sklearn/base.py:432: UserWarning: X has feature names, but SVC was fitted without feature names\n",
      "  warnings.warn(\n",
      "/home/test/.local/lib/python3.10/site-packages/sklearn/base.py:432: UserWarning: X has feature names, but SVC was fitted without feature names\n",
      "  warnings.warn(\n",
      "/home/test/.local/lib/python3.10/site-packages/sklearn/base.py:432: UserWarning: X has feature names, but SVC was fitted without feature names\n",
      "  warnings.warn(\n",
      "/home/test/.local/lib/python3.10/site-packages/sklearn/base.py:432: UserWarning: X has feature names, but SVC was fitted without feature names\n",
      "  warnings.warn(\n",
      "/home/test/.local/lib/python3.10/site-packages/sklearn/base.py:432: UserWarning: X has feature names, but SVC was fitted without feature names\n",
      "  warnings.warn(\n",
      "/home/test/.local/lib/python3.10/site-packages/sklearn/base.py:432: UserWarning: X has feature names, but SVC was fitted without feature names\n",
      "  warnings.warn(\n",
      "/home/test/.local/lib/python3.10/site-packages/sklearn/base.py:432: UserWarning: X has feature names, but SVC was fitted without feature names\n",
      "  warnings.warn(\n"
     ]
    },
    {
     "data": {
      "text/plain": [
       "0.1028"
      ]
     },
     "execution_count": 61,
     "metadata": {},
     "output_type": "execute_result"
    }
   ],
   "source": [
    "\n",
    "svc_ovr_clf_pred = svc_ovr_clf.predict(X_test)\n",
    "\n",
    "svc_ovr_clf_acc = accuracy_score(y_test, svc_ovr_clf_pred)\n",
    "\n",
    "svc_ovr_clf_acc"
   ]
  },
  {
   "cell_type": "code",
   "execution_count": 62,
   "id": "96331cf3",
   "metadata": {},
   "outputs": [
    {
     "name": "stderr",
     "output_type": "stream",
     "text": [
      "/home/test/.local/lib/python3.10/site-packages/sklearn/metrics/_classification.py:1344: UndefinedMetricWarning: Precision is ill-defined and being set to 0.0 in labels with no predicted samples. Use `zero_division` parameter to control this behavior.\n",
      "  _warn_prf(average, modifier, msg_start, len(result))\n"
     ]
    },
    {
     "data": {
      "text/plain": [
       "0.01056784"
      ]
     },
     "execution_count": 62,
     "metadata": {},
     "output_type": "execute_result"
    }
   ],
   "source": [
    "svc_ovr_clf_prec = precision_score(y_test,  svc_ovr_clf_pred, average='weighted')\n",
    "\n",
    "svc_ovr_clf_prec"
   ]
  },
  {
   "cell_type": "code",
   "execution_count": 63,
   "id": "84237a48",
   "metadata": {},
   "outputs": [
    {
     "data": {
      "text/plain": [
       "0.1028"
      ]
     },
     "execution_count": 63,
     "metadata": {},
     "output_type": "execute_result"
    }
   ],
   "source": [
    "svc_ovr_clf_rec = recall_score(y_test, svc_ovr_clf_pred, average='weighted')\n",
    "\n",
    "svc_ovr_clf_rec"
   ]
  },
  {
   "cell_type": "code",
   "execution_count": 64,
   "id": "b8836ab0",
   "metadata": {},
   "outputs": [
    {
     "data": {
      "text/plain": [
       "0.019165469713456656"
      ]
     },
     "execution_count": 64,
     "metadata": {},
     "output_type": "execute_result"
    }
   ],
   "source": [
    "svc_ovr_clf_f1 = f1_score(y_test, svc_ovr_clf_pred, average='weighted')\n",
    "\n",
    "svc_ovr_clf_f1"
   ]
  },
  {
   "cell_type": "code",
   "execution_count": 65,
   "id": "ba243fcb",
   "metadata": {
    "scrolled": false
   },
   "outputs": [
    {
     "data": {
      "image/png": "[encoded data removed]",
      "text/plain": [
       "<Figure size 640x480 with 2 Axes>"
      ]
     },
     "metadata": {},
     "output_type": "display_data"
    }
   ],
   "source": [
    "import matplotlib.pyplot as plt\n",
    "from sklearn.metrics import confusion_matrix\n",
    "\n",
    "svc_ovr_clf_cm = confusion_matrix(y_test, svc_ovr_clf_pred, labels=np.arange(10)) - np.eye(10)\n",
    "\n",
    "# for i in range(10):\n",
    "#     knn_en_cm[i][i] =0\n",
    "# knn_en_cm = knn_en_cm - np.eye(len(knn_en_cm))\n",
    "\n",
    "np.fill_diagonal(svc_ovr_clf_cm, 0)\n",
    "\n",
    "fig, ax = plt.subplots()\n",
    "im = ax.imshow(np.array(svc_ovr_clf_cm), cmap='OrRd') \n",
    "ax.figure.colorbar(im, ax=ax, pad=.2)\n",
    "ax.set_xticks(np.arange(10))\n",
    "ax.set_yticks(np.arange(10))\n",
    "ax.set_xlabel('Predicted')\n",
    "ax.set_ylabel('Actual')\n",
    "ax.set_title('Confusion Matrix', fontweight='bold')\n",
    "\n",
    "# Compute the sum of values for each predicted class\n",
    "sum_values = np.nansum(svc_ovr_clf_cm, axis=1)\n",
    "\n",
    "# Get the indices of the top 6 sum values in magnitude\n",
    "top_indices = np.argsort(sum_values)[-3:]\n",
    "med_indices = np.argsort(sum_values)[-6:-3]\n",
    "rest_indices = np.argsort(sum_values)[:-6]\n",
    "\n",
    "# Display the sum values on the right side\n",
    "\n",
    "for i, sum_val in enumerate(sum_values):\n",
    "    if np.isnan(sum_val):\n",
    "        sum_val = 0\n",
    "    if i in top_indices:\n",
    "        ax.text(10.1, i, str(int(sum_val)), va='center', color='red', fontweight='bold')\n",
    "    elif i in med_indices:\n",
    "        ax.text(10.1, i, str(int(sum_val)), va='center', color='orange', fontweight='bold')\n",
    "    elif i in rest_indices:\n",
    "        ax.text(10.1, i, str(int(sum_val)), va='center', color='blue')\n",
    "\n",
    "ax.text(10.2, -1, 'Score', va='center', ha='center')\n",
    "plt.savefig('svc_ovr_clf_cm.png');\n",
    "plt.show()"
   ]
  },
  {
   "cell_type": "markdown",
   "id": "ba26d56b",
   "metadata": {},
   "source": [
    "# MIsC"
   ]
  },
  {
   "cell_type": "code",
   "execution_count": 34,
   "id": "4024ef58",
   "metadata": {},
   "outputs": [],
   "source": [
    "test_images = np.load('test_images.npy')"
   ]
  },
  {
   "cell_type": "code",
   "execution_count": 35,
   "id": "e7741df1",
   "metadata": {},
   "outputs": [],
   "source": [
    "test_labels = np.load('test_labels.npy')"
   ]
  },
  {
   "cell_type": "code",
   "execution_count": 36,
   "id": "80d43085",
   "metadata": {},
   "outputs": [
    {
     "data": {
      "text/plain": [
       "7"
      ]
     },
     "execution_count": 36,
     "metadata": {},
     "output_type": "execute_result"
    }
   ],
   "source": [
    "test_labels[0]"
   ]
  },
  {
   "cell_type": "code",
   "execution_count": 37,
   "id": "375ebe7e",
   "metadata": {},
   "outputs": [],
   "source": [
    "preprocessed_image = test_images[0].reshape(1, -1)"
   ]
  },
  {
   "cell_type": "code",
   "execution_count": 38,
   "id": "804efa3e",
   "metadata": {},
   "outputs": [
    {
     "data": {
      "text/plain": [
       "(1, 784)"
      ]
     },
     "execution_count": 38,
     "metadata": {},
     "output_type": "execute_result"
    }
   ],
   "source": [
    "preprocessed_image.shape"
   ]
  },
  {
   "cell_type": "code",
   "execution_count": 31,
   "id": "8b8d8a53",
   "metadata": {
    "scrolled": true
   },
   "outputs": [
    {
     "data": {
      "text/plain": [
       "array([[  0.,   0.,   0.,   0.,   0.,   0.,   0.,   0.,   0.,   0.,   0.,\n",
       "          0.,   0.,   0.,   0.,   0.,   0.,   0.,   0.,   0.,   0.,   0.,\n",
       "          0.,   0.,   0.,   0.,   0.,   0.,   0.,   0.,   0.,   0.,   0.,\n",
       "          0.,   0.,   0.,   0.,   0.,   0.,   0.,   0.,   0.,   0.,   0.,\n",
       "          0.,   0.,   0.,   0.,   0.,   0.,   0.,   0.,   0.,   0.,   0.,\n",
       "          0.,   0.,   0.,   0.,   0.,   0.,   0.,   0.,   0.,   0.,   0.,\n",
       "          0.,   0.,   0.,   0.,   0.,   0.,   0.,   0.,   0.,   0.,   0.,\n",
       "          0.,   0.,   0.,   0.,   0.,   0.,   0.,   0.,   0.,   0.,   0.,\n",
       "          0.,   0.,   0.,   0.,   0.,   0.,   0.,   0.,   0.,   0.,   0.,\n",
       "          0.,   0.,   0.,   0.,   0.,   0.,   0.,   0.,   0.,   0.,   0.,\n",
       "          0.,   0.,   0.,   0.,   0.,   0.,   0.,   0.,   0.,   0.,   0.,\n",
       "          0.,   0.,   0.,   0.,   0.,   0.,   0.,   0.,   0.,   0.,   0.,\n",
       "          0.,   0.,   0.,   0.,   0.,   0.,   0.,   0.,   0.,   0.,   0.,\n",
       "          0.,   0.,   0.,   0.,   0.,   0.,   0.,   0.,   0.,   0.,   0.,\n",
       "          0.,   0.,   0.,   0.,   0.,   0.,   0.,   0.,   0.,   0.,   0.,\n",
       "          0.,   0.,   0.,   0.,   0.,   0.,   0.,   0.,   0.,   0.,   0.,\n",
       "          0.,   0.,   0.,   0.,   0.,   0.,   0.,   0.,   0.,   0.,   0.,\n",
       "          0.,   0.,   0.,   0.,   0.,   0.,   0.,   0.,   0.,   0.,   0.,\n",
       "          0.,   0.,   0.,   0.,  84., 185., 159., 151.,  60.,  36.,   0.,\n",
       "          0.,   0.,   0.,   0.,   0.,   0.,   0.,   0.,   0.,   0.,   0.,\n",
       "          0.,   0.,   0.,   0.,   0.,   0.,   0.,   0.,   0.,   0., 222.,\n",
       "        254., 254., 254., 254., 241., 198., 198., 198., 198., 198., 198.,\n",
       "        198., 198., 170.,  52.,   0.,   0.,   0.,   0.,   0.,   0.,   0.,\n",
       "          0.,   0.,   0.,   0.,   0.,  67., 114.,  72., 114., 163., 227.,\n",
       "        254., 225., 254., 254., 254., 250., 229., 254., 254., 140.,   0.,\n",
       "          0.,   0.,   0.,   0.,   0.,   0.,   0.,   0.,   0.,   0.,   0.,\n",
       "          0.,   0.,   0.,   0.,   0.,  17.,  66.,  14.,  67.,  67.,  67.,\n",
       "         59.,  21., 236., 254., 106.,   0.,   0.,   0.,   0.,   0.,   0.,\n",
       "          0.,   0.,   0.,   0.,   0.,   0.,   0.,   0.,   0.,   0.,   0.,\n",
       "          0.,   0.,   0.,   0.,   0.,   0.,   0.,  83., 253., 209.,  18.,\n",
       "          0.,   0.,   0.,   0.,   0.,   0.,   0.,   0.,   0.,   0.,   0.,\n",
       "          0.,   0.,   0.,   0.,   0.,   0.,   0.,   0.,   0.,   0.,   0.,\n",
       "          0.,  22., 233., 255.,  83.,   0.,   0.,   0.,   0.,   0.,   0.,\n",
       "          0.,   0.,   0.,   0.,   0.,   0.,   0.,   0.,   0.,   0.,   0.,\n",
       "          0.,   0.,   0.,   0.,   0.,   0.,   0., 129., 254., 238.,  44.,\n",
       "          0.,   0.,   0.,   0.,   0.,   0.,   0.,   0.,   0.,   0.,   0.,\n",
       "          0.,   0.,   0.,   0.,   0.,   0.,   0.,   0.,   0.,   0.,   0.,\n",
       "          0.,  59., 249., 254.,  62.,   0.,   0.,   0.,   0.,   0.,   0.,\n",
       "          0.,   0.,   0.,   0.,   0.,   0.,   0.,   0.,   0.,   0.,   0.,\n",
       "          0.,   0.,   0.,   0.,   0.,   0.,   0., 133., 254., 187.,   5.,\n",
       "          0.,   0.,   0.,   0.,   0.,   0.,   0.,   0.,   0.,   0.,   0.,\n",
       "          0.,   0.,   0.,   0.,   0.,   0.,   0.,   0.,   0.,   0.,   0.,\n",
       "          0.,   9., 205., 248.,  58.,   0.,   0.,   0.,   0.,   0.,   0.,\n",
       "          0.,   0.,   0.,   0.,   0.,   0.,   0.,   0.,   0.,   0.,   0.,\n",
       "          0.,   0.,   0.,   0.,   0.,   0.,   0., 126., 254., 182.,   0.,\n",
       "          0.,   0.,   0.,   0.,   0.,   0.,   0.,   0.,   0.,   0.,   0.,\n",
       "          0.,   0.,   0.,   0.,   0.,   0.,   0.,   0.,   0.,   0.,   0.,\n",
       "          0.,  75., 251., 240.,  57.,   0.,   0.,   0.,   0.,   0.,   0.,\n",
       "          0.,   0.,   0.,   0.,   0.,   0.,   0.,   0.,   0.,   0.,   0.,\n",
       "          0.,   0.,   0.,   0.,   0.,   0.,  19., 221., 254., 166.,   0.,\n",
       "          0.,   0.,   0.,   0.,   0.,   0.,   0.,   0.,   0.,   0.,   0.,\n",
       "          0.,   0.,   0.,   0.,   0.,   0.,   0.,   0.,   0.,   0.,   0.,\n",
       "          3., 203., 254., 219.,  35.,   0.,   0.,   0.,   0.,   0.,   0.,\n",
       "          0.,   0.,   0.,   0.,   0.,   0.,   0.,   0.,   0.,   0.,   0.,\n",
       "          0.,   0.,   0.,   0.,   0.,   0.,  38., 254., 254.,  77.,   0.,\n",
       "          0.,   0.,   0.,   0.,   0.,   0.,   0.,   0.,   0.,   0.,   0.,\n",
       "          0.,   0.,   0.,   0.,   0.,   0.,   0.,   0.,   0.,   0.,   0.,\n",
       "         31., 224., 254., 115.,   1.,   0.,   0.,   0.,   0.,   0.,   0.,\n",
       "          0.,   0.,   0.,   0.,   0.,   0.,   0.,   0.,   0.,   0.,   0.,\n",
       "          0.,   0.,   0.,   0.,   0.,   0., 133., 254., 254.,  52.,   0.,\n",
       "          0.,   0.,   0.,   0.,   0.,   0.,   0.,   0.,   0.,   0.,   0.,\n",
       "          0.,   0.,   0.,   0.,   0.,   0.,   0.,   0.,   0.,   0.,   0.,\n",
       "         61., 242., 254., 254.,  52.,   0.,   0.,   0.,   0.,   0.,   0.,\n",
       "          0.,   0.,   0.,   0.,   0.,   0.,   0.,   0.,   0.,   0.,   0.,\n",
       "          0.,   0.,   0.,   0.,   0.,   0., 121., 254., 254., 219.,  40.,\n",
       "          0.,   0.,   0.,   0.,   0.,   0.,   0.,   0.,   0.,   0.,   0.,\n",
       "          0.,   0.,   0.,   0.,   0.,   0.,   0.,   0.,   0.,   0.,   0.,\n",
       "          0., 121., 254., 207.,  18.,   0.,   0.,   0.,   0.,   0.,   0.,\n",
       "          0.,   0.,   0.,   0.,   0.,   0.,   0.,   0.,   0.,   0.,   0.,\n",
       "          0.,   0.,   0.,   0.,   0.,   0.,   0.,   0.,   0.,   0.,   0.,\n",
       "          0.,   0.,   0.,   0.,   0.,   0.,   0.,   0.,   0.,   0.,   0.,\n",
       "          0.,   0.,   0.]])"
      ]
     },
     "execution_count": 31,
     "metadata": {},
     "output_type": "execute_result"
    }
   ],
   "source": [
    "preprocessed_image"
   ]
  },
  {
   "cell_type": "code",
   "execution_count": 33,
   "id": "7982317d",
   "metadata": {},
   "outputs": [
    {
     "name": "stderr",
     "output_type": "stream",
     "text": [
      "/home/test/.local/lib/python3.10/site-packages/sklearn/base.py:439: UserWarning: X does not have valid feature names, but OneVsOneClassifier was fitted with feature names\n",
      "  warnings.warn(\n"
     ]
    }
   ],
   "source": [
    "sgd_ovo_clf_pred = sgd_ovo_clf.predict(preprocessed_image)\n",
    "svc_ovo_clf_pred = svc_ovo_clf.predict(preprocessed_image)\n",
    "rf_ovo_clf_pred = rf_ovo_clf.predict(preprocessed_image)"
   ]
  },
  {
   "cell_type": "code",
   "execution_count": 49,
   "id": "e0512ec1",
   "metadata": {},
   "outputs": [
    {
     "data": {
      "text/plain": [
       "array([[ 5.33327291, -0.33333023,  5.33332395,  7.33332753,  1.66667624,\n",
       "         3.33332162,  0.66666923,  9.33332624,  7.33332856,  6.33332157]])"
      ]
     },
     "execution_count": 49,
     "metadata": {},
     "output_type": "execute_result"
    }
   ],
   "source": [
    "sgd_ovo_clf.decision_function(preprocessed_image)"
   ]
  },
  {
   "cell_type": "code",
   "execution_count": 51,
   "id": "c67ef75e",
   "metadata": {},
   "outputs": [
    {
     "data": {
      "text/plain": [
       "array([[-0.96660774, -0.95790454, -0.67976469, -0.80259261, -0.9398127 ,\n",
       "        -0.8749978 , -0.70103278, -0.58001626, -0.97453162, -0.904486  ]])"
      ]
     },
     "execution_count": 51,
     "metadata": {},
     "output_type": "execute_result"
    }
   ],
   "source": [
    "svc_ovr_clf.decision_function(preprocessed_image)"
   ]
  },
  {
   "cell_type": "code",
   "execution_count": 48,
   "id": "cbaf65da",
   "metadata": {},
   "outputs": [
    {
     "ename": "ValueError",
     "evalue": "Found array with 0 sample(s) (shape=(0, 784)) while a minimum of 1 is required by OneVsOneClassifier.",
     "output_type": "error",
     "traceback": [
      "\u001b[0;31m---------------------------------------------------------------------------\u001b[0m",
      "\u001b[0;31mValueError\u001b[0m                                Traceback (most recent call last)",
      "Cell \u001b[0;32mIn[48], line 25\u001b[0m\n\u001b[1;32m     23\u001b[0m \u001b[38;5;66;03m# Train the SVC OvO classifier on the current class pair\u001b[39;00m\n\u001b[1;32m     24\u001b[0m svc_ovo_clf \u001b[38;5;241m=\u001b[39m OneVsOneClassifier(SVC())\n\u001b[0;32m---> 25\u001b[0m \u001b[43msvc_ovo_clf\u001b[49m\u001b[38;5;241;43m.\u001b[39;49m\u001b[43mfit\u001b[49m\u001b[43m(\u001b[49m\u001b[43mX_filtered\u001b[49m\u001b[43m,\u001b[49m\u001b[43m \u001b[49m\u001b[43my_filtered\u001b[49m\u001b[43m)\u001b[49m\n\u001b[1;32m     27\u001b[0m \u001b[38;5;66;03m# Obtain the decision scores for the current class pair\u001b[39;00m\n\u001b[1;32m     28\u001b[0m decision_scores \u001b[38;5;241m=\u001b[39m svc_ovo_clf\u001b[38;5;241m.\u001b[39mdecision_function(X_filtered)\n",
      "File \u001b[0;32m~/.local/lib/python3.10/site-packages/sklearn/multiclass.py:676\u001b[0m, in \u001b[0;36mOneVsOneClassifier.fit\u001b[0;34m(self, X, y)\u001b[0m\n\u001b[1;32m    674\u001b[0m \u001b[38;5;28mself\u001b[39m\u001b[38;5;241m.\u001b[39m_validate_params()\n\u001b[1;32m    675\u001b[0m \u001b[38;5;66;03m# We need to validate the data because we do a safe_indexing later.\u001b[39;00m\n\u001b[0;32m--> 676\u001b[0m X, y \u001b[38;5;241m=\u001b[39m \u001b[38;5;28;43mself\u001b[39;49m\u001b[38;5;241;43m.\u001b[39;49m\u001b[43m_validate_data\u001b[49m\u001b[43m(\u001b[49m\n\u001b[1;32m    677\u001b[0m \u001b[43m    \u001b[49m\u001b[43mX\u001b[49m\u001b[43m,\u001b[49m\u001b[43m \u001b[49m\u001b[43my\u001b[49m\u001b[43m,\u001b[49m\u001b[43m \u001b[49m\u001b[43maccept_sparse\u001b[49m\u001b[38;5;241;43m=\u001b[39;49m\u001b[43m[\u001b[49m\u001b[38;5;124;43m\"\u001b[39;49m\u001b[38;5;124;43mcsr\u001b[39;49m\u001b[38;5;124;43m\"\u001b[39;49m\u001b[43m,\u001b[49m\u001b[43m \u001b[49m\u001b[38;5;124;43m\"\u001b[39;49m\u001b[38;5;124;43mcsc\u001b[39;49m\u001b[38;5;124;43m\"\u001b[39;49m\u001b[43m]\u001b[49m\u001b[43m,\u001b[49m\u001b[43m \u001b[49m\u001b[43mforce_all_finite\u001b[49m\u001b[38;5;241;43m=\u001b[39;49m\u001b[38;5;28;43;01mFalse\u001b[39;49;00m\n\u001b[1;32m    678\u001b[0m \u001b[43m\u001b[49m\u001b[43m)\u001b[49m\n\u001b[1;32m    679\u001b[0m check_classification_targets(y)\n\u001b[1;32m    681\u001b[0m \u001b[38;5;28mself\u001b[39m\u001b[38;5;241m.\u001b[39mclasses_ \u001b[38;5;241m=\u001b[39m np\u001b[38;5;241m.\u001b[39munique(y)\n",
      "File \u001b[0;32m~/.local/lib/python3.10/site-packages/sklearn/base.py:584\u001b[0m, in \u001b[0;36mBaseEstimator._validate_data\u001b[0;34m(self, X, y, reset, validate_separately, **check_params)\u001b[0m\n\u001b[1;32m    582\u001b[0m         y \u001b[38;5;241m=\u001b[39m check_array(y, input_name\u001b[38;5;241m=\u001b[39m\u001b[38;5;124m\"\u001b[39m\u001b[38;5;124my\u001b[39m\u001b[38;5;124m\"\u001b[39m, \u001b[38;5;241m*\u001b[39m\u001b[38;5;241m*\u001b[39mcheck_y_params)\n\u001b[1;32m    583\u001b[0m     \u001b[38;5;28;01melse\u001b[39;00m:\n\u001b[0;32m--> 584\u001b[0m         X, y \u001b[38;5;241m=\u001b[39m \u001b[43mcheck_X_y\u001b[49m\u001b[43m(\u001b[49m\u001b[43mX\u001b[49m\u001b[43m,\u001b[49m\u001b[43m \u001b[49m\u001b[43my\u001b[49m\u001b[43m,\u001b[49m\u001b[43m \u001b[49m\u001b[38;5;241;43m*\u001b[39;49m\u001b[38;5;241;43m*\u001b[39;49m\u001b[43mcheck_params\u001b[49m\u001b[43m)\u001b[49m\n\u001b[1;32m    585\u001b[0m     out \u001b[38;5;241m=\u001b[39m X, y\n\u001b[1;32m    587\u001b[0m \u001b[38;5;28;01mif\u001b[39;00m \u001b[38;5;129;01mnot\u001b[39;00m no_val_X \u001b[38;5;129;01mand\u001b[39;00m check_params\u001b[38;5;241m.\u001b[39mget(\u001b[38;5;124m\"\u001b[39m\u001b[38;5;124mensure_2d\u001b[39m\u001b[38;5;124m\"\u001b[39m, \u001b[38;5;28;01mTrue\u001b[39;00m):\n",
      "File \u001b[0;32m~/.local/lib/python3.10/site-packages/sklearn/utils/validation.py:1106\u001b[0m, in \u001b[0;36mcheck_X_y\u001b[0;34m(X, y, accept_sparse, accept_large_sparse, dtype, order, copy, force_all_finite, ensure_2d, allow_nd, multi_output, ensure_min_samples, ensure_min_features, y_numeric, estimator)\u001b[0m\n\u001b[1;32m   1101\u001b[0m         estimator_name \u001b[38;5;241m=\u001b[39m _check_estimator_name(estimator)\n\u001b[1;32m   1102\u001b[0m     \u001b[38;5;28;01mraise\u001b[39;00m \u001b[38;5;167;01mValueError\u001b[39;00m(\n\u001b[1;32m   1103\u001b[0m         \u001b[38;5;124mf\u001b[39m\u001b[38;5;124m\"\u001b[39m\u001b[38;5;132;01m{\u001b[39;00mestimator_name\u001b[38;5;132;01m}\u001b[39;00m\u001b[38;5;124m requires y to be passed, but the target y is None\u001b[39m\u001b[38;5;124m\"\u001b[39m\n\u001b[1;32m   1104\u001b[0m     )\n\u001b[0;32m-> 1106\u001b[0m X \u001b[38;5;241m=\u001b[39m \u001b[43mcheck_array\u001b[49m\u001b[43m(\u001b[49m\n\u001b[1;32m   1107\u001b[0m \u001b[43m    \u001b[49m\u001b[43mX\u001b[49m\u001b[43m,\u001b[49m\n\u001b[1;32m   1108\u001b[0m \u001b[43m    \u001b[49m\u001b[43maccept_sparse\u001b[49m\u001b[38;5;241;43m=\u001b[39;49m\u001b[43maccept_sparse\u001b[49m\u001b[43m,\u001b[49m\n\u001b[1;32m   1109\u001b[0m \u001b[43m    \u001b[49m\u001b[43maccept_large_sparse\u001b[49m\u001b[38;5;241;43m=\u001b[39;49m\u001b[43maccept_large_sparse\u001b[49m\u001b[43m,\u001b[49m\n\u001b[1;32m   1110\u001b[0m \u001b[43m    \u001b[49m\u001b[43mdtype\u001b[49m\u001b[38;5;241;43m=\u001b[39;49m\u001b[43mdtype\u001b[49m\u001b[43m,\u001b[49m\n\u001b[1;32m   1111\u001b[0m \u001b[43m    \u001b[49m\u001b[43morder\u001b[49m\u001b[38;5;241;43m=\u001b[39;49m\u001b[43morder\u001b[49m\u001b[43m,\u001b[49m\n\u001b[1;32m   1112\u001b[0m \u001b[43m    \u001b[49m\u001b[43mcopy\u001b[49m\u001b[38;5;241;43m=\u001b[39;49m\u001b[43mcopy\u001b[49m\u001b[43m,\u001b[49m\n\u001b[1;32m   1113\u001b[0m \u001b[43m    \u001b[49m\u001b[43mforce_all_finite\u001b[49m\u001b[38;5;241;43m=\u001b[39;49m\u001b[43mforce_all_finite\u001b[49m\u001b[43m,\u001b[49m\n\u001b[1;32m   1114\u001b[0m \u001b[43m    \u001b[49m\u001b[43mensure_2d\u001b[49m\u001b[38;5;241;43m=\u001b[39;49m\u001b[43mensure_2d\u001b[49m\u001b[43m,\u001b[49m\n\u001b[1;32m   1115\u001b[0m \u001b[43m    \u001b[49m\u001b[43mallow_nd\u001b[49m\u001b[38;5;241;43m=\u001b[39;49m\u001b[43mallow_nd\u001b[49m\u001b[43m,\u001b[49m\n\u001b[1;32m   1116\u001b[0m \u001b[43m    \u001b[49m\u001b[43mensure_min_samples\u001b[49m\u001b[38;5;241;43m=\u001b[39;49m\u001b[43mensure_min_samples\u001b[49m\u001b[43m,\u001b[49m\n\u001b[1;32m   1117\u001b[0m \u001b[43m    \u001b[49m\u001b[43mensure_min_features\u001b[49m\u001b[38;5;241;43m=\u001b[39;49m\u001b[43mensure_min_features\u001b[49m\u001b[43m,\u001b[49m\n\u001b[1;32m   1118\u001b[0m \u001b[43m    \u001b[49m\u001b[43mestimator\u001b[49m\u001b[38;5;241;43m=\u001b[39;49m\u001b[43mestimator\u001b[49m\u001b[43m,\u001b[49m\n\u001b[1;32m   1119\u001b[0m \u001b[43m    \u001b[49m\u001b[43minput_name\u001b[49m\u001b[38;5;241;43m=\u001b[39;49m\u001b[38;5;124;43m\"\u001b[39;49m\u001b[38;5;124;43mX\u001b[39;49m\u001b[38;5;124;43m\"\u001b[39;49m\u001b[43m,\u001b[49m\n\u001b[1;32m   1120\u001b[0m \u001b[43m\u001b[49m\u001b[43m)\u001b[49m\n\u001b[1;32m   1122\u001b[0m y \u001b[38;5;241m=\u001b[39m _check_y(y, multi_output\u001b[38;5;241m=\u001b[39mmulti_output, y_numeric\u001b[38;5;241m=\u001b[39my_numeric, estimator\u001b[38;5;241m=\u001b[39mestimator)\n\u001b[1;32m   1124\u001b[0m check_consistent_length(X, y)\n",
      "File \u001b[0;32m~/.local/lib/python3.10/site-packages/sklearn/utils/validation.py:931\u001b[0m, in \u001b[0;36mcheck_array\u001b[0;34m(array, accept_sparse, accept_large_sparse, dtype, order, copy, force_all_finite, ensure_2d, allow_nd, ensure_min_samples, ensure_min_features, estimator, input_name)\u001b[0m\n\u001b[1;32m    929\u001b[0m     n_samples \u001b[38;5;241m=\u001b[39m _num_samples(array)\n\u001b[1;32m    930\u001b[0m     \u001b[38;5;28;01mif\u001b[39;00m n_samples \u001b[38;5;241m<\u001b[39m ensure_min_samples:\n\u001b[0;32m--> 931\u001b[0m         \u001b[38;5;28;01mraise\u001b[39;00m \u001b[38;5;167;01mValueError\u001b[39;00m(\n\u001b[1;32m    932\u001b[0m             \u001b[38;5;124m\"\u001b[39m\u001b[38;5;124mFound array with \u001b[39m\u001b[38;5;132;01m%d\u001b[39;00m\u001b[38;5;124m sample(s) (shape=\u001b[39m\u001b[38;5;132;01m%s\u001b[39;00m\u001b[38;5;124m) while a\u001b[39m\u001b[38;5;124m\"\u001b[39m\n\u001b[1;32m    933\u001b[0m             \u001b[38;5;124m\"\u001b[39m\u001b[38;5;124m minimum of \u001b[39m\u001b[38;5;132;01m%d\u001b[39;00m\u001b[38;5;124m is required\u001b[39m\u001b[38;5;132;01m%s\u001b[39;00m\u001b[38;5;124m.\u001b[39m\u001b[38;5;124m\"\u001b[39m\n\u001b[1;32m    934\u001b[0m             \u001b[38;5;241m%\u001b[39m (n_samples, array\u001b[38;5;241m.\u001b[39mshape, ensure_min_samples, context)\n\u001b[1;32m    935\u001b[0m         )\n\u001b[1;32m    937\u001b[0m \u001b[38;5;28;01mif\u001b[39;00m ensure_min_features \u001b[38;5;241m>\u001b[39m \u001b[38;5;241m0\u001b[39m \u001b[38;5;129;01mand\u001b[39;00m array\u001b[38;5;241m.\u001b[39mndim \u001b[38;5;241m==\u001b[39m \u001b[38;5;241m2\u001b[39m:\n\u001b[1;32m    938\u001b[0m     n_features \u001b[38;5;241m=\u001b[39m array\u001b[38;5;241m.\u001b[39mshape[\u001b[38;5;241m1\u001b[39m]\n",
      "\u001b[0;31mValueError\u001b[0m: Found array with 0 sample(s) (shape=(0, 784)) while a minimum of 1 is required by OneVsOneClassifier."
     ]
    }
   ],
   "source": [
    "from sklearn.datasets import load_digits\n",
    "from sklearn.svm import SVC\n",
    "from sklearn.multiclass import OneVsOneClassifier\n",
    "from itertools import combinations\n",
    "\n",
    "# Define the class labels for the digits dataset\n",
    "class_labels = list(range(10))\n",
    "\n",
    "# Generate all pairwise combinations of the class labels\n",
    "class_pairs = list(combinations(class_labels, 2))\n",
    "\n",
    "# Train SVC OvO models and obtain decision scores\n",
    "svc_ovo_decision_scores = {}\n",
    "\n",
    "# Iterate over the pairs of classes\n",
    "for class_pair in class_pairs:\n",
    "    class1, class2 = class_pair\n",
    "\n",
    "    # Filter the dataset for the current class pair\n",
    "    X_filtered = X_train_full[(y_train_full == class1) | (y_train_full == class2)]\n",
    "    y_filtered = y_train_full[(y_train_full == class1) | (y_train_full == class2)]\n",
    "\n",
    "    # Obtain the decision scores for the current class pair\n",
    "    decision_scores = svc_ovo_clf.decision_function(X_filtered)\n",
    "    svc_ovo_decision_scores[class_pair] = decision_scores\n",
    "\n",
    "# Access the decision scores for a specific class pair\n",
    "class_pair = (0, 1)\n",
    "decision_scores = svc_ovo_decision_scores[class_pair]\n",
    "print(f\"Decision scores for classes {class_pair}:\")\n",
    "print(decision_scores)\n"
   ]
  },
  {
   "cell_type": "code",
   "execution_count": null,
   "id": "42121295",
   "metadata": {},
   "outputs": [],
   "source": [
    "rf_ovr_clf = joblib.load(\"ovr_rf_clf_colab.pkl\")"
   ]
  },
  {
   "cell_type": "code",
   "execution_count": null,
   "id": "ddc8bf50",
   "metadata": {},
   "outputs": [],
   "source": [
    "predicted_probabilities = rf_ovr_clf .predict_proba(preprocessed_image)[0]"
   ]
  },
  {
   "cell_type": "code",
   "execution_count": null,
   "id": "c582f051",
   "metadata": {},
   "outputs": [],
   "source": [
    "predicted_probabilities"
   ]
  },
  {
   "cell_type": "code",
   "execution_count": null,
   "id": "a9222d14",
   "metadata": {},
   "outputs": [],
   "source": [
    "confidence_scores = predicted_probabilities.max(axis=0)"
   ]
  },
  {
   "cell_type": "code",
   "execution_count": null,
   "id": "0347d015",
   "metadata": {},
   "outputs": [],
   "source": [
    "confidence_scores"
   ]
  },
  {
   "cell_type": "code",
   "execution_count": null,
   "id": "70780635",
   "metadata": {},
   "outputs": [],
   "source": [
    "svc_ovo_clf = joblib.load(\"ovo_svc_clf_colab.pkl\")"
   ]
  },
  {
   "cell_type": "code",
   "execution_count": null,
   "id": "3616b641",
   "metadata": {},
   "outputs": [],
   "source": [
    "type(svc_ovo_clf)"
   ]
  },
  {
   "cell_type": "code",
   "execution_count": null,
   "id": "34f83ba0",
   "metadata": {},
   "outputs": [],
   "source": [
    "from sklearn.svm import SVC"
   ]
  },
  {
   "cell_type": "code",
   "execution_count": null,
   "id": "280cd252",
   "metadata": {},
   "outputs": [],
   "source": [
    "isinstance(svc_ovo_clf, SVC)"
   ]
  },
  {
   "cell_type": "code",
   "execution_count": null,
   "id": "cbff2aee",
   "metadata": {},
   "outputs": [],
   "source": [
    "isinstance(svc_ovo_clf, OneVsOneClassifier)"
   ]
  },
  {
   "cell_type": "code",
   "execution_count": null,
   "id": "3fcfaddd",
   "metadata": {},
   "outputs": [],
   "source": [
    "confidence_scores =svc_ovo_clf.decision_function(preprocessed_image)"
   ]
  },
  {
   "cell_type": "code",
   "execution_count": null,
   "id": "bbcb6717",
   "metadata": {},
   "outputs": [],
   "source": [
    "confidence_scores)"
   ]
  },
  {
   "cell_type": "code",
   "execution_count": null,
   "id": "c3aa77fd",
   "metadata": {},
   "outputs": [],
   "source": [
    "svc_ovr_clf = joblib.load(\"ovr_svc_clf_colab.pkl\")"
   ]
  },
  {
   "cell_type": "code",
   "execution_count": null,
   "id": "fbc76871",
   "metadata": {},
   "outputs": [],
   "source": [
    "isinstance(svc_ovr_clf, SVC)"
   ]
  },
  {
   "cell_type": "code",
   "execution_count": null,
   "id": "a3d7ed27",
   "metadata": {},
   "outputs": [],
   "source": [
    "type(svc_ovr_clf)"
   ]
  },
  {
   "cell_type": "code",
   "execution_count": null,
   "id": "2fe34460",
   "metadata": {},
   "outputs": [],
   "source": [
    "svc_ovo_"
   ]
  },
  {
   "cell_type": "code",
   "execution_count": 52,
   "id": "98bf6578",
   "metadata": {
    "scrolled": true
   },
   "outputs": [
    {
     "name": "stderr",
     "output_type": "stream",
     "text": [
      "/home/test/.local/lib/python3.10/site-packages/sklearn/base.py:439: UserWarning: X does not have valid feature names, but KNeighborsClassifier was fitted with feature names\n",
      "  warnings.warn(\n",
      "/home/test/.local/lib/python3.10/site-packages/sklearn/base.py:439: UserWarning: X does not have valid feature names, but OneVsOneClassifier was fitted with feature names\n",
      "  warnings.warn(\n",
      "/home/test/.local/lib/python3.10/site-packages/sklearn/base.py:439: UserWarning: X does not have valid feature names, but RandomForestClassifier was fitted with feature names\n",
      "  warnings.warn(\n",
      "/home/test/.local/lib/python3.10/site-packages/sklearn/base.py:439: UserWarning: X does not have valid feature names, but RandomForestClassifier was fitted with feature names\n",
      "  warnings.warn(\n",
      "/home/test/.local/lib/python3.10/site-packages/sklearn/base.py:439: UserWarning: X does not have valid feature names, but RandomForestClassifier was fitted with feature names\n",
      "  warnings.warn(\n",
      "/home/test/.local/lib/python3.10/site-packages/sklearn/base.py:439: UserWarning: X does not have valid feature names, but RandomForestClassifier was fitted with feature names\n",
      "  warnings.warn(\n",
      "/home/test/.local/lib/python3.10/site-packages/sklearn/base.py:439: UserWarning: X does not have valid feature names, but RandomForestClassifier was fitted with feature names\n",
      "  warnings.warn(\n",
      "/home/test/.local/lib/python3.10/site-packages/sklearn/base.py:439: UserWarning: X does not have valid feature names, but RandomForestClassifier was fitted with feature names\n",
      "  warnings.warn(\n",
      "/home/test/.local/lib/python3.10/site-packages/sklearn/base.py:439: UserWarning: X does not have valid feature names, but RandomForestClassifier was fitted with feature names\n",
      "  warnings.warn(\n",
      "/home/test/.local/lib/python3.10/site-packages/sklearn/base.py:439: UserWarning: X does not have valid feature names, but RandomForestClassifier was fitted with feature names\n",
      "  warnings.warn(\n",
      "/home/test/.local/lib/python3.10/site-packages/sklearn/base.py:439: UserWarning: X does not have valid feature names, but RandomForestClassifier was fitted with feature names\n",
      "  warnings.warn(\n",
      "/home/test/.local/lib/python3.10/site-packages/sklearn/base.py:439: UserWarning: X does not have valid feature names, but RandomForestClassifier was fitted with feature names\n",
      "  warnings.warn(\n"
     ]
    },
    {
     "ename": "NameError",
     "evalue": "name 'OneVsOneClassifier' is not defined",
     "output_type": "error",
     "traceback": [
      "\u001b[0;31m---------------------------------------------------------------------------\u001b[0m",
      "\u001b[0;31mNameError\u001b[0m                                 Traceback (most recent call last)",
      "Cell \u001b[0;32mIn[52], line 162\u001b[0m\n\u001b[1;32m    158\u001b[0m     \u001b[38;5;66;03m# Perform any post-processing on the predictions\u001b[39;00m\n\u001b[1;32m    160\u001b[0m     \u001b[38;5;28;01mreturn\u001b[39;00m predictions\n\u001b[0;32m--> 162\u001b[0m predictions \u001b[38;5;241m=\u001b[39m \u001b[43mmake_predictions\u001b[49m\u001b[43m(\u001b[49m\u001b[43mpreprocessed_image\u001b[49m\u001b[43m)\u001b[49m\n\u001b[1;32m    163\u001b[0m \u001b[38;5;28mprint\u001b[39m(\u001b[38;5;124m\"\u001b[39m\u001b[38;5;124mDone\u001b[39m\u001b[38;5;124m\"\u001b[39m)\n",
      "Cell \u001b[0;32mIn[52], line 94\u001b[0m, in \u001b[0;36mmake_predictions\u001b[0;34m(preprocessed_image)\u001b[0m\n\u001b[1;32m     84\u001b[0m svc_ovr_clf_pred \u001b[38;5;241m=\u001b[39m svc_ovr_clf\u001b[38;5;241m.\u001b[39mpredict(preprocessed_image)[\u001b[38;5;241m0\u001b[39m]\n\u001b[1;32m     86\u001b[0m \u001b[38;5;66;03m# Generate base64-encoded image data\u001b[39;00m\n\u001b[1;32m     87\u001b[0m \n\u001b[1;32m     88\u001b[0m \n\u001b[1;32m     89\u001b[0m \u001b[38;5;66;03m# Create a dictionary to store the model predictions and confidence scores\u001b[39;00m\n\u001b[1;32m     90\u001b[0m predictions \u001b[38;5;241m=\u001b[39m {\n\u001b[1;32m     91\u001b[0m     \u001b[38;5;124m'\u001b[39m\u001b[38;5;124mimage\u001b[39m\u001b[38;5;124m'\u001b[39m: plot_digit(preprocessed_image),\n\u001b[1;32m     92\u001b[0m     \u001b[38;5;124m'\u001b[39m\u001b[38;5;124mknn_enhanced\u001b[39m\u001b[38;5;124m'\u001b[39m: {\n\u001b[1;32m     93\u001b[0m         \u001b[38;5;124m'\u001b[39m\u001b[38;5;124mprediction\u001b[39m\u001b[38;5;124m'\u001b[39m:knn_enhance_pred,\n\u001b[0;32m---> 94\u001b[0m         \u001b[38;5;124m'\u001b[39m\u001b[38;5;124mconfidence\u001b[39m\u001b[38;5;124m'\u001b[39m: \u001b[43mcalculate_confidence_score\u001b[49m\u001b[43m(\u001b[49m\u001b[43mknn_enhanced\u001b[49m\u001b[43m,\u001b[49m\u001b[43m \u001b[49m\u001b[43mpreprocessed_image\u001b[49m\u001b[43m)\u001b[49m,\n\u001b[1;32m     95\u001b[0m         \u001b[38;5;124m'\u001b[39m\u001b[38;5;124maccuracy\u001b[39m\u001b[38;5;124m'\u001b[39m: \u001b[38;5;241m0.9714\u001b[39m, \n\u001b[1;32m     96\u001b[0m         \u001b[38;5;124m'\u001b[39m\u001b[38;5;124mprecision\u001b[39m\u001b[38;5;124m'\u001b[39m: \u001b[38;5;241m0.9715597201945959\u001b[39m, \n\u001b[1;32m     97\u001b[0m         \u001b[38;5;124m'\u001b[39m\u001b[38;5;124mrecall\u001b[39m\u001b[38;5;124m'\u001b[39m: \u001b[38;5;241m0.9714\u001b[39m,\n\u001b[1;32m     98\u001b[0m         \u001b[38;5;124m'\u001b[39m\u001b[38;5;124mf1_score\u001b[39m\u001b[38;5;124m'\u001b[39m:\u001b[38;5;241m0.9713597782738583\u001b[39m,\n\u001b[1;32m     99\u001b[0m     },\n\u001b[1;32m    100\u001b[0m     \u001b[38;5;124m'\u001b[39m\u001b[38;5;124mknn_extended\u001b[39m\u001b[38;5;124m'\u001b[39m: {\n\u001b[1;32m    101\u001b[0m         \u001b[38;5;124m'\u001b[39m\u001b[38;5;124mprediction\u001b[39m\u001b[38;5;124m'\u001b[39m: knn_extended_pred,\n\u001b[1;32m    102\u001b[0m         \u001b[38;5;124m'\u001b[39m\u001b[38;5;124mconfidence\u001b[39m\u001b[38;5;124m'\u001b[39m: calculate_confidence_score(knn_extended, preprocessed_image),\n\u001b[1;32m    103\u001b[0m         \u001b[38;5;124m'\u001b[39m\u001b[38;5;124maccuracy\u001b[39m\u001b[38;5;124m'\u001b[39m: \u001b[38;5;241m0.9763\u001b[39m, \n\u001b[1;32m    104\u001b[0m         \u001b[38;5;124m'\u001b[39m\u001b[38;5;124mprecision\u001b[39m\u001b[38;5;124m'\u001b[39m: \u001b[38;5;241m0.9766352308968693\u001b[39m, \n\u001b[1;32m    105\u001b[0m         \u001b[38;5;124m'\u001b[39m\u001b[38;5;124mrecall\u001b[39m\u001b[38;5;124m'\u001b[39m: \u001b[38;5;241m0.9763\u001b[39m,\n\u001b[1;32m    106\u001b[0m         \u001b[38;5;124m'\u001b[39m\u001b[38;5;124mf1_score\u001b[39m\u001b[38;5;124m'\u001b[39m:\u001b[38;5;241m0.9762833512584528\u001b[39m,\n\u001b[1;32m    107\u001b[0m     },\n\u001b[1;32m    108\u001b[0m     \u001b[38;5;124m'\u001b[39m\u001b[38;5;124mrf_ovo_clf\u001b[39m\u001b[38;5;124m'\u001b[39m: {\n\u001b[1;32m    109\u001b[0m         \u001b[38;5;124m'\u001b[39m\u001b[38;5;124mprediction\u001b[39m\u001b[38;5;124m'\u001b[39m: rf_ovo_clf_pred,\n\u001b[1;32m    110\u001b[0m         \u001b[38;5;124m'\u001b[39m\u001b[38;5;124mconfidence\u001b[39m\u001b[38;5;124m'\u001b[39m: calculate_confidence_score(rf_ovo_clf, preprocessed_image),\n\u001b[1;32m    111\u001b[0m         \u001b[38;5;124m'\u001b[39m\u001b[38;5;124maccuracy\u001b[39m\u001b[38;5;124m'\u001b[39m: \u001b[38;5;241m0.9656\u001b[39m, \n\u001b[1;32m    112\u001b[0m         \u001b[38;5;124m'\u001b[39m\u001b[38;5;124mprecision\u001b[39m\u001b[38;5;124m'\u001b[39m: \u001b[38;5;241m0.9654536968771158\u001b[39m, \n\u001b[1;32m    113\u001b[0m         \u001b[38;5;124m'\u001b[39m\u001b[38;5;124mrecall\u001b[39m\u001b[38;5;124m'\u001b[39m: \u001b[38;5;241m0.9656\u001b[39m,\n\u001b[1;32m    114\u001b[0m         \u001b[38;5;124m'\u001b[39m\u001b[38;5;124mf1_score\u001b[39m\u001b[38;5;124m'\u001b[39m:\u001b[38;5;241m0.9656443811404773\u001b[39m,\n\u001b[1;32m    115\u001b[0m     },\n\u001b[1;32m    116\u001b[0m     \u001b[38;5;124m'\u001b[39m\u001b[38;5;124mrf_ovr_clf\u001b[39m\u001b[38;5;124m'\u001b[39m: {\n\u001b[1;32m    117\u001b[0m         \u001b[38;5;124m'\u001b[39m\u001b[38;5;124mprediction\u001b[39m\u001b[38;5;124m'\u001b[39m: rf_ovr_clf_pred,\n\u001b[1;32m    118\u001b[0m         \u001b[38;5;124m'\u001b[39m\u001b[38;5;124mconfidence\u001b[39m\u001b[38;5;124m'\u001b[39m: calculate_confidence_score(rf_ovr_clf, preprocessed_image),\n\u001b[1;32m    119\u001b[0m         \u001b[38;5;124m'\u001b[39m\u001b[38;5;124maccuracy\u001b[39m\u001b[38;5;124m'\u001b[39m: \u001b[38;5;241m0.9665\u001b[39m, \n\u001b[1;32m    120\u001b[0m         \u001b[38;5;124m'\u001b[39m\u001b[38;5;124mprecision\u001b[39m\u001b[38;5;124m'\u001b[39m: \u001b[38;5;241m0.9664331517825872\u001b[39m, \n\u001b[1;32m    121\u001b[0m         \u001b[38;5;124m'\u001b[39m\u001b[38;5;124mrecall\u001b[39m\u001b[38;5;124m'\u001b[39m: \u001b[38;5;241m0.9665\u001b[39m,\n\u001b[1;32m    122\u001b[0m         \u001b[38;5;124m'\u001b[39m\u001b[38;5;124mf1_score\u001b[39m\u001b[38;5;124m'\u001b[39m:\u001b[38;5;241m0.9664931379194104\u001b[39m,\n\u001b[1;32m    123\u001b[0m     },\n\u001b[1;32m    124\u001b[0m     \u001b[38;5;124m'\u001b[39m\u001b[38;5;124msgd_ovo_clf\u001b[39m\u001b[38;5;124m'\u001b[39m: {\n\u001b[1;32m    125\u001b[0m         \u001b[38;5;124m'\u001b[39m\u001b[38;5;124mprediction\u001b[39m\u001b[38;5;124m'\u001b[39m: sgd_ovo_clf_pred,\n\u001b[1;32m    126\u001b[0m         \u001b[38;5;124m'\u001b[39m\u001b[38;5;124mconfidence\u001b[39m\u001b[38;5;124m'\u001b[39m: calculate_confidence_score(sgd_ovo_clf, preprocessed_image),\n\u001b[1;32m    127\u001b[0m         \u001b[38;5;124m'\u001b[39m\u001b[38;5;124maccuracy\u001b[39m\u001b[38;5;124m'\u001b[39m: \u001b[38;5;241m0.813\u001b[39m, \n\u001b[1;32m    128\u001b[0m         \u001b[38;5;124m'\u001b[39m\u001b[38;5;124mprecision\u001b[39m\u001b[38;5;124m'\u001b[39m: \u001b[38;5;241m0.8591031022514455\u001b[39m, \n\u001b[1;32m    129\u001b[0m         \u001b[38;5;124m'\u001b[39m\u001b[38;5;124mrecall\u001b[39m\u001b[38;5;124m'\u001b[39m: \u001b[38;5;241m0.813\u001b[39m,\n\u001b[1;32m    130\u001b[0m         \u001b[38;5;124m'\u001b[39m\u001b[38;5;124mf1_score\u001b[39m\u001b[38;5;124m'\u001b[39m:\u001b[38;5;241m0.800547282398953\u001b[39m,\n\u001b[1;32m    131\u001b[0m     },\n\u001b[1;32m    132\u001b[0m     \u001b[38;5;124m'\u001b[39m\u001b[38;5;124msgd_ovr_clf\u001b[39m\u001b[38;5;124m'\u001b[39m: {\n\u001b[1;32m    133\u001b[0m         \u001b[38;5;124m'\u001b[39m\u001b[38;5;124mprediction\u001b[39m\u001b[38;5;124m'\u001b[39m: sgd_ovr_clf_pred,\n\u001b[1;32m    134\u001b[0m         \u001b[38;5;124m'\u001b[39m\u001b[38;5;124mconfidence\u001b[39m\u001b[38;5;124m'\u001b[39m: calculate_confidence_score(sgd_ovr_clf, preprocessed_image),\n\u001b[1;32m    135\u001b[0m         \u001b[38;5;124m'\u001b[39m\u001b[38;5;124maccuracy\u001b[39m\u001b[38;5;124m'\u001b[39m: \u001b[38;5;241m0.8253\u001b[39m, \n\u001b[1;32m    136\u001b[0m         \u001b[38;5;124m'\u001b[39m\u001b[38;5;124mprecision\u001b[39m\u001b[38;5;124m'\u001b[39m: \u001b[38;5;241m0.8492765055766178\u001b[39m, \n\u001b[1;32m    137\u001b[0m         \u001b[38;5;124m'\u001b[39m\u001b[38;5;124mrecall\u001b[39m\u001b[38;5;124m'\u001b[39m: \u001b[38;5;241m0.8253\u001b[39m,\n\u001b[1;32m    138\u001b[0m         \u001b[38;5;124m'\u001b[39m\u001b[38;5;124mf1_score\u001b[39m\u001b[38;5;124m'\u001b[39m:\u001b[38;5;241m0.8208239418579742\u001b[39m,\n\u001b[1;32m    139\u001b[0m     },\n\u001b[1;32m    140\u001b[0m     \u001b[38;5;124m'\u001b[39m\u001b[38;5;124msvc_ovo_clf\u001b[39m\u001b[38;5;124m'\u001b[39m: {\n\u001b[1;32m    141\u001b[0m         \u001b[38;5;124m'\u001b[39m\u001b[38;5;124mprediction\u001b[39m\u001b[38;5;124m'\u001b[39m: svc_ovo_clf_pred,\n\u001b[1;32m    142\u001b[0m         \u001b[38;5;124m'\u001b[39m\u001b[38;5;124mconfidence\u001b[39m\u001b[38;5;124m'\u001b[39m: calculate_confidence_score(svc_ovo_clf, preprocessed_image),\n\u001b[1;32m    143\u001b[0m         \u001b[38;5;124m'\u001b[39m\u001b[38;5;124maccuracy\u001b[39m\u001b[38;5;124m'\u001b[39m: \u001b[38;5;241m0.1028\u001b[39m, \n\u001b[1;32m    144\u001b[0m         \u001b[38;5;124m'\u001b[39m\u001b[38;5;124mprecision\u001b[39m\u001b[38;5;124m'\u001b[39m: \u001b[38;5;241m0.010280000000000001\u001b[39m, \n\u001b[1;32m    145\u001b[0m         \u001b[38;5;124m'\u001b[39m\u001b[38;5;124mrecall\u001b[39m\u001b[38;5;124m'\u001b[39m: \u001b[38;5;241m0.1028\u001b[39m,\n\u001b[1;32m    146\u001b[0m         \u001b[38;5;124m'\u001b[39m\u001b[38;5;124mf1_score\u001b[39m\u001b[38;5;124m'\u001b[39m: \u001b[38;5;241m0.019165469713456656\u001b[39m,\n\u001b[1;32m    147\u001b[0m     },\n\u001b[1;32m    148\u001b[0m     \u001b[38;5;124m'\u001b[39m\u001b[38;5;124msvc_ovr_clf\u001b[39m\u001b[38;5;124m'\u001b[39m: {\n\u001b[1;32m    149\u001b[0m         \u001b[38;5;124m'\u001b[39m\u001b[38;5;124mprediction\u001b[39m\u001b[38;5;124m'\u001b[39m: svc_ovr_clf_pred,\n\u001b[1;32m    150\u001b[0m         \u001b[38;5;124m'\u001b[39m\u001b[38;5;124mconfidence\u001b[39m\u001b[38;5;124m'\u001b[39m: calculate_confidence_score(svc_ovr_clf, preprocessed_image),\n\u001b[1;32m    151\u001b[0m         \u001b[38;5;124m'\u001b[39m\u001b[38;5;124maccuracy\u001b[39m\u001b[38;5;124m'\u001b[39m: \u001b[38;5;241m0.1028\u001b[39m, \n\u001b[1;32m    152\u001b[0m         \u001b[38;5;124m'\u001b[39m\u001b[38;5;124mprecision\u001b[39m\u001b[38;5;124m'\u001b[39m: \u001b[38;5;241m0.01056784\u001b[39m, \n\u001b[1;32m    153\u001b[0m         \u001b[38;5;124m'\u001b[39m\u001b[38;5;124mrecall\u001b[39m\u001b[38;5;124m'\u001b[39m: \u001b[38;5;241m0.1028\u001b[39m,\n\u001b[1;32m    154\u001b[0m         \u001b[38;5;124m'\u001b[39m\u001b[38;5;124mf1_score\u001b[39m\u001b[38;5;124m'\u001b[39m: \u001b[38;5;241m0.019165469713456656\u001b[39m,\n\u001b[1;32m    155\u001b[0m     }\n\u001b[1;32m    156\u001b[0m }\n\u001b[1;32m    158\u001b[0m \u001b[38;5;66;03m# Perform any post-processing on the predictions\u001b[39;00m\n\u001b[1;32m    160\u001b[0m \u001b[38;5;28;01mreturn\u001b[39;00m predictions\n",
      "Cell \u001b[0;32mIn[52], line 12\u001b[0m, in \u001b[0;36mcalculate_confidence_score\u001b[0;34m(model, preprocessed_image)\u001b[0m\n\u001b[1;32m     10\u001b[0m \u001b[38;5;28;01mdef\u001b[39;00m \u001b[38;5;21mcalculate_confidence_score\u001b[39m(model, preprocessed_image):\n\u001b[1;32m     11\u001b[0m     confidence_score \u001b[38;5;241m=\u001b[39m \u001b[38;5;241m0\u001b[39m\n\u001b[0;32m---> 12\u001b[0m     \u001b[38;5;28;01mif\u001b[39;00m \u001b[38;5;28misinstance\u001b[39m(model, (\u001b[43mOneVsOneClassifier\u001b[49m, OneVsRestClassifier)):\n\u001b[1;32m     13\u001b[0m         base_estimator \u001b[38;5;241m=\u001b[39m model\u001b[38;5;241m.\u001b[39mestimator  \u001b[38;5;66;03m# type: ignore\u001b[39;00m\n\u001b[1;32m     14\u001b[0m         \u001b[38;5;28;01mif\u001b[39;00m \u001b[38;5;28misinstance\u001b[39m(base_estimator, (SGDClassifier, RandomForestClassifier)):\n\u001b[1;32m     15\u001b[0m         \u001b[38;5;66;03m# For SGD, SVC, and RandomForestClassifier models, use decision_function to get the confidence scores\u001b[39;00m\n",
      "\u001b[0;31mNameError\u001b[0m: name 'OneVsOneClassifier' is not defined"
     ]
    }
   ],
   "source": [
    "from matplotlib.backends.backend_agg import FigureCanvasAgg \n",
    "import io, base64\n",
    "def predict_image(preprocessed_image):\n",
    "    # Perform prediction using a machine learning model\n",
    "    predictions = make_predictions(preprocessed_image)\n",
    "\n",
    "    return predictions\n",
    "\n",
    "\n",
    "def calculate_confidence_score(model, preprocessed_image):\n",
    "    confidence_score = 0\n",
    "    if isinstance(model, (OneVsOneClassifier, OneVsRestClassifier)):\n",
    "        base_estimator = model.estimator  # type: ignore\n",
    "        if isinstance(base_estimator, (SGDClassifier, RandomForestClassifier)):\n",
    "        # For SGD, SVC, and RandomForestClassifier models, use decision_function to get the confidence scores\n",
    "            if hasattr(model, 'decision_function'):\n",
    "                \n",
    "                decision_values = svc_ovo_clf.decision_function(preprocessed_image)\n",
    "                confidence_scores = (decision_values - decision_values.min()) / (decision_values.max() - decision_values.min()) * 100\n",
    "                confidence_score = max(max(confidence_scores)) #type: ignore\n",
    "            elif hasattr(model, 'predict_proba'):\n",
    "                # For RandomForestClassifier, use predict_proba to get the predicted probabilities\n",
    "                predicted_probabilities = model.predict_proba(preprocessed_image)[0]  #type: ignore\n",
    "                confidence_score = predicted_probabilities.max(axis=0)* 100\n",
    "            else:\n",
    "                raise ValueError(\"Unsupported model type\")\n",
    "    elif isinstance(model, SVC):\n",
    "        # For SVC model, use decision_function to get the confidence scores\n",
    "        confidence_score = max(max(model.decision_function(preprocessed_image)))  # type: ignore\n",
    "        \n",
    "    elif isinstance(model, KNeighborsClassifier):\n",
    "        # For KNeighborsClassifier model, use predict_proba to get the predicted probabilities\n",
    "        predicted_probabilities = model.predict_proba(preprocessed_image)[0] #type: ignore\n",
    "        confidence_score = max(predicted_probabilities) * 100\n",
    "    else:\n",
    "        raise ValueError(\"Unsupported model type\")\n",
    "\n",
    "    return confidence_score\n",
    "\n",
    "import matplotlib as mpl\n",
    "import matplotlib.pyplot as plt\n",
    "\n",
    "def plot_digit(data):\n",
    "    image = data.reshape(28, 28)\n",
    "    fig, ax = plt.subplots(figsize=(2, 2))\n",
    "    ax.imshow(image, cmap=mpl.cm.binary, interpolation=\"nearest\") #type: ignore\n",
    "    ax.axis(\"off\")\n",
    "\n",
    "    # Render the figure on the canvas\n",
    "    canvas = FigureCanvasAgg(fig)\n",
    "    canvas.draw()\n",
    "\n",
    "    # Save the rendered figure to a buffer\n",
    "    buffer = io.BytesIO()\n",
    "    canvas.print_png(buffer)\n",
    "\n",
    "    # Encode the image buffer to base64\n",
    "    image_base64 = base64.b64encode(buffer.getvalue()).decode(\"utf-8\")\n",
    "\n",
    "    plt.close(fig)  # Close the figure\n",
    "\n",
    "    return image_base64\n",
    "\n",
    "\n",
    "\n",
    "\n",
    "def make_predictions(preprocessed_image):\n",
    "\n",
    "    # Assuming your 1D array is named 'input_array'\n",
    "    preprocessed_image = preprocessed_image.reshape(1, -1)\n",
    "    # preprocessed_image_index = np.where(np.all(test_images == preprocessed_image, axis=1))[0][0] #type: ignore\n",
    "    \n",
    "    # Use the preprocessed image and loaded models to make predictions\n",
    "    knn_enhance_pred = knn_enhanced.predict(preprocessed_image)[0]\n",
    "    knn_extended_pred = knn_extended.predict(preprocessed_image)[0]\n",
    "\n",
    "    rf_ovo_clf_pred = rf_ovo_clf.predict(preprocessed_image)[0]\n",
    "    rf_ovr_clf_pred = rf_ovr_clf.predict(preprocessed_image)[0]\n",
    "\n",
    "    sgd_ovo_clf_pred = sgd_ovo_clf.predict(preprocessed_image)[0]\n",
    "    sgd_ovr_clf_pred = sgd_ovr_clf.predict(preprocessed_image)[0]\n",
    "\n",
    "    svc_ovo_clf_pred = svc_ovo_clf.predict(preprocessed_image)[0]\n",
    "    svc_ovr_clf_pred = svc_ovr_clf.predict(preprocessed_image)[0]\n",
    "\n",
    "    # Generate base64-encoded image data\n",
    "\n",
    "\n",
    "    # Create a dictionary to store the model predictions and confidence scores\n",
    "    predictions = {\n",
    "        'image': plot_digit(preprocessed_image),\n",
    "        'knn_enhanced': {\n",
    "            'prediction':knn_enhance_pred,\n",
    "            'confidence': calculate_confidence_score(knn_enhanced, preprocessed_image),\n",
    "            'accuracy': 0.9714, \n",
    "            'precision': 0.9715597201945959, \n",
    "            'recall': 0.9714,\n",
    "            'f1_score':0.9713597782738583,\n",
    "        },\n",
    "        'knn_extended': {\n",
    "            'prediction': knn_extended_pred,\n",
    "            'confidence': calculate_confidence_score(knn_extended, preprocessed_image),\n",
    "            'accuracy': 0.9763, \n",
    "            'precision': 0.9766352308968693, \n",
    "            'recall': 0.9763,\n",
    "            'f1_score':0.9762833512584528,\n",
    "        },\n",
    "        'rf_ovo_clf': {\n",
    "            'prediction': rf_ovo_clf_pred,\n",
    "            'confidence': calculate_confidence_score(rf_ovo_clf, preprocessed_image),\n",
    "            'accuracy': 0.9656, \n",
    "            'precision': 0.9654536968771158, \n",
    "            'recall': 0.9656,\n",
    "            'f1_score':0.9656443811404773,\n",
    "        },\n",
    "        'rf_ovr_clf': {\n",
    "            'prediction': rf_ovr_clf_pred,\n",
    "            'confidence': calculate_confidence_score(rf_ovr_clf, preprocessed_image),\n",
    "            'accuracy': 0.9665, \n",
    "            'precision': 0.9664331517825872, \n",
    "            'recall': 0.9665,\n",
    "            'f1_score':0.9664931379194104,\n",
    "        },\n",
    "        'sgd_ovo_clf': {\n",
    "            'prediction': sgd_ovo_clf_pred,\n",
    "            'confidence': calculate_confidence_score(sgd_ovo_clf, preprocessed_image),\n",
    "            'accuracy': 0.813, \n",
    "            'precision': 0.8591031022514455, \n",
    "            'recall': 0.813,\n",
    "            'f1_score':0.800547282398953,\n",
    "        },\n",
    "        'sgd_ovr_clf': {\n",
    "            'prediction': sgd_ovr_clf_pred,\n",
    "            'confidence': calculate_confidence_score(sgd_ovr_clf, preprocessed_image),\n",
    "            'accuracy': 0.8253, \n",
    "            'precision': 0.8492765055766178, \n",
    "            'recall': 0.8253,\n",
    "            'f1_score':0.8208239418579742,\n",
    "        },\n",
    "        'svc_ovo_clf': {\n",
    "            'prediction': svc_ovo_clf_pred,\n",
    "            'confidence': calculate_confidence_score(svc_ovo_clf, preprocessed_image),\n",
    "            'accuracy': 0.1028, \n",
    "            'precision': 0.010280000000000001, \n",
    "            'recall': 0.1028,\n",
    "            'f1_score': 0.019165469713456656,\n",
    "        },\n",
    "        'svc_ovr_clf': {\n",
    "            'prediction': svc_ovr_clf_pred,\n",
    "            'confidence': calculate_confidence_score(svc_ovr_clf, preprocessed_image),\n",
    "            'accuracy': 0.1028, \n",
    "            'precision': 0.01056784, \n",
    "            'recall': 0.1028,\n",
    "            'f1_score': 0.019165469713456656,\n",
    "        }\n",
    "    }\n",
    "\n",
    "    # Perform any post-processing on the predictions\n",
    "\n",
    "    return predictions\n",
    "\n",
    "predictions = make_predictions(preprocessed_image)\n",
    "print(\"Done\")"
   ]
  },
  {
   "cell_type": "code",
   "execution_count": 224,
   "id": "44290e23",
   "metadata": {},
   "outputs": [],
   "source": [
    "import matplotlib as mpl\n",
    "import matplotlib.pyplot as plt\n",
    "\n",
    "def plot_digit(data):\n",
    "    normalized_data = (data - data.min()) / (data.max() - data.min())\n",
    "\n",
    "    plt.imshow(normalized_data, cmap = mpl.cm.binary,\n",
    "               interpolation=\"nearest\")\n",
    "    plt.axis(\"off\")\n",
    "    plt.show();"
   ]
  },
  {
   "cell_type": "code",
   "execution_count": 27,
   "id": "a3edecc0",
   "metadata": {},
   "outputs": [
    {
     "data": {
      "text/plain": [
       "{'image': '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',\n",
       " 'knn_enhanced': {'prediction': 9,\n",
       "  'confidence': 100.0,\n",
       "  'accuracy': 0.9714,\n",
       "  'precision': 0.9715597201945959,\n",
       "  'recall': 0.9714,\n",
       "  'f1_score': 0.9713597782738583},\n",
       " 'knn_extended': {'prediction': 9,\n",
       "  'confidence': 100.0,\n",
       "  'accuracy': 0.9763,\n",
       "  'precision': 0.9766352308968693,\n",
       "  'recall': 0.9763,\n",
       "  'f1_score': 0.9762833512584528},\n",
       " 'rf_ovo_clf': {'prediction': 9,\n",
       "  'confidence': 100.0,\n",
       "  'accuracy': 0.9656,\n",
       "  'precision': 0.9654536968771158,\n",
       "  'recall': 0.9656,\n",
       "  'f1_score': 0.9656443811404773},\n",
       " 'rf_ovr_clf': {'prediction': 9,\n",
       "  'confidence': 94.28571428571428,\n",
       "  'accuracy': 0.9665,\n",
       "  'precision': 0.9664331517825872,\n",
       "  'recall': 0.9665,\n",
       "  'f1_score': 0.9664931379194104},\n",
       " 'sgd_ovo_clf': {'prediction': 9,\n",
       "  'confidence': 100.0,\n",
       "  'accuracy': 0.813,\n",
       "  'precision': 0.8591031022514455,\n",
       "  'recall': 0.813,\n",
       "  'f1_score': 0.800547282398953},\n",
       " 'sgd_ovr_clf': {'prediction': 9,\n",
       "  'confidence': 100.0,\n",
       "  'accuracy': 0.8253,\n",
       "  'precision': 0.8492765055766178,\n",
       "  'recall': 0.8253,\n",
       "  'f1_score': 0.8208239418579742},\n",
       " 'svc_ovo_clf': {'prediction': 7,\n",
       "  'confidence': 9.268683779520671,\n",
       "  'accuracy': 0.1028,\n",
       "  'precision': 0.010280000000000001,\n",
       "  'recall': 0.1028,\n",
       "  'f1_score': 0.019165469713456656},\n",
       " 'svc_ovr_clf': {'prediction': 7,\n",
       "  'confidence': 0,\n",
       "  'accuracy': 0.1028,\n",
       "  'precision': 0.01056784,\n",
       "  'recall': 0.1028,\n",
       "  'f1_score': 0.019165469713456656}}"
      ]
     },
     "execution_count": 27,
     "metadata": {},
     "output_type": "execute_result"
    }
   ],
   "source": [
    "predictions"
   ]
  },
  {
   "cell_type": "code",
   "execution_count": 28,
   "id": "615ae8a4",
   "metadata": {},
   "outputs": [
    {
     "name": "stdout",
     "output_type": "stream",
     "text": [
      "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\n"
     ]
    }
   ],
   "source": [
    "print(predictions['image'])"
   ]
  },
  {
   "cell_type": "code",
   "execution_count": 30,
   "id": "d48ad689",
   "metadata": {},
   "outputs": [],
   "source": [
    "from PIL import Image\n",
    "\n",
    "# Assuming `image_base64` contains the base64-encoded image data\n",
    "image_data = base64.b64decode(predictions['image'])\n",
    "\n",
    "# Create an in-memory stream to hold the image data\n",
    "image_stream = io.BytesIO(image_data)\n",
    "\n",
    "# Open the image stream as a PIL Image object\n",
    "image = Image.open(image_stream)\n",
    "\n",
    "# Save the image to a file\n",
    "image.save('decoded_image.png')"
   ]
  },
  {
   "cell_type": "code",
   "execution_count": 215,
   "id": "645638e1",
   "metadata": {
    "scrolled": true
   },
   "outputs": [
    {
     "data": {
      "text/plain": [
       "{'idx': 9423,\n",
       " 'knn_enhanced': {'name': 'ave    ',\n",
       "  'prediction': 9,\n",
       "  'confidence': 100.0,\n",
       "  'accuracy': 0.9714,\n",
       "  'precision': 0.9715597201945959,\n",
       "  'recall': 0.9714,\n",
       "  'f1_score': 0.9713597782738583},\n",
       " 'knn_extended': {'name': 9,\n",
       "  'confidence': 100.0,\n",
       "  'accuracy': 0.9763,\n",
       "  'precision': 0.9766352308968693,\n",
       "  'recall': 0.9763,\n",
       "  'f1_score': 0.9762833512584528},\n",
       " 'rf_ovo_clf': {'name': 9,\n",
       "  'confidence': 100.0,\n",
       "  'accuracy': 0.9656,\n",
       "  'precision': 0.9654536968771158,\n",
       "  'recall': 0.9656,\n",
       "  'f1_score': 0.9656443811404773},\n",
       " 'rf_ovr_clf': {'name': 9,\n",
       "  'confidence': 94.18604651162791,\n",
       "  'accuracy': 0.9665,\n",
       "  'precision': 0.9664331517825872,\n",
       "  'recall': 0.9665,\n",
       "  'f1_score': 0.9664931379194104},\n",
       " 'sgd_ovo_clf': {'name': 9,\n",
       "  'confidence': 100.0,\n",
       "  'accuracy': 0.813,\n",
       "  'precision': 0.8591031022514455,\n",
       "  'recall': 0.813,\n",
       "  'f1_score': 0.800547282398953},\n",
       " 'sgd_ovr_clf': {'name': 9,\n",
       "  'confidence': 100.0,\n",
       "  'accuracy': 0.8253,\n",
       "  'precision': 0.8492765055766178,\n",
       "  'recall': 0.8253,\n",
       "  'f1_score': 0.8208239418579742},\n",
       " 'svc_ovo_clf': {'name': 7,\n",
       "  'confidence': 9.268683779520671,\n",
       "  'accuracy': 0.1028,\n",
       "  'precision': 0.010280000000000001,\n",
       "  'recall': 0.1028,\n",
       "  'f1_score': 0.019165469713456656},\n",
       " 'svc_ovr_clf': {'name': 7,\n",
       "  'confidence': 0,\n",
       "  'accuracy': 0.1028,\n",
       "  'precision': 0.01056784,\n",
       "  'recall': 0.1028,\n",
       "  'f1_score': 0.019165469713456656}}"
      ]
     },
     "execution_count": 215,
     "metadata": {},
     "output_type": "execute_result"
    }
   ],
   "source": [
    "predictions"
   ]
  },
  {
   "cell_type": "code",
   "execution_count": 159,
   "id": "faac2970",
   "metadata": {
    "scrolled": false
   },
   "outputs": [
    {
     "name": "stderr",
     "output_type": "stream",
     "text": [
      "/home/test/.local/lib/python3.10/site-packages/sklearn/base.py:439: UserWarning: X does not have valid feature names, but KNeighborsClassifier was fitted with feature names\n",
      "  warnings.warn(\n",
      "/home/test/.local/lib/python3.10/site-packages/sklearn/base.py:439: UserWarning: X does not have valid feature names, but OneVsOneClassifier was fitted with feature names\n",
      "  warnings.warn(\n",
      "/home/test/.local/lib/python3.10/site-packages/sklearn/base.py:439: UserWarning: X does not have valid feature names, but RandomForestClassifier was fitted with feature names\n",
      "  warnings.warn(\n",
      "/home/test/.local/lib/python3.10/site-packages/sklearn/base.py:439: UserWarning: X does not have valid feature names, but RandomForestClassifier was fitted with feature names\n",
      "  warnings.warn(\n",
      "/home/test/.local/lib/python3.10/site-packages/sklearn/base.py:439: UserWarning: X does not have valid feature names, but RandomForestClassifier was fitted with feature names\n",
      "  warnings.warn(\n",
      "/home/test/.local/lib/python3.10/site-packages/sklearn/base.py:439: UserWarning: X does not have valid feature names, but RandomForestClassifier was fitted with feature names\n",
      "  warnings.warn(\n",
      "/home/test/.local/lib/python3.10/site-packages/sklearn/base.py:439: UserWarning: X does not have valid feature names, but RandomForestClassifier was fitted with feature names\n",
      "  warnings.warn(\n",
      "/home/test/.local/lib/python3.10/site-packages/sklearn/base.py:439: UserWarning: X does not have valid feature names, but RandomForestClassifier was fitted with feature names\n",
      "  warnings.warn(\n",
      "/home/test/.local/lib/python3.10/site-packages/sklearn/base.py:439: UserWarning: X does not have valid feature names, but RandomForestClassifier was fitted with feature names\n",
      "  warnings.warn(\n",
      "/home/test/.local/lib/python3.10/site-packages/sklearn/base.py:439: UserWarning: X does not have valid feature names, but RandomForestClassifier was fitted with feature names\n",
      "  warnings.warn(\n",
      "/home/test/.local/lib/python3.10/site-packages/sklearn/base.py:439: UserWarning: X does not have valid feature names, but RandomForestClassifier was fitted with feature names\n",
      "  warnings.warn(\n",
      "/home/test/.local/lib/python3.10/site-packages/sklearn/base.py:439: UserWarning: X does not have valid feature names, but RandomForestClassifier was fitted with feature names\n",
      "  warnings.warn(\n",
      "/home/test/.local/lib/python3.10/site-packages/sklearn/base.py:439: UserWarning: X does not have valid feature names, but KNeighborsClassifier was fitted with feature names\n",
      "  warnings.warn(\n",
      "/home/test/.local/lib/python3.10/site-packages/sklearn/base.py:439: UserWarning: X does not have valid feature names, but RandomForestClassifier was fitted with feature names\n",
      "  warnings.warn(\n",
      "/home/test/.local/lib/python3.10/site-packages/sklearn/base.py:439: UserWarning: X does not have valid feature names, but RandomForestClassifier was fitted with feature names\n",
      "  warnings.warn(\n",
      "/home/test/.local/lib/python3.10/site-packages/sklearn/base.py:439: UserWarning: X does not have valid feature names, but RandomForestClassifier was fitted with feature names\n",
      "  warnings.warn(\n",
      "/home/test/.local/lib/python3.10/site-packages/sklearn/base.py:439: UserWarning: X does not have valid feature names, but RandomForestClassifier was fitted with feature names\n",
      "  warnings.warn(\n",
      "/home/test/.local/lib/python3.10/site-packages/sklearn/base.py:439: UserWarning: X does not have valid feature names, but RandomForestClassifier was fitted with feature names\n",
      "  warnings.warn(\n",
      "/home/test/.local/lib/python3.10/site-packages/sklearn/base.py:439: UserWarning: X does not have valid feature names, but RandomForestClassifier was fitted with feature names\n",
      "  warnings.warn(\n",
      "/home/test/.local/lib/python3.10/site-packages/sklearn/base.py:439: UserWarning: X does not have valid feature names, but RandomForestClassifier was fitted with feature names\n",
      "  warnings.warn(\n",
      "/home/test/.local/lib/python3.10/site-packages/sklearn/base.py:439: UserWarning: X does not have valid feature names, but RandomForestClassifier was fitted with feature names\n",
      "  warnings.warn(\n",
      "/home/test/.local/lib/python3.10/site-packages/sklearn/base.py:439: UserWarning: X does not have valid feature names, but RandomForestClassifier was fitted with feature names\n",
      "  warnings.warn(\n",
      "/home/test/.local/lib/python3.10/site-packages/sklearn/base.py:439: UserWarning: X does not have valid feature names, but RandomForestClassifier was fitted with feature names\n",
      "  warnings.warn(\n"
     ]
    },
    {
     "data": {
      "text/plain": [
       "6638"
      ]
     },
     "execution_count": 159,
     "metadata": {},
     "output_type": "execute_result"
    }
   ],
   "source": [
    "def process_selected_image(selected_image):\n",
    "\n",
    "    # Load the cached dataset\n",
    "    scaled_test_images = np.load('scaled_test_images.npy')\n",
    "    test_labels = np.load('test_labels.npy')\n",
    "\n",
    "    # Filter images with the selected label\n",
    "    images_with_label = [image for image, image_label in zip(scaled_test_images, test_labels) if image_label == selected_image]\n",
    "        \n",
    "    # Select a random image with the selected label\n",
    "    random_image = random.choice(images_with_label)\n",
    "    random_image_index = np.where(np.all(scaled_test_images == random_image, axis=1))[0][0]\n",
    "\n",
    "\n",
    "    # Perform image preprocessing and prediction on the selected image\n",
    "    predictions = predict_image(random_image)\n",
    "\n",
    "    # Pass the predictions, predicted label, confusion matrix, and model metrics to the template\n",
    "    return random_image_index #type: ignore\n",
    "\n",
    "\n",
    "process_selected_image(5)"
   ]
  },
  {
   "cell_type": "code",
   "execution_count": 192,
   "id": "8d19ecce",
   "metadata": {},
   "outputs": [
    {
     "data": {
      "text/plain": [
       "4"
      ]
     },
     "execution_count": 192,
     "metadata": {},
     "output_type": "execute_result"
    }
   ],
   "source": [
    "test_labels[8662]"
   ]
  },
  {
   "cell_type": "code",
   "execution_count": 185,
   "id": "cb700f4e",
   "metadata": {},
   "outputs": [
    {
     "data": {
      "text/plain": [
       "5"
      ]
     },
     "execution_count": 185,
     "metadata": {},
     "output_type": "execute_result"
    }
   ],
   "source": [
    "y_test.iloc[3619]"
   ]
  },
  {
   "cell_type": "code",
   "execution_count": 216,
   "id": "c59b417e",
   "metadata": {},
   "outputs": [
    {
     "data": {
      "text/plain": [
       "dict_items([('idx', 9423), ('knn_enhanced', {'name': 'ave    ', 'prediction': 9, 'confidence': 100.0, 'accuracy': 0.9714, 'precision': 0.9715597201945959, 'recall': 0.9714, 'f1_score': 0.9713597782738583}), ('knn_extended', {'name': 9, 'confidence': 100.0, 'accuracy': 0.9763, 'precision': 0.9766352308968693, 'recall': 0.9763, 'f1_score': 0.9762833512584528}), ('rf_ovo_clf', {'name': 9, 'confidence': 100.0, 'accuracy': 0.9656, 'precision': 0.9654536968771158, 'recall': 0.9656, 'f1_score': 0.9656443811404773}), ('rf_ovr_clf', {'name': 9, 'confidence': 94.18604651162791, 'accuracy': 0.9665, 'precision': 0.9664331517825872, 'recall': 0.9665, 'f1_score': 0.9664931379194104}), ('sgd_ovo_clf', {'name': 9, 'confidence': 100.0, 'accuracy': 0.813, 'precision': 0.8591031022514455, 'recall': 0.813, 'f1_score': 0.800547282398953}), ('sgd_ovr_clf', {'name': 9, 'confidence': 100.0, 'accuracy': 0.8253, 'precision': 0.8492765055766178, 'recall': 0.8253, 'f1_score': 0.8208239418579742}), ('svc_ovo_clf', {'name': 7, 'confidence': 9.268683779520671, 'accuracy': 0.1028, 'precision': 0.010280000000000001, 'recall': 0.1028, 'f1_score': 0.019165469713456656}), ('svc_ovr_clf', {'name': 7, 'confidence': 0, 'accuracy': 0.1028, 'precision': 0.01056784, 'recall': 0.1028, 'f1_score': 0.019165469713456656})])"
      ]
     },
     "execution_count": 216,
     "metadata": {},
     "output_type": "execute_result"
    }
   ],
   "source": [
    "predictions.items()"
   ]
  },
  {
   "cell_type": "code",
   "execution_count": 236,
   "id": "a13f2171",
   "metadata": {},
   "outputs": [],
   "source": [
    "import matplotlib as mpl\n",
    "import matplotlib.pyplot as plt\n",
    "\n",
    "def plot_digit(data):\n",
    "    image = data.reshape(28, 28)\n",
    "    plt.imshow(image, cmap = mpl.cm.binary,\n",
    "               interpolation=\"nearest\")\n",
    "    plt.axis(\"off\")\n",
    "    plt.show();"
   ]
  },
  {
   "cell_type": "code",
   "execution_count": null,
   "id": "ba6c1963",
   "metadata": {},
   "outputs": [],
   "source": [
    "plot_digit(test_images[0])"
   ]
  },
  {
   "cell_type": "markdown",
   "id": "2d63b557",
   "metadata": {},
   "source": [
    "# Misc"
   ]
  },
  {
   "cell_type": "code",
   "execution_count": 22,
   "id": "376b23fd",
   "metadata": {
    "scrolled": false
   },
   "outputs": [
    {
     "ename": "KeyError",
     "evalue": "5",
     "output_type": "error",
     "traceback": [
      "\u001b[0;31m---------------------------------------------------------------------------\u001b[0m",
      "\u001b[0;31mKeyError\u001b[0m                                  Traceback (most recent call last)",
      "File \u001b[0;32m~/.local/lib/python3.10/site-packages/pandas/core/indexes/base.py:3652\u001b[0m, in \u001b[0;36mIndex.get_loc\u001b[0;34m(self, key)\u001b[0m\n\u001b[1;32m   3651\u001b[0m \u001b[38;5;28;01mtry\u001b[39;00m:\n\u001b[0;32m-> 3652\u001b[0m     \u001b[38;5;28;01mreturn\u001b[39;00m \u001b[38;5;28;43mself\u001b[39;49m\u001b[38;5;241;43m.\u001b[39;49m\u001b[43m_engine\u001b[49m\u001b[38;5;241;43m.\u001b[39;49m\u001b[43mget_loc\u001b[49m\u001b[43m(\u001b[49m\u001b[43mcasted_key\u001b[49m\u001b[43m)\u001b[49m\n\u001b[1;32m   3653\u001b[0m \u001b[38;5;28;01mexcept\u001b[39;00m \u001b[38;5;167;01mKeyError\u001b[39;00m \u001b[38;5;28;01mas\u001b[39;00m err:\n",
      "File \u001b[0;32m~/.local/lib/python3.10/site-packages/pandas/_libs/index.pyx:147\u001b[0m, in \u001b[0;36mpandas._libs.index.IndexEngine.get_loc\u001b[0;34m()\u001b[0m\n",
      "File \u001b[0;32m~/.local/lib/python3.10/site-packages/pandas/_libs/index.pyx:176\u001b[0m, in \u001b[0;36mpandas._libs.index.IndexEngine.get_loc\u001b[0;34m()\u001b[0m\n",
      "File \u001b[0;32mpandas/_libs/hashtable_class_helper.pxi:7080\u001b[0m, in \u001b[0;36mpandas._libs.hashtable.PyObjectHashTable.get_item\u001b[0;34m()\u001b[0m\n",
      "File \u001b[0;32mpandas/_libs/hashtable_class_helper.pxi:7088\u001b[0m, in \u001b[0;36mpandas._libs.hashtable.PyObjectHashTable.get_item\u001b[0;34m()\u001b[0m\n",
      "\u001b[0;31mKeyError\u001b[0m: 5",
      "\nThe above exception was the direct cause of the following exception:\n",
      "\u001b[0;31mKeyError\u001b[0m                                  Traceback (most recent call last)",
      "Cell \u001b[0;32mIn[22], line 1\u001b[0m\n\u001b[0;32m----> 1\u001b[0m input1 \u001b[38;5;241m=\u001b[39m \u001b[43mX_train_full\u001b[49m\u001b[43m[\u001b[49m\u001b[38;5;241;43m5\u001b[39;49m\u001b[43m]\u001b[49m\u001b[38;5;241m.\u001b[39mvalues\u001b[38;5;241m.\u001b[39mreshape(\u001b[38;5;241m-\u001b[39m\u001b[38;5;241m1\u001b[39m, \u001b[38;5;241m1\u001b[39m)\n\u001b[1;32m      2\u001b[0m sgd_ovo_clf_pred \u001b[38;5;241m=\u001b[39m sgd_ovo_clf\u001b[38;5;241m.\u001b[39mpredict(input1)\n\u001b[1;32m      3\u001b[0m svc_ovo_clf_pred \u001b[38;5;241m=\u001b[39m svc_ovo_clf\u001b[38;5;241m.\u001b[39mpredict(input1)\n",
      "File \u001b[0;32m~/.local/lib/python3.10/site-packages/pandas/core/frame.py:3761\u001b[0m, in \u001b[0;36mDataFrame.__getitem__\u001b[0;34m(self, key)\u001b[0m\n\u001b[1;32m   3759\u001b[0m \u001b[38;5;28;01mif\u001b[39;00m \u001b[38;5;28mself\u001b[39m\u001b[38;5;241m.\u001b[39mcolumns\u001b[38;5;241m.\u001b[39mnlevels \u001b[38;5;241m>\u001b[39m \u001b[38;5;241m1\u001b[39m:\n\u001b[1;32m   3760\u001b[0m     \u001b[38;5;28;01mreturn\u001b[39;00m \u001b[38;5;28mself\u001b[39m\u001b[38;5;241m.\u001b[39m_getitem_multilevel(key)\n\u001b[0;32m-> 3761\u001b[0m indexer \u001b[38;5;241m=\u001b[39m \u001b[38;5;28;43mself\u001b[39;49m\u001b[38;5;241;43m.\u001b[39;49m\u001b[43mcolumns\u001b[49m\u001b[38;5;241;43m.\u001b[39;49m\u001b[43mget_loc\u001b[49m\u001b[43m(\u001b[49m\u001b[43mkey\u001b[49m\u001b[43m)\u001b[49m\n\u001b[1;32m   3762\u001b[0m \u001b[38;5;28;01mif\u001b[39;00m is_integer(indexer):\n\u001b[1;32m   3763\u001b[0m     indexer \u001b[38;5;241m=\u001b[39m [indexer]\n",
      "File \u001b[0;32m~/.local/lib/python3.10/site-packages/pandas/core/indexes/base.py:3654\u001b[0m, in \u001b[0;36mIndex.get_loc\u001b[0;34m(self, key)\u001b[0m\n\u001b[1;32m   3652\u001b[0m     \u001b[38;5;28;01mreturn\u001b[39;00m \u001b[38;5;28mself\u001b[39m\u001b[38;5;241m.\u001b[39m_engine\u001b[38;5;241m.\u001b[39mget_loc(casted_key)\n\u001b[1;32m   3653\u001b[0m \u001b[38;5;28;01mexcept\u001b[39;00m \u001b[38;5;167;01mKeyError\u001b[39;00m \u001b[38;5;28;01mas\u001b[39;00m err:\n\u001b[0;32m-> 3654\u001b[0m     \u001b[38;5;28;01mraise\u001b[39;00m \u001b[38;5;167;01mKeyError\u001b[39;00m(key) \u001b[38;5;28;01mfrom\u001b[39;00m \u001b[38;5;21;01merr\u001b[39;00m\n\u001b[1;32m   3655\u001b[0m \u001b[38;5;28;01mexcept\u001b[39;00m \u001b[38;5;167;01mTypeError\u001b[39;00m:\n\u001b[1;32m   3656\u001b[0m     \u001b[38;5;66;03m# If we have a listlike key, _check_indexing_error will raise\u001b[39;00m\n\u001b[1;32m   3657\u001b[0m     \u001b[38;5;66;03m#  InvalidIndexError. Otherwise we fall through and re-raise\u001b[39;00m\n\u001b[1;32m   3658\u001b[0m     \u001b[38;5;66;03m#  the TypeError.\u001b[39;00m\n\u001b[1;32m   3659\u001b[0m     \u001b[38;5;28mself\u001b[39m\u001b[38;5;241m.\u001b[39m_check_indexing_error(key)\n",
      "\u001b[0;31mKeyError\u001b[0m: 5"
     ]
    }
   ],
   "source": [
    "input1 = X_train_full[5].values.reshape(-1, 1)\n"
   ]
  },
  {
   "cell_type": "code",
   "execution_count": 53,
   "id": "e50aac77",
   "metadata": {},
   "outputs": [
    {
     "data": {
      "text/plain": [
       "sklearn.multiclass.OneVsRestClassifier"
      ]
     },
     "execution_count": 53,
     "metadata": {},
     "output_type": "execute_result"
    }
   ],
   "source": [
    "type(svc_ovr_clf)"
   ]
  }
 ],
 "metadata": {
  "kernelspec": {
   "display_name": "Python 3 (ipykernel)",
   "language": "python",
   "name": "python3"
  },
  "language_info": {
   "codemirror_mode": {
    "name": "ipython",
    "version": 3
   },
   "file_extension": ".py",
   "mimetype": "text/x-python",
   "name": "python",
   "nbconvert_exporter": "python",
   "pygments_lexer": "ipython3",
   "version": "3.10.6"
  }
 },
 "nbformat": 4,
 "nbformat_minor": 5
}
