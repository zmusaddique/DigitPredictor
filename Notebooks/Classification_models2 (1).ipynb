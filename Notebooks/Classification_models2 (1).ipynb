{
  "cells": [
    {
      "cell_type": "code",
      "execution_count": null,
      "metadata": {
        "id": "lHxyov02JRpu"
      },
      "outputs": [],
      "source": [
        "# Python ≥3.5 is required\n",
        "import sys\n",
        "assert sys.version_info >= (3, 5)\n",
        "\n",
        "# Is this notebook running on Colab or Kaggle?\n",
        "IS_COLAB = \"google.colab\" in sys.modules\n",
        "IS_KAGGLE = \"kaggle_secrets\" in sys.modules\n",
        "\n",
        "# Scikit-Learn ≥0.20 is required\n",
        "import sklearn\n",
        "assert sklearn.__version__ >= \"0.20\"\n",
        "\n",
        "# Common imports\n",
        "import numpy as np\n",
        "import os\n",
        "\n",
        "# to make this notebook's output stable across runs\n",
        "np.random.seed(42)\n",
        "\n",
        "# To plot pretty figures\n",
        "%matplotlib inline\n",
        "import matplotlib as mpl\n",
        "import matplotlib.pyplot as plt\n",
        "mpl.rc('axes', labelsize=14)\n",
        "mpl.rc('xtick', labelsize=12)\n",
        "mpl.rc('ytick', labelsize=12)\n",
        "\n",
        "# Where to save the figures\n",
        "PROJECT_ROOT_DIR = \".\"\n",
        "CHAPTER_ID = \"classification\"\n",
        "IMAGES_PATH = os.path.join(PROJECT_ROOT_DIR, \"images\", CHAPTER_ID)\n",
        "os.makedirs(IMAGES_PATH, exist_ok=True)\n",
        "\n",
        "def save_fig(fig_id, tight_layout=True, fig_extension=\"png\", resolution=300):\n",
        "    path = os.path.join(IMAGES_PATH, fig_id + \".\" + fig_extension)\n",
        "    print(\"Saving figure\", fig_id)\n",
        "    if tight_layout:\n",
        "        plt.tight_layout()\n",
        "    plt.savefig(path, format=fig_extension, dpi=resolution)"
      ]
    },
    {
      "cell_type": "markdown",
      "metadata": {
        "id": "a7QIm9RlWK47"
      },
      "source": [
        "### Fetching the data"
      ]
    },
    {
      "cell_type": "code",
      "execution_count": null,
      "metadata": {
        "id": "FICV7fsbIV6S"
      },
      "outputs": [],
      "source": [
        "from sklearn.datasets import fetch_openml\n",
        "import numpy as np"
      ]
    },
    {
      "cell_type": "code",
      "execution_count": null,
      "metadata": {
        "id": "LyQXK42jIhIL"
      },
      "outputs": [],
      "source": [
        "mnist = fetch_openml('mnist_784', version=1, parser=\"auto\") #This returns a bunch object (something like dictionary) that is compatible with sklearn"
      ]
    },
    {
      "cell_type": "markdown",
      "metadata": {
        "id": "UNoeCOH5WK5J"
      },
      "source": [
        "## Exploring the data"
      ]
    },
    {
      "cell_type": "code",
      "execution_count": null,
      "metadata": {
        "colab": {
          "base_uri": "https://localhost:8080/"
        },
        "id": "I9EXKFBOIlEm",
        "outputId": "d2701d8f-6800-4654-a767-a3e88c315043"
      },
      "outputs": [
        {
          "data": {
            "text/plain": [
              "dict_keys(['data', 'target', 'frame', 'categories', 'feature_names', 'target_names', 'DESCR', 'details', 'url'])"
            ]
          },
          "execution_count": 4,
          "metadata": {},
          "output_type": "execute_result"
        }
      ],
      "source": [
        "mnist.keys()"
      ]
    },
    {
      "cell_type": "code",
      "execution_count": null,
      "metadata": {
        "id": "nhZRUAf_WK5O"
      },
      "outputs": [],
      "source": [
        "mnist['data'].head()"
      ]
    },
    {
      "cell_type": "code",
      "execution_count": null,
      "metadata": {
        "id": "UKsTp2vPWK5R",
        "outputId": "10f576f4-384b-4e32-9bcf-eb80bc53f1a1"
      },
      "outputs": [
        {
          "data": {
            "text/plain": [
              "0    5\n",
              "1    0\n",
              "2    4\n",
              "3    1\n",
              "4    9\n",
              "Name: class, dtype: category\n",
              "Categories (10, object): ['0', '1', '2', '3', ..., '6', '7', '8', '9']"
            ]
          },
          "execution_count": 10,
          "metadata": {},
          "output_type": "execute_result"
        }
      ],
      "source": [
        "mnist['target'].head()"
      ]
    },
    {
      "cell_type": "code",
      "execution_count": null,
      "metadata": {
        "id": "TZAg2dz2WK5W",
        "outputId": "5e3d6a5f-719a-444f-8d2f-80af898fb3f1"
      },
      "outputs": [
        {
          "data": {
            "text/html": [
              "<div>\n",
              "<style scoped>\n",
              "    .dataframe tbody tr th:only-of-type {\n",
              "        vertical-align: middle;\n",
              "    }\n",
              "\n",
              "    .dataframe tbody tr th {\n",
              "        vertical-align: top;\n",
              "    }\n",
              "\n",
              "    .dataframe thead th {\n",
              "        text-align: right;\n",
              "    }\n",
              "</style>\n",
              "<table border=\"1\" class=\"dataframe\">\n",
              "  <thead>\n",
              "    <tr style=\"text-align: right;\">\n",
              "      <th></th>\n",
              "      <th>pixel1</th>\n",
              "      <th>pixel2</th>\n",
              "      <th>pixel3</th>\n",
              "      <th>pixel4</th>\n",
              "      <th>pixel5</th>\n",
              "      <th>pixel6</th>\n",
              "      <th>pixel7</th>\n",
              "      <th>pixel8</th>\n",
              "      <th>pixel9</th>\n",
              "      <th>pixel10</th>\n",
              "      <th>...</th>\n",
              "      <th>pixel776</th>\n",
              "      <th>pixel777</th>\n",
              "      <th>pixel778</th>\n",
              "      <th>pixel779</th>\n",
              "      <th>pixel780</th>\n",
              "      <th>pixel781</th>\n",
              "      <th>pixel782</th>\n",
              "      <th>pixel783</th>\n",
              "      <th>pixel784</th>\n",
              "      <th>class</th>\n",
              "    </tr>\n",
              "  </thead>\n",
              "  <tbody>\n",
              "    <tr>\n",
              "      <th>0</th>\n",
              "      <td>0</td>\n",
              "      <td>0</td>\n",
              "      <td>0</td>\n",
              "      <td>0</td>\n",
              "      <td>0</td>\n",
              "      <td>0</td>\n",
              "      <td>0</td>\n",
              "      <td>0</td>\n",
              "      <td>0</td>\n",
              "      <td>0</td>\n",
              "      <td>...</td>\n",
              "      <td>0</td>\n",
              "      <td>0</td>\n",
              "      <td>0</td>\n",
              "      <td>0</td>\n",
              "      <td>0</td>\n",
              "      <td>0</td>\n",
              "      <td>0</td>\n",
              "      <td>0</td>\n",
              "      <td>0</td>\n",
              "      <td>5</td>\n",
              "    </tr>\n",
              "    <tr>\n",
              "      <th>1</th>\n",
              "      <td>0</td>\n",
              "      <td>0</td>\n",
              "      <td>0</td>\n",
              "      <td>0</td>\n",
              "      <td>0</td>\n",
              "      <td>0</td>\n",
              "      <td>0</td>\n",
              "      <td>0</td>\n",
              "      <td>0</td>\n",
              "      <td>0</td>\n",
              "      <td>...</td>\n",
              "      <td>0</td>\n",
              "      <td>0</td>\n",
              "      <td>0</td>\n",
              "      <td>0</td>\n",
              "      <td>0</td>\n",
              "      <td>0</td>\n",
              "      <td>0</td>\n",
              "      <td>0</td>\n",
              "      <td>0</td>\n",
              "      <td>0</td>\n",
              "    </tr>\n",
              "    <tr>\n",
              "      <th>2</th>\n",
              "      <td>0</td>\n",
              "      <td>0</td>\n",
              "      <td>0</td>\n",
              "      <td>0</td>\n",
              "      <td>0</td>\n",
              "      <td>0</td>\n",
              "      <td>0</td>\n",
              "      <td>0</td>\n",
              "      <td>0</td>\n",
              "      <td>0</td>\n",
              "      <td>...</td>\n",
              "      <td>0</td>\n",
              "      <td>0</td>\n",
              "      <td>0</td>\n",
              "      <td>0</td>\n",
              "      <td>0</td>\n",
              "      <td>0</td>\n",
              "      <td>0</td>\n",
              "      <td>0</td>\n",
              "      <td>0</td>\n",
              "      <td>4</td>\n",
              "    </tr>\n",
              "    <tr>\n",
              "      <th>3</th>\n",
              "      <td>0</td>\n",
              "      <td>0</td>\n",
              "      <td>0</td>\n",
              "      <td>0</td>\n",
              "      <td>0</td>\n",
              "      <td>0</td>\n",
              "      <td>0</td>\n",
              "      <td>0</td>\n",
              "      <td>0</td>\n",
              "      <td>0</td>\n",
              "      <td>...</td>\n",
              "      <td>0</td>\n",
              "      <td>0</td>\n",
              "      <td>0</td>\n",
              "      <td>0</td>\n",
              "      <td>0</td>\n",
              "      <td>0</td>\n",
              "      <td>0</td>\n",
              "      <td>0</td>\n",
              "      <td>0</td>\n",
              "      <td>1</td>\n",
              "    </tr>\n",
              "    <tr>\n",
              "      <th>4</th>\n",
              "      <td>0</td>\n",
              "      <td>0</td>\n",
              "      <td>0</td>\n",
              "      <td>0</td>\n",
              "      <td>0</td>\n",
              "      <td>0</td>\n",
              "      <td>0</td>\n",
              "      <td>0</td>\n",
              "      <td>0</td>\n",
              "      <td>0</td>\n",
              "      <td>...</td>\n",
              "      <td>0</td>\n",
              "      <td>0</td>\n",
              "      <td>0</td>\n",
              "      <td>0</td>\n",
              "      <td>0</td>\n",
              "      <td>0</td>\n",
              "      <td>0</td>\n",
              "      <td>0</td>\n",
              "      <td>0</td>\n",
              "      <td>9</td>\n",
              "    </tr>\n",
              "  </tbody>\n",
              "</table>\n",
              "<p>5 rows × 785 columns</p>\n",
              "</div>"
            ],
            "text/plain": [
              "   pixel1  pixel2  pixel3  pixel4  pixel5  pixel6  pixel7  pixel8  pixel9   \n",
              "0       0       0       0       0       0       0       0       0       0  \\\n",
              "1       0       0       0       0       0       0       0       0       0   \n",
              "2       0       0       0       0       0       0       0       0       0   \n",
              "3       0       0       0       0       0       0       0       0       0   \n",
              "4       0       0       0       0       0       0       0       0       0   \n",
              "\n",
              "   pixel10  ...  pixel776  pixel777  pixel778  pixel779  pixel780  pixel781   \n",
              "0        0  ...         0         0         0         0         0         0  \\\n",
              "1        0  ...         0         0         0         0         0         0   \n",
              "2        0  ...         0         0         0         0         0         0   \n",
              "3        0  ...         0         0         0         0         0         0   \n",
              "4        0  ...         0         0         0         0         0         0   \n",
              "\n",
              "   pixel782  pixel783  pixel784  class  \n",
              "0         0         0         0      5  \n",
              "1         0         0         0      0  \n",
              "2         0         0         0      4  \n",
              "3         0         0         0      1  \n",
              "4         0         0         0      9  \n",
              "\n",
              "[5 rows x 785 columns]"
            ]
          },
          "execution_count": 11,
          "metadata": {},
          "output_type": "execute_result"
        }
      ],
      "source": [
        "mnist['frame'].head()"
      ]
    },
    {
      "cell_type": "code",
      "execution_count": null,
      "metadata": {
        "id": "MMmlIIVNWK5a",
        "outputId": "400c967e-0618-48ce-bc0d-ce801be5230f",
        "scrolled": true
      },
      "outputs": [
        {
          "data": {
            "text/plain": [
              "['pixel1',\n",
              " 'pixel2',\n",
              " 'pixel3',\n",
              " 'pixel4',\n",
              " 'pixel5',\n",
              " 'pixel6',\n",
              " 'pixel7',\n",
              " 'pixel8',\n",
              " 'pixel9',\n",
              " 'pixel10',\n",
              " 'pixel11',\n",
              " 'pixel12',\n",
              " 'pixel13',\n",
              " 'pixel14',\n",
              " 'pixel15',\n",
              " 'pixel16',\n",
              " 'pixel17',\n",
              " 'pixel18',\n",
              " 'pixel19',\n",
              " 'pixel20',\n",
              " 'pixel21',\n",
              " 'pixel22',\n",
              " 'pixel23',\n",
              " 'pixel24',\n",
              " 'pixel25',\n",
              " 'pixel26',\n",
              " 'pixel27',\n",
              " 'pixel28',\n",
              " 'pixel29',\n",
              " 'pixel30',\n",
              " 'pixel31',\n",
              " 'pixel32',\n",
              " 'pixel33',\n",
              " 'pixel34',\n",
              " 'pixel35',\n",
              " 'pixel36',\n",
              " 'pixel37',\n",
              " 'pixel38',\n",
              " 'pixel39',\n",
              " 'pixel40',\n",
              " 'pixel41',\n",
              " 'pixel42',\n",
              " 'pixel43',\n",
              " 'pixel44',\n",
              " 'pixel45',\n",
              " 'pixel46',\n",
              " 'pixel47',\n",
              " 'pixel48',\n",
              " 'pixel49',\n",
              " 'pixel50',\n",
              " 'pixel51',\n",
              " 'pixel52',\n",
              " 'pixel53',\n",
              " 'pixel54',\n",
              " 'pixel55',\n",
              " 'pixel56',\n",
              " 'pixel57',\n",
              " 'pixel58',\n",
              " 'pixel59',\n",
              " 'pixel60',\n",
              " 'pixel61',\n",
              " 'pixel62',\n",
              " 'pixel63',\n",
              " 'pixel64',\n",
              " 'pixel65',\n",
              " 'pixel66',\n",
              " 'pixel67',\n",
              " 'pixel68',\n",
              " 'pixel69',\n",
              " 'pixel70',\n",
              " 'pixel71',\n",
              " 'pixel72',\n",
              " 'pixel73',\n",
              " 'pixel74',\n",
              " 'pixel75',\n",
              " 'pixel76',\n",
              " 'pixel77',\n",
              " 'pixel78',\n",
              " 'pixel79',\n",
              " 'pixel80',\n",
              " 'pixel81',\n",
              " 'pixel82',\n",
              " 'pixel83',\n",
              " 'pixel84',\n",
              " 'pixel85',\n",
              " 'pixel86',\n",
              " 'pixel87',\n",
              " 'pixel88',\n",
              " 'pixel89',\n",
              " 'pixel90',\n",
              " 'pixel91',\n",
              " 'pixel92',\n",
              " 'pixel93',\n",
              " 'pixel94',\n",
              " 'pixel95',\n",
              " 'pixel96',\n",
              " 'pixel97',\n",
              " 'pixel98',\n",
              " 'pixel99',\n",
              " 'pixel100',\n",
              " 'pixel101',\n",
              " 'pixel102',\n",
              " 'pixel103',\n",
              " 'pixel104',\n",
              " 'pixel105',\n",
              " 'pixel106',\n",
              " 'pixel107',\n",
              " 'pixel108',\n",
              " 'pixel109',\n",
              " 'pixel110',\n",
              " 'pixel111',\n",
              " 'pixel112',\n",
              " 'pixel113',\n",
              " 'pixel114',\n",
              " 'pixel115',\n",
              " 'pixel116',\n",
              " 'pixel117',\n",
              " 'pixel118',\n",
              " 'pixel119',\n",
              " 'pixel120',\n",
              " 'pixel121',\n",
              " 'pixel122',\n",
              " 'pixel123',\n",
              " 'pixel124',\n",
              " 'pixel125',\n",
              " 'pixel126',\n",
              " 'pixel127',\n",
              " 'pixel128',\n",
              " 'pixel129',\n",
              " 'pixel130',\n",
              " 'pixel131',\n",
              " 'pixel132',\n",
              " 'pixel133',\n",
              " 'pixel134',\n",
              " 'pixel135',\n",
              " 'pixel136',\n",
              " 'pixel137',\n",
              " 'pixel138',\n",
              " 'pixel139',\n",
              " 'pixel140',\n",
              " 'pixel141',\n",
              " 'pixel142',\n",
              " 'pixel143',\n",
              " 'pixel144',\n",
              " 'pixel145',\n",
              " 'pixel146',\n",
              " 'pixel147',\n",
              " 'pixel148',\n",
              " 'pixel149',\n",
              " 'pixel150',\n",
              " 'pixel151',\n",
              " 'pixel152',\n",
              " 'pixel153',\n",
              " 'pixel154',\n",
              " 'pixel155',\n",
              " 'pixel156',\n",
              " 'pixel157',\n",
              " 'pixel158',\n",
              " 'pixel159',\n",
              " 'pixel160',\n",
              " 'pixel161',\n",
              " 'pixel162',\n",
              " 'pixel163',\n",
              " 'pixel164',\n",
              " 'pixel165',\n",
              " 'pixel166',\n",
              " 'pixel167',\n",
              " 'pixel168',\n",
              " 'pixel169',\n",
              " 'pixel170',\n",
              " 'pixel171',\n",
              " 'pixel172',\n",
              " 'pixel173',\n",
              " 'pixel174',\n",
              " 'pixel175',\n",
              " 'pixel176',\n",
              " 'pixel177',\n",
              " 'pixel178',\n",
              " 'pixel179',\n",
              " 'pixel180',\n",
              " 'pixel181',\n",
              " 'pixel182',\n",
              " 'pixel183',\n",
              " 'pixel184',\n",
              " 'pixel185',\n",
              " 'pixel186',\n",
              " 'pixel187',\n",
              " 'pixel188',\n",
              " 'pixel189',\n",
              " 'pixel190',\n",
              " 'pixel191',\n",
              " 'pixel192',\n",
              " 'pixel193',\n",
              " 'pixel194',\n",
              " 'pixel195',\n",
              " 'pixel196',\n",
              " 'pixel197',\n",
              " 'pixel198',\n",
              " 'pixel199',\n",
              " 'pixel200',\n",
              " 'pixel201',\n",
              " 'pixel202',\n",
              " 'pixel203',\n",
              " 'pixel204',\n",
              " 'pixel205',\n",
              " 'pixel206',\n",
              " 'pixel207',\n",
              " 'pixel208',\n",
              " 'pixel209',\n",
              " 'pixel210',\n",
              " 'pixel211',\n",
              " 'pixel212',\n",
              " 'pixel213',\n",
              " 'pixel214',\n",
              " 'pixel215',\n",
              " 'pixel216',\n",
              " 'pixel217',\n",
              " 'pixel218',\n",
              " 'pixel219',\n",
              " 'pixel220',\n",
              " 'pixel221',\n",
              " 'pixel222',\n",
              " 'pixel223',\n",
              " 'pixel224',\n",
              " 'pixel225',\n",
              " 'pixel226',\n",
              " 'pixel227',\n",
              " 'pixel228',\n",
              " 'pixel229',\n",
              " 'pixel230',\n",
              " 'pixel231',\n",
              " 'pixel232',\n",
              " 'pixel233',\n",
              " 'pixel234',\n",
              " 'pixel235',\n",
              " 'pixel236',\n",
              " 'pixel237',\n",
              " 'pixel238',\n",
              " 'pixel239',\n",
              " 'pixel240',\n",
              " 'pixel241',\n",
              " 'pixel242',\n",
              " 'pixel243',\n",
              " 'pixel244',\n",
              " 'pixel245',\n",
              " 'pixel246',\n",
              " 'pixel247',\n",
              " 'pixel248',\n",
              " 'pixel249',\n",
              " 'pixel250',\n",
              " 'pixel251',\n",
              " 'pixel252',\n",
              " 'pixel253',\n",
              " 'pixel254',\n",
              " 'pixel255',\n",
              " 'pixel256',\n",
              " 'pixel257',\n",
              " 'pixel258',\n",
              " 'pixel259',\n",
              " 'pixel260',\n",
              " 'pixel261',\n",
              " 'pixel262',\n",
              " 'pixel263',\n",
              " 'pixel264',\n",
              " 'pixel265',\n",
              " 'pixel266',\n",
              " 'pixel267',\n",
              " 'pixel268',\n",
              " 'pixel269',\n",
              " 'pixel270',\n",
              " 'pixel271',\n",
              " 'pixel272',\n",
              " 'pixel273',\n",
              " 'pixel274',\n",
              " 'pixel275',\n",
              " 'pixel276',\n",
              " 'pixel277',\n",
              " 'pixel278',\n",
              " 'pixel279',\n",
              " 'pixel280',\n",
              " 'pixel281',\n",
              " 'pixel282',\n",
              " 'pixel283',\n",
              " 'pixel284',\n",
              " 'pixel285',\n",
              " 'pixel286',\n",
              " 'pixel287',\n",
              " 'pixel288',\n",
              " 'pixel289',\n",
              " 'pixel290',\n",
              " 'pixel291',\n",
              " 'pixel292',\n",
              " 'pixel293',\n",
              " 'pixel294',\n",
              " 'pixel295',\n",
              " 'pixel296',\n",
              " 'pixel297',\n",
              " 'pixel298',\n",
              " 'pixel299',\n",
              " 'pixel300',\n",
              " 'pixel301',\n",
              " 'pixel302',\n",
              " 'pixel303',\n",
              " 'pixel304',\n",
              " 'pixel305',\n",
              " 'pixel306',\n",
              " 'pixel307',\n",
              " 'pixel308',\n",
              " 'pixel309',\n",
              " 'pixel310',\n",
              " 'pixel311',\n",
              " 'pixel312',\n",
              " 'pixel313',\n",
              " 'pixel314',\n",
              " 'pixel315',\n",
              " 'pixel316',\n",
              " 'pixel317',\n",
              " 'pixel318',\n",
              " 'pixel319',\n",
              " 'pixel320',\n",
              " 'pixel321',\n",
              " 'pixel322',\n",
              " 'pixel323',\n",
              " 'pixel324',\n",
              " 'pixel325',\n",
              " 'pixel326',\n",
              " 'pixel327',\n",
              " 'pixel328',\n",
              " 'pixel329',\n",
              " 'pixel330',\n",
              " 'pixel331',\n",
              " 'pixel332',\n",
              " 'pixel333',\n",
              " 'pixel334',\n",
              " 'pixel335',\n",
              " 'pixel336',\n",
              " 'pixel337',\n",
              " 'pixel338',\n",
              " 'pixel339',\n",
              " 'pixel340',\n",
              " 'pixel341',\n",
              " 'pixel342',\n",
              " 'pixel343',\n",
              " 'pixel344',\n",
              " 'pixel345',\n",
              " 'pixel346',\n",
              " 'pixel347',\n",
              " 'pixel348',\n",
              " 'pixel349',\n",
              " 'pixel350',\n",
              " 'pixel351',\n",
              " 'pixel352',\n",
              " 'pixel353',\n",
              " 'pixel354',\n",
              " 'pixel355',\n",
              " 'pixel356',\n",
              " 'pixel357',\n",
              " 'pixel358',\n",
              " 'pixel359',\n",
              " 'pixel360',\n",
              " 'pixel361',\n",
              " 'pixel362',\n",
              " 'pixel363',\n",
              " 'pixel364',\n",
              " 'pixel365',\n",
              " 'pixel366',\n",
              " 'pixel367',\n",
              " 'pixel368',\n",
              " 'pixel369',\n",
              " 'pixel370',\n",
              " 'pixel371',\n",
              " 'pixel372',\n",
              " 'pixel373',\n",
              " 'pixel374',\n",
              " 'pixel375',\n",
              " 'pixel376',\n",
              " 'pixel377',\n",
              " 'pixel378',\n",
              " 'pixel379',\n",
              " 'pixel380',\n",
              " 'pixel381',\n",
              " 'pixel382',\n",
              " 'pixel383',\n",
              " 'pixel384',\n",
              " 'pixel385',\n",
              " 'pixel386',\n",
              " 'pixel387',\n",
              " 'pixel388',\n",
              " 'pixel389',\n",
              " 'pixel390',\n",
              " 'pixel391',\n",
              " 'pixel392',\n",
              " 'pixel393',\n",
              " 'pixel394',\n",
              " 'pixel395',\n",
              " 'pixel396',\n",
              " 'pixel397',\n",
              " 'pixel398',\n",
              " 'pixel399',\n",
              " 'pixel400',\n",
              " 'pixel401',\n",
              " 'pixel402',\n",
              " 'pixel403',\n",
              " 'pixel404',\n",
              " 'pixel405',\n",
              " 'pixel406',\n",
              " 'pixel407',\n",
              " 'pixel408',\n",
              " 'pixel409',\n",
              " 'pixel410',\n",
              " 'pixel411',\n",
              " 'pixel412',\n",
              " 'pixel413',\n",
              " 'pixel414',\n",
              " 'pixel415',\n",
              " 'pixel416',\n",
              " 'pixel417',\n",
              " 'pixel418',\n",
              " 'pixel419',\n",
              " 'pixel420',\n",
              " 'pixel421',\n",
              " 'pixel422',\n",
              " 'pixel423',\n",
              " 'pixel424',\n",
              " 'pixel425',\n",
              " 'pixel426',\n",
              " 'pixel427',\n",
              " 'pixel428',\n",
              " 'pixel429',\n",
              " 'pixel430',\n",
              " 'pixel431',\n",
              " 'pixel432',\n",
              " 'pixel433',\n",
              " 'pixel434',\n",
              " 'pixel435',\n",
              " 'pixel436',\n",
              " 'pixel437',\n",
              " 'pixel438',\n",
              " 'pixel439',\n",
              " 'pixel440',\n",
              " 'pixel441',\n",
              " 'pixel442',\n",
              " 'pixel443',\n",
              " 'pixel444',\n",
              " 'pixel445',\n",
              " 'pixel446',\n",
              " 'pixel447',\n",
              " 'pixel448',\n",
              " 'pixel449',\n",
              " 'pixel450',\n",
              " 'pixel451',\n",
              " 'pixel452',\n",
              " 'pixel453',\n",
              " 'pixel454',\n",
              " 'pixel455',\n",
              " 'pixel456',\n",
              " 'pixel457',\n",
              " 'pixel458',\n",
              " 'pixel459',\n",
              " 'pixel460',\n",
              " 'pixel461',\n",
              " 'pixel462',\n",
              " 'pixel463',\n",
              " 'pixel464',\n",
              " 'pixel465',\n",
              " 'pixel466',\n",
              " 'pixel467',\n",
              " 'pixel468',\n",
              " 'pixel469',\n",
              " 'pixel470',\n",
              " 'pixel471',\n",
              " 'pixel472',\n",
              " 'pixel473',\n",
              " 'pixel474',\n",
              " 'pixel475',\n",
              " 'pixel476',\n",
              " 'pixel477',\n",
              " 'pixel478',\n",
              " 'pixel479',\n",
              " 'pixel480',\n",
              " 'pixel481',\n",
              " 'pixel482',\n",
              " 'pixel483',\n",
              " 'pixel484',\n",
              " 'pixel485',\n",
              " 'pixel486',\n",
              " 'pixel487',\n",
              " 'pixel488',\n",
              " 'pixel489',\n",
              " 'pixel490',\n",
              " 'pixel491',\n",
              " 'pixel492',\n",
              " 'pixel493',\n",
              " 'pixel494',\n",
              " 'pixel495',\n",
              " 'pixel496',\n",
              " 'pixel497',\n",
              " 'pixel498',\n",
              " 'pixel499',\n",
              " 'pixel500',\n",
              " 'pixel501',\n",
              " 'pixel502',\n",
              " 'pixel503',\n",
              " 'pixel504',\n",
              " 'pixel505',\n",
              " 'pixel506',\n",
              " 'pixel507',\n",
              " 'pixel508',\n",
              " 'pixel509',\n",
              " 'pixel510',\n",
              " 'pixel511',\n",
              " 'pixel512',\n",
              " 'pixel513',\n",
              " 'pixel514',\n",
              " 'pixel515',\n",
              " 'pixel516',\n",
              " 'pixel517',\n",
              " 'pixel518',\n",
              " 'pixel519',\n",
              " 'pixel520',\n",
              " 'pixel521',\n",
              " 'pixel522',\n",
              " 'pixel523',\n",
              " 'pixel524',\n",
              " 'pixel525',\n",
              " 'pixel526',\n",
              " 'pixel527',\n",
              " 'pixel528',\n",
              " 'pixel529',\n",
              " 'pixel530',\n",
              " 'pixel531',\n",
              " 'pixel532',\n",
              " 'pixel533',\n",
              " 'pixel534',\n",
              " 'pixel535',\n",
              " 'pixel536',\n",
              " 'pixel537',\n",
              " 'pixel538',\n",
              " 'pixel539',\n",
              " 'pixel540',\n",
              " 'pixel541',\n",
              " 'pixel542',\n",
              " 'pixel543',\n",
              " 'pixel544',\n",
              " 'pixel545',\n",
              " 'pixel546',\n",
              " 'pixel547',\n",
              " 'pixel548',\n",
              " 'pixel549',\n",
              " 'pixel550',\n",
              " 'pixel551',\n",
              " 'pixel552',\n",
              " 'pixel553',\n",
              " 'pixel554',\n",
              " 'pixel555',\n",
              " 'pixel556',\n",
              " 'pixel557',\n",
              " 'pixel558',\n",
              " 'pixel559',\n",
              " 'pixel560',\n",
              " 'pixel561',\n",
              " 'pixel562',\n",
              " 'pixel563',\n",
              " 'pixel564',\n",
              " 'pixel565',\n",
              " 'pixel566',\n",
              " 'pixel567',\n",
              " 'pixel568',\n",
              " 'pixel569',\n",
              " 'pixel570',\n",
              " 'pixel571',\n",
              " 'pixel572',\n",
              " 'pixel573',\n",
              " 'pixel574',\n",
              " 'pixel575',\n",
              " 'pixel576',\n",
              " 'pixel577',\n",
              " 'pixel578',\n",
              " 'pixel579',\n",
              " 'pixel580',\n",
              " 'pixel581',\n",
              " 'pixel582',\n",
              " 'pixel583',\n",
              " 'pixel584',\n",
              " 'pixel585',\n",
              " 'pixel586',\n",
              " 'pixel587',\n",
              " 'pixel588',\n",
              " 'pixel589',\n",
              " 'pixel590',\n",
              " 'pixel591',\n",
              " 'pixel592',\n",
              " 'pixel593',\n",
              " 'pixel594',\n",
              " 'pixel595',\n",
              " 'pixel596',\n",
              " 'pixel597',\n",
              " 'pixel598',\n",
              " 'pixel599',\n",
              " 'pixel600',\n",
              " 'pixel601',\n",
              " 'pixel602',\n",
              " 'pixel603',\n",
              " 'pixel604',\n",
              " 'pixel605',\n",
              " 'pixel606',\n",
              " 'pixel607',\n",
              " 'pixel608',\n",
              " 'pixel609',\n",
              " 'pixel610',\n",
              " 'pixel611',\n",
              " 'pixel612',\n",
              " 'pixel613',\n",
              " 'pixel614',\n",
              " 'pixel615',\n",
              " 'pixel616',\n",
              " 'pixel617',\n",
              " 'pixel618',\n",
              " 'pixel619',\n",
              " 'pixel620',\n",
              " 'pixel621',\n",
              " 'pixel622',\n",
              " 'pixel623',\n",
              " 'pixel624',\n",
              " 'pixel625',\n",
              " 'pixel626',\n",
              " 'pixel627',\n",
              " 'pixel628',\n",
              " 'pixel629',\n",
              " 'pixel630',\n",
              " 'pixel631',\n",
              " 'pixel632',\n",
              " 'pixel633',\n",
              " 'pixel634',\n",
              " 'pixel635',\n",
              " 'pixel636',\n",
              " 'pixel637',\n",
              " 'pixel638',\n",
              " 'pixel639',\n",
              " 'pixel640',\n",
              " 'pixel641',\n",
              " 'pixel642',\n",
              " 'pixel643',\n",
              " 'pixel644',\n",
              " 'pixel645',\n",
              " 'pixel646',\n",
              " 'pixel647',\n",
              " 'pixel648',\n",
              " 'pixel649',\n",
              " 'pixel650',\n",
              " 'pixel651',\n",
              " 'pixel652',\n",
              " 'pixel653',\n",
              " 'pixel654',\n",
              " 'pixel655',\n",
              " 'pixel656',\n",
              " 'pixel657',\n",
              " 'pixel658',\n",
              " 'pixel659',\n",
              " 'pixel660',\n",
              " 'pixel661',\n",
              " 'pixel662',\n",
              " 'pixel663',\n",
              " 'pixel664',\n",
              " 'pixel665',\n",
              " 'pixel666',\n",
              " 'pixel667',\n",
              " 'pixel668',\n",
              " 'pixel669',\n",
              " 'pixel670',\n",
              " 'pixel671',\n",
              " 'pixel672',\n",
              " 'pixel673',\n",
              " 'pixel674',\n",
              " 'pixel675',\n",
              " 'pixel676',\n",
              " 'pixel677',\n",
              " 'pixel678',\n",
              " 'pixel679',\n",
              " 'pixel680',\n",
              " 'pixel681',\n",
              " 'pixel682',\n",
              " 'pixel683',\n",
              " 'pixel684',\n",
              " 'pixel685',\n",
              " 'pixel686',\n",
              " 'pixel687',\n",
              " 'pixel688',\n",
              " 'pixel689',\n",
              " 'pixel690',\n",
              " 'pixel691',\n",
              " 'pixel692',\n",
              " 'pixel693',\n",
              " 'pixel694',\n",
              " 'pixel695',\n",
              " 'pixel696',\n",
              " 'pixel697',\n",
              " 'pixel698',\n",
              " 'pixel699',\n",
              " 'pixel700',\n",
              " 'pixel701',\n",
              " 'pixel702',\n",
              " 'pixel703',\n",
              " 'pixel704',\n",
              " 'pixel705',\n",
              " 'pixel706',\n",
              " 'pixel707',\n",
              " 'pixel708',\n",
              " 'pixel709',\n",
              " 'pixel710',\n",
              " 'pixel711',\n",
              " 'pixel712',\n",
              " 'pixel713',\n",
              " 'pixel714',\n",
              " 'pixel715',\n",
              " 'pixel716',\n",
              " 'pixel717',\n",
              " 'pixel718',\n",
              " 'pixel719',\n",
              " 'pixel720',\n",
              " 'pixel721',\n",
              " 'pixel722',\n",
              " 'pixel723',\n",
              " 'pixel724',\n",
              " 'pixel725',\n",
              " 'pixel726',\n",
              " 'pixel727',\n",
              " 'pixel728',\n",
              " 'pixel729',\n",
              " 'pixel730',\n",
              " 'pixel731',\n",
              " 'pixel732',\n",
              " 'pixel733',\n",
              " 'pixel734',\n",
              " 'pixel735',\n",
              " 'pixel736',\n",
              " 'pixel737',\n",
              " 'pixel738',\n",
              " 'pixel739',\n",
              " 'pixel740',\n",
              " 'pixel741',\n",
              " 'pixel742',\n",
              " 'pixel743',\n",
              " 'pixel744',\n",
              " 'pixel745',\n",
              " 'pixel746',\n",
              " 'pixel747',\n",
              " 'pixel748',\n",
              " 'pixel749',\n",
              " 'pixel750',\n",
              " 'pixel751',\n",
              " 'pixel752',\n",
              " 'pixel753',\n",
              " 'pixel754',\n",
              " 'pixel755',\n",
              " 'pixel756',\n",
              " 'pixel757',\n",
              " 'pixel758',\n",
              " 'pixel759',\n",
              " 'pixel760',\n",
              " 'pixel761',\n",
              " 'pixel762',\n",
              " 'pixel763',\n",
              " 'pixel764',\n",
              " 'pixel765',\n",
              " 'pixel766',\n",
              " 'pixel767',\n",
              " 'pixel768',\n",
              " 'pixel769',\n",
              " 'pixel770',\n",
              " 'pixel771',\n",
              " 'pixel772',\n",
              " 'pixel773',\n",
              " 'pixel774',\n",
              " 'pixel775',\n",
              " 'pixel776',\n",
              " 'pixel777',\n",
              " 'pixel778',\n",
              " 'pixel779',\n",
              " 'pixel780',\n",
              " 'pixel781',\n",
              " 'pixel782',\n",
              " 'pixel783',\n",
              " 'pixel784']"
            ]
          },
          "execution_count": 16,
          "metadata": {},
          "output_type": "execute_result"
        }
      ],
      "source": [
        "mnist['feature_names']"
      ]
    },
    {
      "cell_type": "code",
      "execution_count": null,
      "metadata": {
        "id": "Clk8VrABWK5c",
        "outputId": "75f014f5-5354-40af-f0dc-c0f27a09048a"
      },
      "outputs": [
        {
          "data": {
            "text/plain": [
              "['class']"
            ]
          },
          "execution_count": 17,
          "metadata": {},
          "output_type": "execute_result"
        }
      ],
      "source": [
        "mnist['target_names']"
      ]
    },
    {
      "cell_type": "code",
      "execution_count": null,
      "metadata": {
        "id": "GGjI63eaWK5f",
        "outputId": "af1c7a69-d2b2-4e27-8b46-8f7d26d9eb7d"
      },
      "outputs": [
        {
          "name": "stdout",
          "output_type": "stream",
          "text": [
            "**Author**: Yann LeCun, Corinna Cortes, Christopher J.C. Burges  \n",
            "**Source**: [MNIST Website](http://yann.lecun.com/exdb/mnist/) - Date unknown  \n",
            "**Please cite**:  \n",
            "\n",
            "The MNIST database of handwritten digits with 784 features, raw data available at: http://yann.lecun.com/exdb/mnist/. It can be split in a training set of the first 60,000 examples, and a test set of 10,000 examples  \n",
            "\n",
            "It is a subset of a larger set available from NIST. The digits have been size-normalized and centered in a fixed-size image. It is a good database for people who want to try learning techniques and pattern recognition methods on real-world data while spending minimal efforts on preprocessing and formatting. The original black and white (bilevel) images from NIST were size normalized to fit in a 20x20 pixel box while preserving their aspect ratio. The resulting images contain grey levels as a result of the anti-aliasing technique used by the normalization algorithm. the images were centered in a 28x28 image by computing the center of mass of the pixels, and translating the image so as to position this point at the center of the 28x28 field.  \n",
            "\n",
            "With some classification methods (particularly template-based methods, such as SVM and K-nearest neighbors), the error rate improves when the digits are centered by bounding box rather than center of mass. If you do this kind of pre-processing, you should report it in your publications. The MNIST database was constructed from NIST's NIST originally designated SD-3 as their training set and SD-1 as their test set. However, SD-3 is much cleaner and easier to recognize than SD-1. The reason for this can be found on the fact that SD-3 was collected among Census Bureau employees, while SD-1 was collected among high-school students. Drawing sensible conclusions from learning experiments requires that the result be independent of the choice of training set and test among the complete set of samples. Therefore it was necessary to build a new database by mixing NIST's datasets.  \n",
            "\n",
            "The MNIST training set is composed of 30,000 patterns from SD-3 and 30,000 patterns from SD-1. Our test set was composed of 5,000 patterns from SD-3 and 5,000 patterns from SD-1. The 60,000 pattern training set contained examples from approximately 250 writers. We made sure that the sets of writers of the training set and test set were disjoint. SD-1 contains 58,527 digit images written by 500 different writers. In contrast to SD-3, where blocks of data from each writer appeared in sequence, the data in SD-1 is scrambled. Writer identities for SD-1 is available and we used this information to unscramble the writers. We then split SD-1 in two: characters written by the first 250 writers went into our new training set. The remaining 250 writers were placed in our test set. Thus we had two sets with nearly 30,000 examples each. The new training set was completed with enough examples from SD-3, starting at pattern # 0, to make a full set of 60,000 training patterns. Similarly, the new test set was completed with SD-3 examples starting at pattern # 35,000 to make a full set with 60,000 test patterns. Only a subset of 10,000 test images (5,000 from SD-1 and 5,000 from SD-3) is available on this site. The full 60,000 sample training set is available.\n",
            "\n",
            "Downloaded from openml.org.\n"
          ]
        }
      ],
      "source": [
        "print(mnist['DESCR'])"
      ]
    },
    {
      "cell_type": "code",
      "execution_count": null,
      "metadata": {
        "id": "0aYk3bkDWK5h",
        "outputId": "499efa68-4e00-4ec5-bee7-e73c952f2c8e"
      },
      "outputs": [
        {
          "data": {
            "text/plain": [
              "{'id': '554',\n",
              " 'name': 'mnist_784',\n",
              " 'version': '1',\n",
              " 'description_version': '1',\n",
              " 'format': 'ARFF',\n",
              " 'creator': ['Yann LeCun', 'Corinna Cortes', 'Christopher J.C. Burges'],\n",
              " 'upload_date': '2014-09-29T03:28:38',\n",
              " 'language': 'English',\n",
              " 'licence': 'Public',\n",
              " 'url': 'https://api.openml.org/data/v1/download/52667/mnist_784.arff',\n",
              " 'parquet_url': 'http://openml1.win.tue.nl/dataset554/dataset_554.pq',\n",
              " 'file_id': '52667',\n",
              " 'default_target_attribute': 'class',\n",
              " 'tag': ['AzurePilot',\n",
              "  'OpenML-CC18',\n",
              "  'OpenML100',\n",
              "  'study_1',\n",
              "  'study_123',\n",
              "  'study_41',\n",
              "  'study_99',\n",
              "  'vision'],\n",
              " 'visibility': 'public',\n",
              " 'minio_url': 'http://openml1.win.tue.nl/dataset554/dataset_554.pq',\n",
              " 'status': 'active',\n",
              " 'processing_date': '2020-11-20 20:12:09',\n",
              " 'md5_checksum': '0298d579eb1b86163de7723944c7e495'}"
            ]
          },
          "execution_count": 20,
          "metadata": {},
          "output_type": "execute_result"
        }
      ],
      "source": [
        "mnist['details']"
      ]
    },
    {
      "cell_type": "code",
      "execution_count": null,
      "metadata": {
        "id": "gYXAWPuSWK5j",
        "outputId": "23cce6e5-94b4-4a9d-ee97-53181b9b9f6c"
      },
      "outputs": [
        {
          "data": {
            "text/plain": [
              "'https://www.openml.org/d/554'"
            ]
          },
          "execution_count": 21,
          "metadata": {},
          "output_type": "execute_result"
        }
      ],
      "source": [
        "mnist['url']"
      ]
    },
    {
      "cell_type": "markdown",
      "metadata": {
        "id": "wP38nJ8bWK5l"
      },
      "source": [
        "## Pre-Processing the data"
      ]
    },
    {
      "cell_type": "code",
      "execution_count": null,
      "metadata": {
        "id": "Hu27BqKyWK5m",
        "outputId": "6b8df845-98fd-44fb-f707-93d90124b760"
      },
      "outputs": [
        {
          "name": "stdout",
          "output_type": "stream",
          "text": [
            "We are using:\n",
            "\n",
            "1. Stochastic Gradient Descent (SGD) Classifier: It is a linear classifier that uses stochastic gradient descent as the optimization algorithm. This model is suitable for large-scale and sparse datasets.\n",
            "\n",
            "2. Random Forest Classifier: It is an ensemble learning method that combines multiple decision trees to make predictions. It is known for its versatility, robustness, and ability to handle complex datasets.\n",
            "\n",
            "3. Support Vector Classifier (SVC): It is a powerful classification algorithm that finds the best hyperplane to separate different classes. It can handle both linear and non-linear classification tasks by using different kernels.\n",
            "\n",
            "4. K-Nearest Neighbors (KNN) Classifier: It is a non-parametric algorithm that assigns a class label to an instance based on the class labels of its nearest neighbors. It is simple and intuitive, making it a popular choice for classification tasks.\n",
            "\n",
            "\n"
          ]
        }
      ],
      "source": [
        "print(\"\"\"We are using:\\n\n",
        "1. Stochastic Gradient Descent (SGD) Classifier: It is a linear classifier that uses stochastic gradient descent as the optimization algorithm. This model is suitable for large-scale and sparse datasets.\n",
        "\n",
        "2. Random Forest Classifier: It is an ensemble learning method that combines multiple decision trees to make predictions. It is known for its versatility, robustness, and ability to handle complex datasets.\n",
        "\n",
        "3. Support Vector Classifier (SVC): It is a powerful classification algorithm that finds the best hyperplane to separate different classes. It can handle both linear and non-linear classification tasks by using different kernels.\n",
        "\n",
        "4. K-Nearest Neighbors (KNN) Classifier: It is a non-parametric algorithm that assigns a class label to an instance based on the class labels of its nearest neighbors. It is simple and intuitive, making it a popular choice for classification tasks.\n",
        "\n",
        "\"\"\")"
      ]
    },
    {
      "cell_type": "code",
      "execution_count": null,
      "metadata": {
        "id": "tTOZI1PPIqvp"
      },
      "outputs": [],
      "source": [
        "# By default Scikit-Learn caches downloaded datasets in a directory called $HOME/scikit_learn_data."
      ]
    },
    {
      "cell_type": "code",
      "execution_count": null,
      "metadata": {
        "id": "ulUNEU4dIuaY"
      },
      "outputs": [],
      "source": [
        "# Extract the full training set and test set\n",
        "X_train_full = mnist.data[:60000]\n",
        "y_train_full = mnist.target[:60000]\n",
        "\n",
        "X_test = mnist.data[60000:]\n",
        "y_test = mnist.target[60000:]"
      ]
    },
    {
      "cell_type": "code",
      "execution_count": null,
      "metadata": {
        "id": "90Jw2LkbbapC",
        "outputId": "671c3ed4-ef45-41ca-e98e-f006af8c07ac"
      },
      "outputs": [
        {
          "data": {
            "text/plain": [
              "'\\n# Create a smaller stratified training subset (Just for smaller training time)\\nfrom sklearn.model_selection import train_test_split\\n\\n# Step: Create a stratified subset of 10,000 samples and keep the rest for future training\\nX_train_subset, X_train_rest, y_train_subset, y_train_rest = train_test_split(X_train_full, y_train_full, train_size=10000, test_size=50000, stratify=y_train_full, random_state=42)\\n\\n# This will ensure that rest 50K samples are different from the first 10K subset\\n# Took a lot of time though!\\n'"
            ]
          },
          "execution_count": 7,
          "metadata": {},
          "output_type": "execute_result"
        }
      ],
      "source": [
        "# For smaller training training time use smaller data set\n",
        "'''\n",
        "# Create a smaller stratified training subset (Just for smaller training time)\n",
        "from sklearn.model_selection import train_test_split\n",
        "\n",
        "# Step: Create a stratified subset of 10,000 samples and keep the rest for future training\n",
        "X_train_subset, X_train_rest, y_train_subset, y_train_rest = train_test_split(X_train_full, y_train_full, train_size=10000, test_size=50000, stratify=y_train_full, random_state=42)\n",
        "\n",
        "# This will ensure that rest 50K samples are different from the first 10K subset\n",
        "# Took a lot of time though!\n",
        "'''"
      ]
    },
    {
      "cell_type": "code",
      "execution_count": null,
      "metadata": {
        "id": "O1jGpoVwj5DO"
      },
      "outputs": [],
      "source": [
        "# # Print the shapes to verify the sizes\n",
        "# print(\"Stratified Subset shape:\", X_train_subset.shape, y_train_subset.shape)\n",
        "# print(\"Rest of the Data shape:\", X_train_rest.shape, y_train_rest.shape)\n"
      ]
    },
    {
      "cell_type": "code",
      "execution_count": null,
      "metadata": {
        "id": "8auXwykfWK51"
      },
      "outputs": [],
      "source": [
        "# Except RFC all others require scaling of data"
      ]
    },
    {
      "cell_type": "code",
      "execution_count": null,
      "metadata": {
        "id": "9yPyCCmvcCRa"
      },
      "outputs": [],
      "source": [
        "from sklearn.preprocessing import StandardScaler"
      ]
    },
    {
      "cell_type": "code",
      "execution_count": null,
      "metadata": {
        "id": "bqWY_sgcWK53"
      },
      "outputs": [],
      "source": [
        "scaler = StandardScaler()"
      ]
    },
    {
      "cell_type": "code",
      "execution_count": null,
      "metadata": {
        "id": "T9nlaGBuWK54"
      },
      "outputs": [],
      "source": [
        "X_train_full_scaled = scaler.fit_transform(X_train_full)\n",
        "X_test_scaled = scaler.fit_transform(X_test)"
      ]
    },
    {
      "cell_type": "code",
      "execution_count": null,
      "metadata": {
        "id": "sRbPMUKhWK55"
      },
      "outputs": [],
      "source": []
    },
    {
      "cell_type": "code",
      "execution_count": null,
      "metadata": {
        "colab": {
          "base_uri": "https://localhost:8080/",
          "height": 36
        },
        "id": "nt1fzLcVWK56",
        "outputId": "3766db56-d077-404c-eed3-4ce5bb66da81"
      },
      "outputs": [
        {
          "data": {
            "application/vnd.google.colaboratory.intrinsic+json": {
              "type": "string"
            },
            "text/plain": [
              "'5'"
            ]
          },
          "execution_count": 10,
          "metadata": {},
          "output_type": "execute_result"
        }
      ],
      "source": [
        "y_train_full.iloc[0]"
      ]
    },
    {
      "cell_type": "code",
      "execution_count": null,
      "metadata": {
        "colab": {
          "base_uri": "https://localhost:8080/"
        },
        "id": "o-zBGSeQWK57",
        "outputId": "27e38701-50aa-46f8-cb87-df613265abf1"
      },
      "outputs": [
        {
          "data": {
            "text/plain": [
              "str"
            ]
          },
          "execution_count": 11,
          "metadata": {},
          "output_type": "execute_result"
        }
      ],
      "source": [
        "type(y_train_full.iloc[0])"
      ]
    },
    {
      "cell_type": "code",
      "execution_count": null,
      "metadata": {
        "id": "eUj3NVLVJsR4"
      },
      "outputs": [],
      "source": [
        "y_train_full = y_train_full.astype(np.uint8)"
      ]
    },
    {
      "cell_type": "code",
      "execution_count": null,
      "metadata": {
        "colab": {
          "base_uri": "https://localhost:8080/"
        },
        "id": "sFgz4xFnWK58",
        "outputId": "4b0a29bd-2be5-45f1-b294-c645f8ac0751"
      },
      "outputs": [
        {
          "data": {
            "text/plain": [
              "5"
            ]
          },
          "execution_count": 13,
          "metadata": {},
          "output_type": "execute_result"
        }
      ],
      "source": [
        "y_train_full.iloc[0]"
      ]
    },
    {
      "cell_type": "code",
      "execution_count": null,
      "metadata": {
        "colab": {
          "base_uri": "https://localhost:8080/"
        },
        "id": "uix9o2DPWK5-",
        "outputId": "7bc93039-1330-40c9-bffc-afacb8abf559"
      },
      "outputs": [
        {
          "data": {
            "text/plain": [
              "numpy.uint8"
            ]
          },
          "execution_count": 14,
          "metadata": {},
          "output_type": "execute_result"
        }
      ],
      "source": [
        "type(y_train_full.iloc[0]) #Nice!"
      ]
    },
    {
      "cell_type": "code",
      "execution_count": null,
      "metadata": {
        "id": "ZWduAybSWK5_"
      },
      "outputs": [],
      "source": []
    },
    {
      "cell_type": "code",
      "execution_count": null,
      "metadata": {
        "colab": {
          "base_uri": "https://localhost:8080/"
        },
        "id": "oio8qnpLIwGu",
        "outputId": "96afa137-8f29-47b4-a71a-7a6c1222ec5c"
      },
      "outputs": [
        {
          "name": "stdout",
          "output_type": "stream",
          "text": [
            "Shape of full training set:  (60000, 784)\n",
            "Shape of full training set (Scaled):  (60000, 784)\n",
            "Shape of full training-target set:  (60000,)\n",
            "\n",
            "Shape of test set:  (10000, 784)\n",
            "Shape of test set (Scaled):  (10000, 784)\n",
            "Shape of test-target set:  (10000,)\n"
          ]
        }
      ],
      "source": [
        "print(\"Shape of full training set: \", X_train_full.shape)\n",
        "print(\"Shape of full training set (Scaled): \", X_train_full_scaled.shape)\n",
        "print(\"Shape of full training-target set: \", y_train_full.shape)\n",
        "print()\n",
        "print(\"Shape of test set: \", X_test.shape)\n",
        "print(\"Shape of test set (Scaled): \", X_test_scaled.shape)\n",
        "print(\"Shape of test-target set: \", y_test.shape)"
      ]
    },
    {
      "cell_type": "markdown",
      "metadata": {
        "id": "NyleSFwUcQzr",
        "outputId": "2cd8e3ef-aaec-48a7-a00e-e8ecd0a8afc5"
      },
      "source": [
        "### Visualizing the data"
      ]
    },
    {
      "cell_type": "code",
      "execution_count": null,
      "metadata": {
        "id": "_ZGKCY6nJxy6"
      },
      "outputs": [],
      "source": [
        "import matplotlib as mpl\n",
        "import matplotlib.pyplot as plt\n",
        "\n",
        "def plot_digit(data):\n",
        "    image = data.values.reshape(28, 28)\n",
        "    plt.imshow(image, cmap = mpl.cm.binary,\n",
        "               interpolation=\"nearest\")\n",
        "    plt.axis(\"off\")\n",
        "    plt.show();"
      ]
    },
    {
      "cell_type": "code",
      "execution_count": null,
      "metadata": {
        "colab": {
          "base_uri": "https://localhost:8080/",
          "height": 505
        },
        "id": "m9Ng54-yJd0a",
        "outputId": "ffc84eec-099d-4ec1-a768-b319a4cd74a0"
      },
      "outputs": [
        {
          "data": {
            "image/png": "[encoded data removed]",
            "text/plain": [
              "<Figure size 640x480 with 1 Axes>"
            ]
          },
          "metadata": {},
          "output_type": "display_data"
        },
        {
          "name": "stdout",
          "output_type": "stream",
          "text": [
            "Saving figure some_digit_plot\n"
          ]
        },
        {
          "data": {
            "text/plain": [
              "<Figure size 640x480 with 0 Axes>"
            ]
          },
          "metadata": {},
          "output_type": "display_data"
        }
      ],
      "source": [
        "some_digit = X_train_full.iloc[0]\n",
        "\n",
        "plot_digit(some_digit);\n",
        "save_fig(\"some_digit_plot\");"
      ]
    },
    {
      "cell_type": "code",
      "execution_count": null,
      "metadata": {
        "id": "uHiKuaUtJzqS"
      },
      "outputs": [],
      "source": [
        "# EXTRA\n",
        "def plot_digits(instances, images_per_row=10, **options):\n",
        "    size = 28\n",
        "    images_per_row = min(len(instances), images_per_row)\n",
        "    # This is equivalent to n_rows = ceil(len(instances) / images_per_row):\n",
        "    n_rows = (len(instances) - 1) // images_per_row + 1\n",
        "\n",
        "    # Append empty images to fill the end of the grid, if needed:\n",
        "    n_empty = n_rows * images_per_row - len(instances)\n",
        "    padded_instances = np.concatenate([instances, np.zeros((n_empty, size * size))], axis=0)\n",
        "\n",
        "    # Reshape the array so it's organized as a grid containing 28×28 images:\n",
        "    image_grid = padded_instances.reshape((n_rows, images_per_row, size, size))\n",
        "\n",
        "    # Combine axes 0 and 2 (vertical image grid axis, and vertical image axis),\n",
        "    # and axes 1 and 3 (horizontal axes). We first need to move the axes that we\n",
        "    # want to combine next to each other, using transpose(), and only then we\n",
        "    # can reshape:\n",
        "    big_image = image_grid.transpose(0, 2, 1, 3).reshape(n_rows * size,\n",
        "                                                         images_per_row * size)\n",
        "    # Now that we have a big image, we just need to show it:\n",
        "    plt.imshow(big_image, cmap = mpl.cm.binary, **options)\n",
        "    plt.axis(\"off\")\n"
      ]
    },
    {
      "cell_type": "code",
      "execution_count": null,
      "metadata": {
        "id": "uDQ7SU_CWK6F",
        "outputId": "f2ce6441-9c03-49db-ae5d-9e6fd4d80173"
      },
      "outputs": [
        {
          "name": "stdout",
          "output_type": "stream",
          "text": [
            "Saving figure more_digits_plot\n"
          ]
        },
        {
          "data": {
            "image/png": "[encoded data removed]",
            "text/plain": [
              "<Figure size 900x900 with 1 Axes>"
            ]
          },
          "metadata": {},
          "output_type": "display_data"
        }
      ],
      "source": [
        "plt.figure(figsize=(9,9))\n",
        "example_images = X_train_full[:10]\n",
        "plot_digits(example_images, images_per_row=10)\n",
        "save_fig(\"more_digits_plot\")\n",
        "plt.show()"
      ]
    },
    {
      "cell_type": "code",
      "execution_count": null,
      "metadata": {
        "id": "fUj5FSJvcM6G"
      },
      "outputs": [],
      "source": []
    },
    {
      "cell_type": "code",
      "execution_count": null,
      "metadata": {
        "colab": {
          "base_uri": "https://localhost:8080/",
          "height": 924
        },
        "id": "kmqJ5P6nJ2Xg",
        "outputId": "28676355-f2cb-4399-842a-647e4872a014"
      },
      "outputs": [
        {
          "name": "stdout",
          "output_type": "stream",
          "text": [
            "Saving figure more_digits_plot\n"
          ]
        },
        {
          "data": {
            "image/png": "[encoded data removed]",
            "text/plain": [
              "<Figure size 900x900 with 1 Axes>"
            ]
          },
          "metadata": {},
          "output_type": "display_data"
        }
      ],
      "source": [
        "plt.figure(figsize=(9,9))\n",
        "example_images2 = X_train_full[:100]\n",
        "plot_digits(example_images2, images_per_row=10)\n",
        "save_fig(\"more_digits_plot\")\n",
        "plt.show()"
      ]
    },
    {
      "cell_type": "code",
      "execution_count": null,
      "metadata": {
        "id": "so77S-j_Jgxv"
      },
      "outputs": [],
      "source": [
        "# Now it's time to train some models"
      ]
    },
    {
      "cell_type": "code",
      "execution_count": null,
      "metadata": {
        "id": "51MfHZ1lWK6v"
      },
      "outputs": [],
      "source": []
    },
    {
      "cell_type": "markdown",
      "metadata": {
        "id": "STrufOFHKCvO",
        "outputId": "1cb87bdb-5b9c-44a5-81d0-882cc3e78d08"
      },
      "source": [
        "# Training Models"
      ]
    },
    {
      "cell_type": "markdown",
      "metadata": {
        "id": "i684jcGMKQ8c"
      },
      "source": [
        "## 1. Random Forest"
      ]
    },
    {
      "cell_type": "code",
      "execution_count": null,
      "metadata": {
        "id": "w0fcBlQ0WK6y"
      },
      "outputs": [],
      "source": [
        "from sklearn.ensemble import RandomForestClassifier"
      ]
    },
    {
      "cell_type": "code",
      "execution_count": null,
      "metadata": {
        "id": "bfxtaL-_WK6y"
      },
      "outputs": [],
      "source": [
        "from sklearn.multiclass import OneVsOneClassifier, OneVsRestClassifier"
      ]
    },
    {
      "cell_type": "code",
      "execution_count": null,
      "metadata": {
        "id": "jP9RbQ7SWK6z"
      },
      "outputs": [],
      "source": [
        "from sklearn.model_selection import GridSearchCV"
      ]
    },
    {
      "cell_type": "code",
      "execution_count": null,
      "metadata": {
        "id": "UzTB9JgdWK60"
      },
      "outputs": [],
      "source": [
        "rf_clf = RandomForestClassifier(random_state=42, n_jobs=-1)"
      ]
    },
    {
      "cell_type": "markdown",
      "metadata": {
        "id": "95iOHZGCWK61"
      },
      "source": [
        "### Random Forest - OvO"
      ]
    },
    {
      "cell_type": "code",
      "execution_count": null,
      "metadata": {
        "id": "RDJDIOM0WK61"
      },
      "outputs": [],
      "source": [
        "ovo_rf_clf = OneVsOneClassifier(rf_clf)"
      ]
    },
    {
      "cell_type": "code",
      "execution_count": null,
      "metadata": {
        "id": "8SCLLdnUWK62"
      },
      "outputs": [],
      "source": [
        "# Setting some hyperparameters"
      ]
    },
    {
      "cell_type": "code",
      "execution_count": null,
      "metadata": {
        "id": "jZZPR79xWK63"
      },
      "outputs": [],
      "source": [
        "param_grid_ovo = {\n",
        "    'estimator__n_estimators': [100, 200, 300],\n",
        "    'estimator__max_depth': [None, 10, 20],\n",
        "    'estimator__min_samples_split': [2, 5, 10],\n",
        "    'estimator__max_features': ['sqrt', 'log2', None],\n",
        "    'estimator__min_samples_leaf': [1, 2, 4],\n",
        "    'estimator__criterion': ['gini', 'entropy'],\n",
        "    'estimator__bootstrap': [True, False]\n",
        "}"
      ]
    },
    {
      "cell_type": "code",
      "execution_count": null,
      "metadata": {
        "id": "gUgYndBIWK64"
      },
      "outputs": [],
      "source": [
        "grid_search_ovo_rf_clf = GridSearchCV(ovo_rf_clf, param_grid_ovo, cv=5, scoring='accuracy', n_jobs=-1)"
      ]
    },
    {
      "cell_type": "code",
      "execution_count": null,
      "metadata": {
        "id": "h1LC-FxBWK7A",
        "outputId": "54ad01f2-485e-4838-cff4-51e05dd95a36"
      },
      "outputs": [
        {
          "name": "stderr",
          "output_type": "stream",
          "text": [
            "/home/test/.local/lib/python3.10/site-packages/joblib/externals/loky/process_executor.py:700: UserWarning: A worker stopped while some jobs were given to the executor. This can be caused by a too short worker timeout or by a memory leak.\n",
            "  warnings.warn(\n"
          ]
        }
      ],
      "source": [
        "grid_search_ovo_rf_clf.fit(X_train_full, y_train_full)"
      ]
    },
    {
      "cell_type": "code",
      "execution_count": null,
      "metadata": {
        "id": "cTx0cujCWK7C"
      },
      "outputs": [],
      "source": [
        "print(\"OVO - Best Hyperparameters:\", grid_search_ovo_rf_clf.best_params_)\n",
        "print(\"OVO - Best Score:\", grid_search_ovo_rf_clf.best_score_)"
      ]
    },
    {
      "cell_type": "markdown",
      "metadata": {
        "id": "Vn3rNA-QWK7D"
      },
      "source": [
        "### Random Forest - OvR"
      ]
    },
    {
      "cell_type": "code",
      "execution_count": null,
      "metadata": {
        "id": "jUwgQrRuWK7E"
      },
      "outputs": [],
      "source": [
        "ovr_rf_clf = OneVsRestClassifier(rf_clf, n_jobs=-1, verbose=3)"
      ]
    },
    {
      "cell_type": "code",
      "execution_count": null,
      "metadata": {
        "id": "P3rUFZrpWK7F"
      },
      "outputs": [],
      "source": [
        "param_grid_ovr = {\n",
        "    'estimator__n_estimators': [100, 200, 300],\n",
        "    'estimator__max_depth': [None, 10, 20],\n",
        "    'estimator__min_samples_split': [2, 5, 10],\n",
        "    'estimator__max_features': ['sqrt', 'log2', None],\n",
        "    'estimator__min_samples_leaf': [1, 2, 4],\n",
        "    'estimator__criterion': ['gini', 'entropy'],\n",
        "    'estimator__bootstrap': [True, False]\n",
        "}"
      ]
    },
    {
      "cell_type": "code",
      "execution_count": null,
      "metadata": {
        "id": "EdV8dzJkWK7G"
      },
      "outputs": [],
      "source": [
        "grid_search_ovr_rf_clf = GridSearchCV(ovr_rf_clf, param_grid_ovr, cv=5, scoring='accuracy', n_jobs=-1, verbose=3)"
      ]
    },
    {
      "cell_type": "code",
      "execution_count": null,
      "metadata": {
        "colab": {
          "base_uri": "https://localhost:8080/",
          "height": 154
        },
        "id": "HgzdGcyrWK7H",
        "outputId": "5c4f9702-2ebf-4b15-95d3-5138e147d393"
      },
      "outputs": [
        {
          "name": "stderr",
          "output_type": "stream",
          "text": [
            "[Parallel(n_jobs=-1)]: Using backend LokyBackend with 2 concurrent workers.\n",
            "[Parallel(n_jobs=-1)]: Done  10 out of  10 | elapsed:  4.5min finished\n"
          ]
        },
        {
          "data": {
            "text/html": [
              "<style>#sk-container-id-1 {color: black;background-color: white;}#sk-container-id-1 pre{padding: 0;}#sk-container-id-1 div.sk-toggleable {background-color: white;}#sk-container-id-1 label.sk-toggleable__label {cursor: pointer;display: block;width: 100%;margin-bottom: 0;padding: 0.3em;box-sizing: border-box;text-align: center;}#sk-container-id-1 label.sk-toggleable__label-arrow:before {content: \"▸\";float: left;margin-right: 0.25em;color: #696969;}#sk-container-id-1 label.sk-toggleable__label-arrow:hover:before {color: black;}#sk-container-id-1 div.sk-estimator:hover label.sk-toggleable__label-arrow:before {color: black;}#sk-container-id-1 div.sk-toggleable__content {max-height: 0;max-width: 0;overflow: hidden;text-align: left;background-color: #f0f8ff;}#sk-container-id-1 div.sk-toggleable__content pre {margin: 0.2em;color: black;border-radius: 0.25em;background-color: #f0f8ff;}#sk-container-id-1 input.sk-toggleable__control:checked~div.sk-toggleable__content {max-height: 200px;max-width: 100%;overflow: auto;}#sk-container-id-1 input.sk-toggleable__control:checked~label.sk-toggleable__label-arrow:before {content: \"▾\";}#sk-container-id-1 div.sk-estimator input.sk-toggleable__control:checked~label.sk-toggleable__label {background-color: #d4ebff;}#sk-container-id-1 div.sk-label input.sk-toggleable__control:checked~label.sk-toggleable__label {background-color: #d4ebff;}#sk-container-id-1 input.sk-hidden--visually {border: 0;clip: rect(1px 1px 1px 1px);clip: rect(1px, 1px, 1px, 1px);height: 1px;margin: -1px;overflow: hidden;padding: 0;position: absolute;width: 1px;}#sk-container-id-1 div.sk-estimator {font-family: monospace;background-color: #f0f8ff;border: 1px dotted black;border-radius: 0.25em;box-sizing: border-box;margin-bottom: 0.5em;}#sk-container-id-1 div.sk-estimator:hover {background-color: #d4ebff;}#sk-container-id-1 div.sk-parallel-item::after {content: \"\";width: 100%;border-bottom: 1px solid gray;flex-grow: 1;}#sk-container-id-1 div.sk-label:hover label.sk-toggleable__label {background-color: #d4ebff;}#sk-container-id-1 div.sk-serial::before {content: \"\";position: absolute;border-left: 1px solid gray;box-sizing: border-box;top: 0;bottom: 0;left: 50%;z-index: 0;}#sk-container-id-1 div.sk-serial {display: flex;flex-direction: column;align-items: center;background-color: white;padding-right: 0.2em;padding-left: 0.2em;position: relative;}#sk-container-id-1 div.sk-item {position: relative;z-index: 1;}#sk-container-id-1 div.sk-parallel {display: flex;align-items: stretch;justify-content: center;background-color: white;position: relative;}#sk-container-id-1 div.sk-item::before, #sk-container-id-1 div.sk-parallel-item::before {content: \"\";position: absolute;border-left: 1px solid gray;box-sizing: border-box;top: 0;bottom: 0;left: 50%;z-index: -1;}#sk-container-id-1 div.sk-parallel-item {display: flex;flex-direction: column;z-index: 1;position: relative;background-color: white;}#sk-container-id-1 div.sk-parallel-item:first-child::after {align-self: flex-end;width: 50%;}#sk-container-id-1 div.sk-parallel-item:last-child::after {align-self: flex-start;width: 50%;}#sk-container-id-1 div.sk-parallel-item:only-child::after {width: 0;}#sk-container-id-1 div.sk-dashed-wrapped {border: 1px dashed gray;margin: 0 0.4em 0.5em 0.4em;box-sizing: border-box;padding-bottom: 0.4em;background-color: white;}#sk-container-id-1 div.sk-label label {font-family: monospace;font-weight: bold;display: inline-block;line-height: 1.2em;}#sk-container-id-1 div.sk-label-container {text-align: center;}#sk-container-id-1 div.sk-container {/* jupyter's `normalize.less` sets `[hidden] { display: none; }` but bootstrap.min.css set `[hidden] { display: none !important; }` so we also need the `!important` here to be able to override the default hidden behavior on the sphinx rendered scikit-learn.org. See: https://github.com/scikit-learn/scikit-learn/issues/21755 */display: inline-block !important;position: relative;}#sk-container-id-1 div.sk-text-repr-fallback {display: none;}</style><div id=\"sk-container-id-1\" class=\"sk-top-container\"><div class=\"sk-text-repr-fallback\"><pre>OneVsRestClassifier(estimator=RandomForestClassifier(n_jobs=-1,\n",
              "                                                     random_state=42),\n",
              "                    n_jobs=-1, verbose=3)</pre><b>In a Jupyter environment, please rerun this cell to show the HTML representation or trust the notebook. <br />On GitHub, the HTML representation is unable to render, please try loading this page with nbviewer.org.</b></div><div class=\"sk-container\" hidden><div class=\"sk-item sk-dashed-wrapped\"><div class=\"sk-label-container\"><div class=\"sk-label sk-toggleable\"><input class=\"sk-toggleable__control sk-hidden--visually\" id=\"sk-estimator-id-1\" type=\"checkbox\" ><label for=\"sk-estimator-id-1\" class=\"sk-toggleable__label sk-toggleable__label-arrow\">OneVsRestClassifier</label><div class=\"sk-toggleable__content\"><pre>OneVsRestClassifier(estimator=RandomForestClassifier(n_jobs=-1,\n",
              "                                                     random_state=42),\n",
              "                    n_jobs=-1, verbose=3)</pre></div></div></div><div class=\"sk-parallel\"><div class=\"sk-parallel-item\"><div class=\"sk-item\"><div class=\"sk-label-container\"><div class=\"sk-label sk-toggleable\"><input class=\"sk-toggleable__control sk-hidden--visually\" id=\"sk-estimator-id-2\" type=\"checkbox\" ><label for=\"sk-estimator-id-2\" class=\"sk-toggleable__label sk-toggleable__label-arrow\">estimator: RandomForestClassifier</label><div class=\"sk-toggleable__content\"><pre>RandomForestClassifier(n_jobs=-1, random_state=42)</pre></div></div></div><div class=\"sk-serial\"><div class=\"sk-item\"><div class=\"sk-estimator sk-toggleable\"><input class=\"sk-toggleable__control sk-hidden--visually\" id=\"sk-estimator-id-3\" type=\"checkbox\" ><label for=\"sk-estimator-id-3\" class=\"sk-toggleable__label sk-toggleable__label-arrow\">RandomForestClassifier</label><div class=\"sk-toggleable__content\"><pre>RandomForestClassifier(n_jobs=-1, random_state=42)</pre></div></div></div></div></div></div></div></div></div></div>"
            ],
            "text/plain": [
              "OneVsRestClassifier(estimator=RandomForestClassifier(n_jobs=-1,\n",
              "                                                     random_state=42),\n",
              "                    n_jobs=-1, verbose=3)"
            ]
          },
          "execution_count": 31,
          "metadata": {},
          "output_type": "execute_result"
        }
      ],
      "source": [
        "ovr_rf_clf.fit(X_train_full, y_train_full)"
      ]
    },
    {
      "cell_type": "code",
      "execution_count": null,
      "metadata": {
        "colab": {
          "background_save": true
        },
        "id": "fgTa6vRRWK7I",
        "outputId": "bb272bb1-c62b-4de2-e09d-b5fb2f901ca0"
      },
      "outputs": [
        {
          "ename": "AttributeError",
          "evalue": "ignored",
          "output_type": "error",
          "traceback": [
            "\u001b[0;31m---------------------------------------------------------------------------\u001b[0m",
            "\u001b[0;31mAttributeError\u001b[0m                            Traceback (most recent call last)",
            "\u001b[0;32m<ipython-input-32-201c8d6e5b74>\u001b[0m in \u001b[0;36m<cell line: 1>\u001b[0;34m()\u001b[0m\n\u001b[0;32m----> 1\u001b[0;31m \u001b[0mprint\u001b[0m\u001b[0;34m(\u001b[0m\u001b[0;34m\"OVR - Best Hyperparameters:\"\u001b[0m\u001b[0;34m,\u001b[0m \u001b[0mgrid_search_ovr_rf_clf\u001b[0m\u001b[0;34m.\u001b[0m\u001b[0mbest_params_\u001b[0m\u001b[0;34m)\u001b[0m\u001b[0;34m\u001b[0m\u001b[0;34m\u001b[0m\u001b[0m\n\u001b[0m\u001b[1;32m      2\u001b[0m \u001b[0mprint\u001b[0m\u001b[0;34m(\u001b[0m\u001b[0;34m\"OVR - Best Score:\"\u001b[0m\u001b[0;34m,\u001b[0m \u001b[0mgrid_search_ovr_rf_clf\u001b[0m\u001b[0;34m.\u001b[0m\u001b[0mbest_score_\u001b[0m\u001b[0;34m)\u001b[0m\u001b[0;34m\u001b[0m\u001b[0;34m\u001b[0m\u001b[0m\n",
            "\u001b[0;31mAttributeError\u001b[0m: 'GridSearchCV' object has no attribute 'best_params_'"
          ]
        }
      ],
      "source": [
        "print(\"OVR - Best Hyperparameters:\", grid_search_ovr_rf_clf.best_params_)\n",
        "print(\"OVR - Best Score:\", grid_search_ovr_rf_clf.best_score_)\n"
      ]
    },
    {
      "cell_type": "code",
      "execution_count": null,
      "metadata": {
        "colab": {
          "base_uri": "https://localhost:8080/"
        },
        "id": "W6Wf1RDuWK7J",
        "outputId": "04c4e7b9-aa9a-4413-b6ff-f00a8b0b1b04"
      },
      "outputs": [
        {
          "output_type": "execute_result",
          "data": {
            "text/plain": [
              "['ovr_rf_clf.pkl']"
            ]
          },
          "metadata": {},
          "execution_count": 38
        }
      ],
      "source": [
        "# Save the trained model\n",
        "import joblib\n",
        "\n",
        "\n",
        "joblib.dump(ovr_rf_clf, 'ovr_rf_clf.pkl')"
      ]
    },
    {
      "cell_type": "code",
      "execution_count": null,
      "metadata": {
        "id": "hLbdVj8pXVol",
        "colab": {
          "base_uri": "https://localhost:8080/"
        },
        "outputId": "97433b28-c610-443b-e78c-c8f2b9078430"
      },
      "outputs": [
        {
          "output_type": "stream",
          "name": "stderr",
          "text": [
            "/usr/local/lib/python3.10/dist-packages/sklearn/base.py:439: UserWarning: X does not have valid feature names, but RandomForestClassifier was fitted with feature names\n",
            "  warnings.warn(\n",
            "/usr/local/lib/python3.10/dist-packages/sklearn/base.py:439: UserWarning: X does not have valid feature names, but RandomForestClassifier was fitted with feature names\n",
            "  warnings.warn(\n",
            "/usr/local/lib/python3.10/dist-packages/sklearn/base.py:439: UserWarning: X does not have valid feature names, but RandomForestClassifier was fitted with feature names\n",
            "  warnings.warn(\n",
            "/usr/local/lib/python3.10/dist-packages/sklearn/base.py:439: UserWarning: X does not have valid feature names, but RandomForestClassifier was fitted with feature names\n",
            "  warnings.warn(\n",
            "/usr/local/lib/python3.10/dist-packages/sklearn/base.py:439: UserWarning: X does not have valid feature names, but RandomForestClassifier was fitted with feature names\n",
            "  warnings.warn(\n",
            "/usr/local/lib/python3.10/dist-packages/sklearn/base.py:439: UserWarning: X does not have valid feature names, but RandomForestClassifier was fitted with feature names\n",
            "  warnings.warn(\n",
            "/usr/local/lib/python3.10/dist-packages/sklearn/base.py:439: UserWarning: X does not have valid feature names, but RandomForestClassifier was fitted with feature names\n",
            "  warnings.warn(\n",
            "/usr/local/lib/python3.10/dist-packages/sklearn/base.py:439: UserWarning: X does not have valid feature names, but RandomForestClassifier was fitted with feature names\n",
            "  warnings.warn(\n",
            "/usr/local/lib/python3.10/dist-packages/sklearn/base.py:439: UserWarning: X does not have valid feature names, but RandomForestClassifier was fitted with feature names\n",
            "  warnings.warn(\n",
            "/usr/local/lib/python3.10/dist-packages/sklearn/base.py:439: UserWarning: X does not have valid feature names, but RandomForestClassifier was fitted with feature names\n",
            "  warnings.warn(\n"
          ]
        },
        {
          "output_type": "execute_result",
          "data": {
            "text/plain": [
              "array([5], dtype=uint8)"
            ]
          },
          "metadata": {},
          "execution_count": 37
        }
      ],
      "source": [
        "ovr_rf_clf.predict([X_train_full.iloc[0]])"
      ]
    },
    {
      "cell_type": "code",
      "source": [
        "ovr_rf_clf"
      ],
      "metadata": {
        "id": "5-U8kXJyiZNf"
      },
      "execution_count": null,
      "outputs": []
    },
    {
      "cell_type": "markdown",
      "metadata": {
        "id": "_wsfTlWjjscc"
      },
      "source": [
        "### Random Forest - OvO"
      ]
    },
    {
      "cell_type": "code",
      "execution_count": null,
      "metadata": {
        "id": "S8_On5hyjsc5"
      },
      "outputs": [],
      "source": [
        "ovo_rf_clf = OneVsOneClassifier(rf_clf, n_jobs=-1)"
      ]
    },
    {
      "cell_type": "code",
      "execution_count": null,
      "metadata": {
        "id": "F1kBRC15jsc6"
      },
      "outputs": [],
      "source": [
        "param_grid_ovr = {\n",
        "    'estimator__n_estimators': [100, 200, 300],\n",
        "    'estimator__max_depth': [None, 10, 20],\n",
        "    'estimator__min_samples_split': [2, 5, 10],\n",
        "    'estimator__max_features': ['sqrt', 'log2', None],\n",
        "    'estimator__min_samples_leaf': [1, 2, 4],\n",
        "    'estimator__criterion': ['gini', 'entropy'],\n",
        "    'estimator__bootstrap': [True, False]\n",
        "}"
      ]
    },
    {
      "cell_type": "code",
      "execution_count": null,
      "metadata": {
        "id": "gPCiwkFUjsc7"
      },
      "outputs": [],
      "source": [
        "grid_search_ovr_rf_clf = GridSearchCV(ovr_rf_clf, param_grid_ovr, cv=5, scoring='accuracy', n_jobs=-1, verbose=3)"
      ]
    },
    {
      "cell_type": "code",
      "execution_count": null,
      "metadata": {
        "colab": {
          "base_uri": "https://localhost:8080/",
          "height": 118
        },
        "outputId": "f78c90fe-5776-4cee-90c7-aad2486ff122",
        "id": "w2QHeoWQjsc8"
      },
      "outputs": [
        {
          "output_type": "execute_result",
          "data": {
            "text/plain": [
              "OneVsOneClassifier(estimator=RandomForestClassifier(n_jobs=-1, random_state=42),\n",
              "                   n_jobs=-1)"
            ],
            "text/html": [
              "<style>#sk-container-id-2 {color: black;background-color: white;}#sk-container-id-2 pre{padding: 0;}#sk-container-id-2 div.sk-toggleable {background-color: white;}#sk-container-id-2 label.sk-toggleable__label {cursor: pointer;display: block;width: 100%;margin-bottom: 0;padding: 0.3em;box-sizing: border-box;text-align: center;}#sk-container-id-2 label.sk-toggleable__label-arrow:before {content: \"▸\";float: left;margin-right: 0.25em;color: #696969;}#sk-container-id-2 label.sk-toggleable__label-arrow:hover:before {color: black;}#sk-container-id-2 div.sk-estimator:hover label.sk-toggleable__label-arrow:before {color: black;}#sk-container-id-2 div.sk-toggleable__content {max-height: 0;max-width: 0;overflow: hidden;text-align: left;background-color: #f0f8ff;}#sk-container-id-2 div.sk-toggleable__content pre {margin: 0.2em;color: black;border-radius: 0.25em;background-color: #f0f8ff;}#sk-container-id-2 input.sk-toggleable__control:checked~div.sk-toggleable__content {max-height: 200px;max-width: 100%;overflow: auto;}#sk-container-id-2 input.sk-toggleable__control:checked~label.sk-toggleable__label-arrow:before {content: \"▾\";}#sk-container-id-2 div.sk-estimator input.sk-toggleable__control:checked~label.sk-toggleable__label {background-color: #d4ebff;}#sk-container-id-2 div.sk-label input.sk-toggleable__control:checked~label.sk-toggleable__label {background-color: #d4ebff;}#sk-container-id-2 input.sk-hidden--visually {border: 0;clip: rect(1px 1px 1px 1px);clip: rect(1px, 1px, 1px, 1px);height: 1px;margin: -1px;overflow: hidden;padding: 0;position: absolute;width: 1px;}#sk-container-id-2 div.sk-estimator {font-family: monospace;background-color: #f0f8ff;border: 1px dotted black;border-radius: 0.25em;box-sizing: border-box;margin-bottom: 0.5em;}#sk-container-id-2 div.sk-estimator:hover {background-color: #d4ebff;}#sk-container-id-2 div.sk-parallel-item::after {content: \"\";width: 100%;border-bottom: 1px solid gray;flex-grow: 1;}#sk-container-id-2 div.sk-label:hover label.sk-toggleable__label {background-color: #d4ebff;}#sk-container-id-2 div.sk-serial::before {content: \"\";position: absolute;border-left: 1px solid gray;box-sizing: border-box;top: 0;bottom: 0;left: 50%;z-index: 0;}#sk-container-id-2 div.sk-serial {display: flex;flex-direction: column;align-items: center;background-color: white;padding-right: 0.2em;padding-left: 0.2em;position: relative;}#sk-container-id-2 div.sk-item {position: relative;z-index: 1;}#sk-container-id-2 div.sk-parallel {display: flex;align-items: stretch;justify-content: center;background-color: white;position: relative;}#sk-container-id-2 div.sk-item::before, #sk-container-id-2 div.sk-parallel-item::before {content: \"\";position: absolute;border-left: 1px solid gray;box-sizing: border-box;top: 0;bottom: 0;left: 50%;z-index: -1;}#sk-container-id-2 div.sk-parallel-item {display: flex;flex-direction: column;z-index: 1;position: relative;background-color: white;}#sk-container-id-2 div.sk-parallel-item:first-child::after {align-self: flex-end;width: 50%;}#sk-container-id-2 div.sk-parallel-item:last-child::after {align-self: flex-start;width: 50%;}#sk-container-id-2 div.sk-parallel-item:only-child::after {width: 0;}#sk-container-id-2 div.sk-dashed-wrapped {border: 1px dashed gray;margin: 0 0.4em 0.5em 0.4em;box-sizing: border-box;padding-bottom: 0.4em;background-color: white;}#sk-container-id-2 div.sk-label label {font-family: monospace;font-weight: bold;display: inline-block;line-height: 1.2em;}#sk-container-id-2 div.sk-label-container {text-align: center;}#sk-container-id-2 div.sk-container {/* jupyter's `normalize.less` sets `[hidden] { display: none; }` but bootstrap.min.css set `[hidden] { display: none !important; }` so we also need the `!important` here to be able to override the default hidden behavior on the sphinx rendered scikit-learn.org. See: https://github.com/scikit-learn/scikit-learn/issues/21755 */display: inline-block !important;position: relative;}#sk-container-id-2 div.sk-text-repr-fallback {display: none;}</style><div id=\"sk-container-id-2\" class=\"sk-top-container\"><div class=\"sk-text-repr-fallback\"><pre>OneVsOneClassifier(estimator=RandomForestClassifier(n_jobs=-1, random_state=42),\n",
              "                   n_jobs=-1)</pre><b>In a Jupyter environment, please rerun this cell to show the HTML representation or trust the notebook. <br />On GitHub, the HTML representation is unable to render, please try loading this page with nbviewer.org.</b></div><div class=\"sk-container\" hidden><div class=\"sk-item sk-dashed-wrapped\"><div class=\"sk-label-container\"><div class=\"sk-label sk-toggleable\"><input class=\"sk-toggleable__control sk-hidden--visually\" id=\"sk-estimator-id-4\" type=\"checkbox\" ><label for=\"sk-estimator-id-4\" class=\"sk-toggleable__label sk-toggleable__label-arrow\">OneVsOneClassifier</label><div class=\"sk-toggleable__content\"><pre>OneVsOneClassifier(estimator=RandomForestClassifier(n_jobs=-1, random_state=42),\n",
              "                   n_jobs=-1)</pre></div></div></div><div class=\"sk-parallel\"><div class=\"sk-parallel-item\"><div class=\"sk-item\"><div class=\"sk-label-container\"><div class=\"sk-label sk-toggleable\"><input class=\"sk-toggleable__control sk-hidden--visually\" id=\"sk-estimator-id-5\" type=\"checkbox\" ><label for=\"sk-estimator-id-5\" class=\"sk-toggleable__label sk-toggleable__label-arrow\">estimator: RandomForestClassifier</label><div class=\"sk-toggleable__content\"><pre>RandomForestClassifier(n_jobs=-1, random_state=42)</pre></div></div></div><div class=\"sk-serial\"><div class=\"sk-item\"><div class=\"sk-estimator sk-toggleable\"><input class=\"sk-toggleable__control sk-hidden--visually\" id=\"sk-estimator-id-6\" type=\"checkbox\" ><label for=\"sk-estimator-id-6\" class=\"sk-toggleable__label sk-toggleable__label-arrow\">RandomForestClassifier</label><div class=\"sk-toggleable__content\"><pre>RandomForestClassifier(n_jobs=-1, random_state=42)</pre></div></div></div></div></div></div></div></div></div></div>"
            ]
          },
          "metadata": {},
          "execution_count": 44
        }
      ],
      "source": [
        "ovo_rf_clf.fit(X_train_full, y_train_full)"
      ]
    },
    {
      "cell_type": "code",
      "execution_count": null,
      "metadata": {
        "colab": {
          "background_save": true
        },
        "outputId": "bb272bb1-c62b-4de2-e09d-b5fb2f901ca0",
        "id": "od0RJuE5jsc9"
      },
      "outputs": [
        {
          "ename": "AttributeError",
          "evalue": "ignored",
          "output_type": "error",
          "traceback": [
            "\u001b[0;31m---------------------------------------------------------------------------\u001b[0m",
            "\u001b[0;31mAttributeError\u001b[0m                            Traceback (most recent call last)",
            "\u001b[0;32m<ipython-input-32-201c8d6e5b74>\u001b[0m in \u001b[0;36m<cell line: 1>\u001b[0;34m()\u001b[0m\n\u001b[0;32m----> 1\u001b[0;31m \u001b[0mprint\u001b[0m\u001b[0;34m(\u001b[0m\u001b[0;34m\"OVR - Best Hyperparameters:\"\u001b[0m\u001b[0;34m,\u001b[0m \u001b[0mgrid_search_ovr_rf_clf\u001b[0m\u001b[0;34m.\u001b[0m\u001b[0mbest_params_\u001b[0m\u001b[0;34m)\u001b[0m\u001b[0;34m\u001b[0m\u001b[0;34m\u001b[0m\u001b[0m\n\u001b[0m\u001b[1;32m      2\u001b[0m \u001b[0mprint\u001b[0m\u001b[0;34m(\u001b[0m\u001b[0;34m\"OVR - Best Score:\"\u001b[0m\u001b[0;34m,\u001b[0m \u001b[0mgrid_search_ovr_rf_clf\u001b[0m\u001b[0;34m.\u001b[0m\u001b[0mbest_score_\u001b[0m\u001b[0;34m)\u001b[0m\u001b[0;34m\u001b[0m\u001b[0;34m\u001b[0m\u001b[0m\n",
            "\u001b[0;31mAttributeError\u001b[0m: 'GridSearchCV' object has no attribute 'best_params_'"
          ]
        }
      ],
      "source": [
        "print(\"OVR - Best Hyperparameters:\", grid_search_ovr_rf_clf.best_params_)\n",
        "print(\"OVR - Best Score:\", grid_search_ovr_rf_clf.best_score_)\n"
      ]
    },
    {
      "cell_type": "code",
      "execution_count": null,
      "metadata": {
        "colab": {
          "base_uri": "https://localhost:8080/"
        },
        "outputId": "66352446-efa5-4b59-d0eb-7dc0b6b112c6",
        "id": "hj0V0rCgjsc-"
      },
      "outputs": [
        {
          "output_type": "execute_result",
          "data": {
            "text/plain": [
              "['ovo_rf_clf.pkl']"
            ]
          },
          "metadata": {},
          "execution_count": 45
        }
      ],
      "source": [
        "# Save the trained model\n",
        "import joblib\n",
        "\n",
        "\n",
        "joblib.dump(ovo_rf_clf, 'ovo_rf_clf.pkl')"
      ]
    },
    {
      "cell_type": "code",
      "source": [],
      "metadata": {
        "id": "MUqj6tVwlOB8"
      },
      "execution_count": null,
      "outputs": []
    }
  ],
  "metadata": {
    "colab": {
      "provenance": []
    },
    "kernelspec": {
      "display_name": "Python 3 (ipykernel)",
      "language": "python",
      "name": "python3"
    },
    "language_info": {
      "codemirror_mode": {
        "name": "ipython",
        "version": 3
      },
      "file_extension": ".py",
      "mimetype": "text/x-python",
      "name": "python",
      "nbconvert_exporter": "python",
      "pygments_lexer": "ipython3",
      "version": "3.10.6"
    }
  },
  "nbformat": 4,
  "nbformat_minor": 0
}