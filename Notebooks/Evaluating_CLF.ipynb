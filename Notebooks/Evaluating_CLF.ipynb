{
 "cells": [
  {
   "cell_type": "markdown",
   "id": "b107ece0",
   "metadata": {},
   "source": [
    "# Evaluating the trained models"
   ]
  },
  {
   "cell_type": "markdown",
   "id": "deb7de37",
   "metadata": {},
   "source": [
    "## Loading the data"
   ]
  },
  {
   "cell_type": "code",
   "execution_count": 1,
   "id": "418bb38e",
   "metadata": {},
   "outputs": [],
   "source": [
    "# Python ≥3.5 is required\n",
    "import sys\n",
    "assert sys.version_info >= (3, 5)\n",
    "\n",
    "# Is this notebook running on Colab or Kaggle?\n",
    "IS_COLAB = \"google.colab\" in sys.modules\n",
    "IS_KAGGLE = \"kaggle_secrets\" in sys.modules\n",
    "\n",
    "# Scikit-Learn ≥0.20 is required\n",
    "import sklearn\n",
    "assert sklearn.__version__ >= \"0.20\"\n",
    "\n",
    "# Common imports\n",
    "import numpy as np\n",
    "import os\n",
    "\n",
    "# to make this notebook's output stable across runs\n",
    "np.random.seed(42)\n",
    "\n",
    "# To plot pretty figures\n",
    "%matplotlib inline\n",
    "import matplotlib as mpl\n",
    "import matplotlib.pyplot as plt\n",
    "mpl.rc('axes', labelsize=14)\n",
    "mpl.rc('xtick', labelsize=12)\n",
    "mpl.rc('ytick', labelsize=12)\n",
    "\n",
    "# Where to save the figures\n",
    "PROJECT_ROOT_DIR = \".\"\n",
    "CHAPTER_ID = \"classification\"\n",
    "IMAGES_PATH = os.path.join(PROJECT_ROOT_DIR, \"images\", CHAPTER_ID)\n",
    "os.makedirs(IMAGES_PATH, exist_ok=True)\n",
    "\n",
    "def save_fig(fig_id, tight_layout=True, fig_extension=\"png\", resolution=300):\n",
    "    path = os.path.join(IMAGES_PATH, fig_id + \".\" + fig_extension)\n",
    "    print(\"Saving figure\", fig_id)\n",
    "    if tight_layout:\n",
    "        plt.tight_layout()\n",
    "    plt.savefig(path, format=fig_extension, dpi=resolution)"
   ]
  },
  {
   "cell_type": "code",
   "execution_count": 31,
   "id": "2dba9e0a",
   "metadata": {},
   "outputs": [],
   "source": [
    "from sklearn.datasets import fetch_openml\n",
    "import numpy as np\n",
    "import pandas as pd"
   ]
  },
  {
   "cell_type": "code",
   "execution_count": 3,
   "id": "13a7e5ef",
   "metadata": {},
   "outputs": [],
   "source": [
    "mnist = fetch_openml('mnist_784', version=1, parser=\"auto\") #This returns a bunch object (something like dictionary) that is compatible with sklearn"
   ]
  },
  {
   "cell_type": "code",
   "execution_count": 4,
   "id": "9af7dd65",
   "metadata": {},
   "outputs": [],
   "source": [
    "# Extract the full training set and test set\n",
    "X_train_full = mnist.data[:60000]\n",
    "y_train_full = mnist.target[:60000]\n",
    "\n",
    "X_test = mnist.data[60000:]\n",
    "y_test = mnist.target[60000:]"
   ]
  },
  {
   "cell_type": "code",
   "execution_count": 5,
   "id": "a7a77375",
   "metadata": {},
   "outputs": [],
   "source": [
    "from sklearn.preprocessing import StandardScaler"
   ]
  },
  {
   "cell_type": "code",
   "execution_count": 6,
   "id": "28946228",
   "metadata": {},
   "outputs": [],
   "source": [
    "scaler = StandardScaler()"
   ]
  },
  {
   "cell_type": "code",
   "execution_count": 7,
   "id": "6bf4a08d",
   "metadata": {},
   "outputs": [],
   "source": [
    "X_train_full_scaled = scaler.fit_transform(X_train_full)\n",
    "X_test_scaled = scaler.fit_transform(X_test)"
   ]
  },
  {
   "cell_type": "code",
   "execution_count": 8,
   "id": "4c05c6d3",
   "metadata": {},
   "outputs": [
    {
     "data": {
      "text/plain": [
       "'5'"
      ]
     },
     "execution_count": 8,
     "metadata": {},
     "output_type": "execute_result"
    }
   ],
   "source": [
    "y_train_full.iloc[0]"
   ]
  },
  {
   "cell_type": "code",
   "execution_count": 9,
   "id": "b7779ff7",
   "metadata": {},
   "outputs": [],
   "source": [
    "y_train_full = y_train_full.astype(np.uint8)"
   ]
  },
  {
   "cell_type": "code",
   "execution_count": 10,
   "id": "b87981fc",
   "metadata": {},
   "outputs": [
    {
     "data": {
      "text/plain": [
       "5"
      ]
     },
     "execution_count": 10,
     "metadata": {},
     "output_type": "execute_result"
    }
   ],
   "source": [
    "y_train_full.iloc[0]"
   ]
  },
  {
   "cell_type": "code",
   "execution_count": 29,
   "id": "33d85c80",
   "metadata": {
    "collapsed": true
   },
   "outputs": [
    {
     "data": {
      "text/plain": [
       "count    60000.000000\n",
       "mean         4.453933\n",
       "std          2.889270\n",
       "min          0.000000\n",
       "25%          2.000000\n",
       "50%          4.000000\n",
       "75%          7.000000\n",
       "max          9.000000\n",
       "Name: class, dtype: float64"
      ]
     },
     "execution_count": 29,
     "metadata": {},
     "output_type": "execute_result"
    }
   ],
   "source": [
    "y_train_full.describe()"
   ]
  },
  {
   "cell_type": "code",
   "execution_count": 34,
   "id": "ea58f86b",
   "metadata": {},
   "outputs": [
    {
     "data": {
      "text/plain": [
       "class\n",
       "1    6742\n",
       "7    6265\n",
       "3    6131\n",
       "2    5958\n",
       "9    5949\n",
       "0    5923\n",
       "6    5918\n",
       "8    5851\n",
       "4    5842\n",
       "5    5421\n",
       "Name: count, dtype: int64"
      ]
     },
     "execution_count": 34,
     "metadata": {},
     "output_type": "execute_result"
    }
   ],
   "source": [
    "y_train_full.value_counts()"
   ]
  },
  {
   "cell_type": "code",
   "execution_count": 37,
   "id": "44609e1a",
   "metadata": {},
   "outputs": [],
   "source": [
    "y_train_prop = y_train_full.value_counts() / len(y_train_full)"
   ]
  },
  {
   "cell_type": "code",
   "execution_count": 40,
   "id": "36746f86",
   "metadata": {},
   "outputs": [
    {
     "data": {
      "image/png": "[encoded data removed]",
      "text/plain": [
       "<Figure size 640x480 with 1 Axes>"
      ]
     },
     "metadata": {},
     "output_type": "display_data"
    }
   ],
   "source": [
    "import matplotlib.pyplot as plt\n",
    "\n",
    "# Plotting a bar plot\n",
    "plt.bar(y_train_prop.index, y_train_prop)\n",
    "plt.xlabel('Class')\n",
    "plt.ylabel('Weight')\n",
    "plt.title('Class Weights')\n",
    "plt.show()"
   ]
  },
  {
   "cell_type": "code",
   "execution_count": 41,
   "id": "17574481",
   "metadata": {},
   "outputs": [
    {
     "data": {
      "image/png": "[encoded data removed]",
      "text/plain": [
       "<Figure size 640x480 with 1 Axes>"
      ]
     },
     "metadata": {},
     "output_type": "display_data"
    }
   ],
   "source": [
    "# Plotting a pie chart\n",
    "plt.pie(y_train_prop, labels=y_train_prop.index, autopct='%1.1f%%')\n",
    "plt.title('Class Weights')\n",
    "plt.show()"
   ]
  },
  {
   "cell_type": "code",
   "execution_count": 11,
   "id": "78ceaa52",
   "metadata": {},
   "outputs": [
    {
     "name": "stdout",
     "output_type": "stream",
     "text": [
      "Shape of full training set:  (60000, 784)\n",
      "Shape of full training set (Scaled):  (60000, 784)\n",
      "Shape of full training-target set:  (60000,)\n",
      "\n",
      "Shape of test set:  (10000, 784)\n",
      "Shape of test set (Scaled):  (10000, 784)\n",
      "Shape of test-target set:  (10000,)\n"
     ]
    }
   ],
   "source": [
    "print(\"Shape of full training set: \", X_train_full.shape)\n",
    "print(\"Shape of full training set (Scaled): \", X_train_full_scaled.shape)\n",
    "print(\"Shape of full training-target set: \", y_train_full.shape)\n",
    "print()\n",
    "print(\"Shape of test set: \", X_test.shape)\n",
    "print(\"Shape of test set (Scaled): \", X_test_scaled.shape)\n",
    "print(\"Shape of test-target set: \", y_test.shape)"
   ]
  },
  {
   "cell_type": "code",
   "execution_count": 20,
   "id": "87adfcb0",
   "metadata": {},
   "outputs": [
    {
     "data": {
      "text/plain": [
       "str"
      ]
     },
     "execution_count": 20,
     "metadata": {},
     "output_type": "execute_result"
    }
   ],
   "source": [
    "type(y_test.iloc[0])"
   ]
  },
  {
   "cell_type": "code",
   "execution_count": 21,
   "id": "04ad4a1a",
   "metadata": {},
   "outputs": [],
   "source": [
    "y_test = y_test.astype(np.uint8)"
   ]
  },
  {
   "cell_type": "code",
   "execution_count": 22,
   "id": "e0e8af54",
   "metadata": {},
   "outputs": [
    {
     "data": {
      "text/plain": [
       "numpy.uint8"
      ]
     },
     "execution_count": 22,
     "metadata": {},
     "output_type": "execute_result"
    }
   ],
   "source": [
    "type(y_test.iloc[0])"
   ]
  },
  {
   "cell_type": "markdown",
   "id": "5648daab",
   "metadata": {},
   "source": [
    "# Import models"
   ]
  },
  {
   "cell_type": "markdown",
   "id": "a1792b55",
   "metadata": {},
   "source": [
    "## 1. Random Forest Classifier"
   ]
  },
  {
   "cell_type": "markdown",
   "id": "c53aef99",
   "metadata": {},
   "source": [
    "### RF - OvO"
   ]
  },
  {
   "cell_type": "code",
   "execution_count": 12,
   "id": "3fc21760",
   "metadata": {},
   "outputs": [],
   "source": [
    "import joblib"
   ]
  },
  {
   "cell_type": "code",
   "execution_count": 14,
   "id": "2dd68948",
   "metadata": {},
   "outputs": [],
   "source": [
    "rf_ovo_clf = joblib.load('ovo_rf_clf_colab.pkl')"
   ]
  },
  {
   "cell_type": "code",
   "execution_count": 24,
   "id": "5423a5c8",
   "metadata": {},
   "outputs": [],
   "source": [
    "rf_ovo_clf_pred = rf_ovo_clf.predict(X_test)"
   ]
  },
  {
   "cell_type": "code",
   "execution_count": null,
   "id": "61a5344c",
   "metadata": {},
   "outputs": [],
   "source": []
  },
  {
   "cell_type": "markdown",
   "id": "34e818de",
   "metadata": {},
   "source": [
    "#### Accuracy"
   ]
  },
  {
   "cell_type": "code",
   "execution_count": 16,
   "id": "a0b8fc5f",
   "metadata": {},
   "outputs": [],
   "source": [
    "from sklearn.metrics import accuracy_score"
   ]
  },
  {
   "cell_type": "code",
   "execution_count": 25,
   "id": "f7e74b75",
   "metadata": {},
   "outputs": [],
   "source": [
    "rf_ovo_clf_acc = accuracy_score(y_test, rf_ovo_clf_pred)"
   ]
  },
  {
   "cell_type": "code",
   "execution_count": 26,
   "id": "f3633097",
   "metadata": {},
   "outputs": [
    {
     "data": {
      "text/plain": [
       "0.9656"
      ]
     },
     "execution_count": 26,
     "metadata": {},
     "output_type": "execute_result"
    }
   ],
   "source": [
    "rf_ovo_clf_acc"
   ]
  },
  {
   "cell_type": "markdown",
   "id": "f024838b",
   "metadata": {},
   "source": [
    "#### Precision"
   ]
  },
  {
   "cell_type": "code",
   "execution_count": 27,
   "id": "5ccaf4c3",
   "metadata": {},
   "outputs": [],
   "source": [
    "from sklearn.metrics import precision_score"
   ]
  },
  {
   "cell_type": "code",
   "execution_count": 43,
   "id": "e1dda0a1",
   "metadata": {},
   "outputs": [],
   "source": [
    "rf_ovo_clf_prec = precision_score(y_test, rf_ovo_clf_pred, average='macro')"
   ]
  },
  {
   "cell_type": "code",
   "execution_count": 44,
   "id": "1b92325d",
   "metadata": {},
   "outputs": [
    {
     "data": {
      "text/plain": [
       "0.9654536968771158"
      ]
     },
     "execution_count": 44,
     "metadata": {},
     "output_type": "execute_result"
    }
   ],
   "source": [
    "rf_ovo_clf_prec"
   ]
  },
  {
   "cell_type": "code",
   "execution_count": null,
   "id": "69006aca",
   "metadata": {},
   "outputs": [],
   "source": []
  },
  {
   "cell_type": "markdown",
   "id": "5d0ade2a",
   "metadata": {},
   "source": [
    "#### Recall"
   ]
  },
  {
   "cell_type": "code",
   "execution_count": 45,
   "id": "abf89ab4",
   "metadata": {},
   "outputs": [],
   "source": [
    "from sklearn.metrics import recall_score"
   ]
  },
  {
   "cell_type": "code",
   "execution_count": 46,
   "id": "4382dcfb",
   "metadata": {},
   "outputs": [],
   "source": [
    "rf_ovo_clf_recall = recall_score(y_test, rf_ovo_clf_pred, average='macro')"
   ]
  },
  {
   "cell_type": "code",
   "execution_count": 47,
   "id": "2738e158",
   "metadata": {},
   "outputs": [
    {
     "data": {
      "text/plain": [
       "0.9653198576134285"
      ]
     },
     "execution_count": 47,
     "metadata": {},
     "output_type": "execute_result"
    }
   ],
   "source": [
    "rf_ovo_clf_recall"
   ]
  },
  {
   "cell_type": "code",
   "execution_count": null,
   "id": "63708e86",
   "metadata": {},
   "outputs": [],
   "source": []
  },
  {
   "cell_type": "markdown",
   "id": "38b6c2d7",
   "metadata": {},
   "source": [
    "#### F1 Score"
   ]
  },
  {
   "cell_type": "code",
   "execution_count": 48,
   "id": "52fed4fe",
   "metadata": {},
   "outputs": [],
   "source": [
    "from sklearn.metrics import f1_score"
   ]
  },
  {
   "cell_type": "code",
   "execution_count": 52,
   "id": "c688c7d4",
   "metadata": {},
   "outputs": [],
   "source": [
    "rf_ovo_clf_f1 = f1_score(y_test, rf_ovo_clf_pred, average='weighted')"
   ]
  },
  {
   "cell_type": "code",
   "execution_count": 53,
   "id": "75f0282f",
   "metadata": {},
   "outputs": [
    {
     "data": {
      "text/plain": [
       "0.9656443811404773"
      ]
     },
     "execution_count": 53,
     "metadata": {},
     "output_type": "execute_result"
    }
   ],
   "source": [
    "rf_ovo_clf_f1"
   ]
  },
  {
   "cell_type": "code",
   "execution_count": 55,
   "id": "8ca5f6cb",
   "metadata": {},
   "outputs": [],
   "source": [
    "#  f1_score(y_test, rf_ovo_clf_pred, average='weighted')"
   ]
  },
  {
   "cell_type": "markdown",
   "id": "4325c080",
   "metadata": {},
   "source": [
    "#### Decision Scores"
   ]
  },
  {
   "cell_type": "code",
   "execution_count": 61,
   "id": "3ead1b88",
   "metadata": {},
   "outputs": [],
   "source": [
    "from sklearn.metrics import classification_report"
   ]
  },
  {
   "cell_type": "code",
   "execution_count": 56,
   "id": "f8b31373",
   "metadata": {},
   "outputs": [
    {
     "data": {
      "text/plain": [
       "7"
      ]
     },
     "execution_count": 56,
     "metadata": {},
     "output_type": "execute_result"
    }
   ],
   "source": [
    "y_test.iloc[0]"
   ]
  },
  {
   "cell_type": "code",
   "execution_count": null,
   "id": "f35fece9",
   "metadata": {},
   "outputs": [],
   "source": []
  },
  {
   "cell_type": "code",
   "execution_count": 66,
   "id": "8f68149d",
   "metadata": {},
   "outputs": [
    {
     "name": "stderr",
     "output_type": "stream",
     "text": [
      "/home/test/.local/lib/python3.10/site-packages/sklearn/base.py:439: UserWarning: X does not have valid feature names, but OneVsOneClassifier was fitted with feature names\n",
      "  warnings.warn(\n"
     ]
    },
    {
     "name": "stdout",
     "output_type": "stream",
     "text": [
      "Class 0: 3.719077568134172\n",
      "Class 1: 0.7115902964959568\n",
      "Class 2: 6.7915106117353305\n",
      "Class 3: 6.939890710382514\n",
      "Class 4: 5.006535947712418\n",
      "Class 5: 2.8903803131991053\n",
      "Class 6: -0.21956769055745165\n",
      "Class 7: 9.291614518147684\n",
      "Class 8: 2.229813664596273\n",
      "Class 9: 7.290924512298558\n"
     ]
    }
   ],
   "source": [
    "# Select a single image from the test set\n",
    "image = X_test.iloc[0]\n",
    "\n",
    "# Reshape the image to match the input shape of the classifier\n",
    "reshaped_image = image.values.reshape(1, -1)\n",
    "\n",
    "# Get the decision scores for each class\n",
    "decision_scores = rf_ovo_clf.decision_function(reshaped_image)\n",
    "\n",
    "# Print the decision scores for each class\n",
    "for class_index, class_score in enumerate(decision_scores[0]):\n",
    "    print(f\"Class {class_index}: {class_score}\")\n"
   ]
  },
  {
   "cell_type": "code",
   "execution_count": 69,
   "id": "0cb9055a",
   "metadata": {},
   "outputs": [
    {
     "name": "stderr",
     "output_type": "stream",
     "text": [
      "/home/test/.local/lib/python3.10/site-packages/sklearn/base.py:439: UserWarning: X does not have valid feature names, but OneVsOneClassifier was fitted with feature names\n",
      "  warnings.warn(\n"
     ]
    },
    {
     "data": {
      "image/png": "[encoded data removed]",
      "text/plain": [
       "<Figure size 800x600 with 1 Axes>"
      ]
     },
     "metadata": {},
     "output_type": "display_data"
    }
   ],
   "source": [
    "import matplotlib.pyplot as plt\n",
    "import numpy as np\n",
    "\n",
    "# Select a single image from the test set\n",
    "image = X_test.iloc[0]\n",
    "\n",
    "# Reshape the image to match the input shape of the classifier\n",
    "reshaped_image = image.values.reshape(1, -1)\n",
    "\n",
    "# Get the decision scores for each class\n",
    "decision_scores = rf_ovo_clf.decision_function(reshaped_image)\n",
    "\n",
    "# Get the class labels\n",
    "class_labels = rf_ovo_clf.classes_\n",
    "\n",
    "# Create a bar plot of the decision scores\n",
    "plt.figure(figsize=(8, 6))\n",
    "bars = plt.bar(np.arange(len(class_labels)), decision_scores[0])\n",
    "\n",
    "# Add labels to the bars\n",
    "for i, bar in enumerate(bars):\n",
    "    plt.text(bar.get_x() + bar.get_width() / 2, bar.get_height(), f'{decision_scores[0][i]:.2f}', \n",
    "             ha='center', va='bottom')\n",
    "\n",
    "# Add class labels to the x-axis\n",
    "plt.xticks(np.arange(len(class_labels)), class_labels)\n",
    "\n",
    "# Add labels and title\n",
    "plt.xlabel('Class')\n",
    "plt.ylabel('Decision Score')\n",
    "plt.title('Decision Scores for Image Prediction')\n",
    "\n",
    "# Add a horizontal line at zero\n",
    "plt.axhline(0, color='black', linestyle='--', linewidth=0.8)\n",
    "\n",
    "# Set the y-axis limits\n",
    "plt.ylim(min(decision_scores[0]) - 0.1, max(decision_scores[0]) + 0.1)\n",
    "\n",
    "# Rotate the x-axis labels if needed\n",
    "plt.xticks(rotation='vertical')\n",
    "\n",
    "# Display the plot\n",
    "plt.show()\n"
   ]
  },
  {
   "cell_type": "code",
   "execution_count": 70,
   "id": "3920d7d8",
   "metadata": {},
   "outputs": [],
   "source": [
    "# Nice!"
   ]
  },
  {
   "cell_type": "code",
   "execution_count": 77,
   "id": "25d423c9",
   "metadata": {},
   "outputs": [
    {
     "data": {
      "image/png": "[encoded data removed]",
      "text/plain": [
       "<Figure size 1000x600 with 1 Axes>"
      ]
     },
     "metadata": {},
     "output_type": "display_data"
    }
   ],
   "source": [
    "import matplotlib.pyplot as plt\n",
    "\n",
    "# Select a single image from the test set\n",
    "image = X_test.iloc[0]\n",
    "\n",
    "# Reshape the image to match the input shape of the classifiers\n",
    "reshaped_image = image.values.reshape(1, -1)\n",
    "\n",
    "# Get the class labels\n",
    "class_labels = rf_ovo_clf.classes_\n",
    "\n",
    "# Create a bar plot for each Random Forest Classifier\n",
    "plt.figure(figsize=(10, 6))\n",
    "for i, rfc in enumerate(rf_ovo_clf.estimators_):\n",
    "    # Get the decision scores for the image from the current classifier\n",
    "    decision_scores = rfc.predict_proba(reshaped_image)[0]\n",
    "\n",
    "    # Plot the decision scores as a bar plot\n",
    "    plt.bar(range(len(decision_scores)), decision_scores, label=f'RFC {i + 1}')\n",
    "\n",
    "# Add labels and title\n",
    "plt.xlabel('Class Index')\n",
    "plt.ylabel('Decision Score')\n",
    "plt.title('Decision Scores for Image Prediction')\n",
    "\n",
    "# Add x-axis ticks with class labels\n",
    "plt.xticks(range(len(class_labels)), class_labels)\n",
    "\n",
    "# Add a horizontal line at zero\n",
    "plt.axhline(0, color='black', linestyle='--', linewidth=0.8)\n",
    "\n",
    "# Set the y-axis limits\n",
    "plt.ylim(-0.1, 1.1)\n",
    "\n",
    "# Create a legend for the Random Forest Classifiers\n",
    "plt.legend(loc='upper right')\n",
    "\n",
    "# Display the plot\n",
    "plt.show()\n"
   ]
  },
  {
   "cell_type": "code",
   "execution_count": 87,
   "id": "3c5e626a",
   "metadata": {},
   "outputs": [
    {
     "name": "stdout",
     "output_type": "stream",
     "text": [
      "Winner between 0 and 1:\n",
      "Winner: 1\n",
      "Score: 1.0\n",
      "\n",
      "Winner between 0 and 2:\n",
      "Winner: 0\n",
      "Score: 1.0\n",
      "\n",
      "Winner between 0 and 3:\n",
      "Winner: 1\n",
      "Score: 1.0\n",
      "\n",
      "Winner between 0 and 4:\n",
      "Winner: 1\n",
      "Score: 1.0\n",
      "\n",
      "Winner between 0 and 5:\n",
      "Winner: 1\n",
      "Score: 1.0\n",
      "\n",
      "Winner between 0 and 6:\n",
      "Winner: 1\n",
      "Score: 1.0\n",
      "\n",
      "Winner between 0 and 7:\n",
      "Winner: 1\n",
      "Score: 1.0\n",
      "\n",
      "Winner between 0 and 8:\n",
      "Winner: 1\n",
      "Score: 1.0\n",
      "\n",
      "Winner between 0 and 9:\n",
      "Winner: 1\n",
      "Score: 1.0\n",
      "\n",
      "Winner between 0 and 10:\n",
      "Winner: 1\n",
      "Score: 1.0\n",
      "\n",
      "Winner between 0 and 11:\n",
      "Winner: 1\n",
      "Score: 1.0\n",
      "\n",
      "Winner between 0 and 12:\n",
      "Winner: 1\n",
      "Score: 1.0\n",
      "\n",
      "Winner between 0 and 13:\n",
      "Winner: 1\n",
      "Score: 1.0\n",
      "\n",
      "Winner between 0 and 14:\n",
      "Winner: 1\n",
      "Score: 1.0\n",
      "\n",
      "Winner between 0 and 15:\n",
      "Winner: 1\n",
      "Score: 1.0\n",
      "\n",
      "Winner between 0 and 16:\n",
      "Winner: 1\n",
      "Score: 1.0\n",
      "\n",
      "Winner between 0 and 17:\n",
      "Winner: 1\n",
      "Score: 1.0\n",
      "\n",
      "Winner between 0 and 18:\n",
      "Winner: 1\n",
      "Score: 1.0\n",
      "\n",
      "Winner between 0 and 19:\n",
      "Winner: 1\n",
      "Score: 1.0\n",
      "\n",
      "Winner between 0 and 20:\n",
      "Winner: 1\n",
      "Score: 1.0\n",
      "\n",
      "Winner between 0 and 21:\n",
      "Winner: 1\n",
      "Score: 1.0\n",
      "\n",
      "Winner between 0 and 22:\n",
      "Winner: 1\n",
      "Score: 1.0\n",
      "\n",
      "Winner between 0 and 23:\n",
      "Winner: 1\n",
      "Score: 1.0\n",
      "\n",
      "Winner between 0 and 24:\n",
      "Winner: 1\n",
      "Score: 1.0\n",
      "\n",
      "Winner between 0 and 25:\n",
      "Winner: 1\n",
      "Score: 1.0\n",
      "\n",
      "Winner between 0 and 26:\n",
      "Winner: 1\n",
      "Score: 1.0\n",
      "\n",
      "Winner between 0 and 27:\n",
      "Winner: 1\n",
      "Score: 1.0\n",
      "\n",
      "Winner between 0 and 28:\n",
      "Winner: 1\n",
      "Score: 1.0\n",
      "\n",
      "Winner between 0 and 29:\n",
      "Winner: 1\n",
      "Score: 1.0\n",
      "\n",
      "Winner between 0 and 30:\n",
      "Winner: 1\n",
      "Score: 1.0\n",
      "\n",
      "Winner between 0 and 31:\n",
      "Winner: 1\n",
      "Score: 1.0\n",
      "\n",
      "Winner between 0 and 32:\n",
      "Winner: 1\n",
      "Score: 1.0\n",
      "\n",
      "Winner between 0 and 33:\n",
      "Winner: 0\n",
      "Score: 1.0\n",
      "\n",
      "Winner between 0 and 34:\n",
      "Winner: 1\n",
      "Score: 1.0\n",
      "\n",
      "Winner between 0 and 35:\n",
      "Winner: 1\n",
      "Score: 1.0\n",
      "\n",
      "Winner between 0 and 36:\n",
      "Winner: 1\n",
      "Score: 1.0\n",
      "\n",
      "Winner between 0 and 37:\n",
      "Winner: 1\n",
      "Score: 1.0\n",
      "\n",
      "Winner between 0 and 38:\n",
      "Winner: 1\n",
      "Score: 1.0\n",
      "\n",
      "Winner between 0 and 39:\n",
      "Winner: 1\n",
      "Score: 1.0\n",
      "\n",
      "Winner between 0 and 40:\n",
      "Winner: 1\n",
      "Score: 1.0\n",
      "\n",
      "Winner between 0 and 41:\n",
      "Winner: 1\n",
      "Score: 1.0\n",
      "\n",
      "Winner between 0 and 42:\n",
      "Winner: 1\n",
      "Score: 1.0\n",
      "\n",
      "Winner between 0 and 43:\n",
      "Winner: 1\n",
      "Score: 1.0\n",
      "\n",
      "Winner between 0 and 44:\n",
      "Winner: 1\n",
      "Score: 1.0\n",
      "\n",
      "Winner between 0 and 45:\n",
      "Winner: 1\n",
      "Score: 1.0\n",
      "\n",
      "Winner between 0 and 46:\n",
      "Winner: 1\n",
      "Score: 1.0\n",
      "\n",
      "Winner between 0 and 47:\n",
      "Winner: 1\n",
      "Score: 1.0\n",
      "\n",
      "Winner between 0 and 48:\n",
      "Winner: 1\n",
      "Score: 1.0\n",
      "\n",
      "Winner between 0 and 49:\n",
      "Winner: 1\n",
      "Score: 1.0\n",
      "\n",
      "Winner between 0 and 50:\n",
      "Winner: 1\n",
      "Score: 1.0\n",
      "\n",
      "Winner between 0 and 51:\n",
      "Winner: 0\n",
      "Score: 1.0\n",
      "\n",
      "Winner between 0 and 52:\n",
      "Winner: 1\n",
      "Score: 1.0\n",
      "\n",
      "Winner between 0 and 53:\n",
      "Winner: 1\n",
      "Score: 1.0\n",
      "\n",
      "Winner between 0 and 54:\n",
      "Winner: 1\n",
      "Score: 1.0\n",
      "\n",
      "Winner between 0 and 55:\n",
      "Winner: 1\n",
      "Score: 1.0\n",
      "\n",
      "Winner between 0 and 56:\n",
      "Winner: 1\n",
      "Score: 1.0\n",
      "\n",
      "Winner between 0 and 57:\n",
      "Winner: 1\n",
      "Score: 1.0\n",
      "\n",
      "Winner between 0 and 58:\n",
      "Winner: 1\n",
      "Score: 1.0\n",
      "\n",
      "Winner between 0 and 59:\n",
      "Winner: 1\n",
      "Score: 1.0\n",
      "\n",
      "Winner between 0 and 60:\n",
      "Winner: 1\n",
      "Score: 1.0\n",
      "\n",
      "Winner between 0 and 61:\n",
      "Winner: 1\n",
      "Score: 1.0\n",
      "\n",
      "Winner between 0 and 62:\n",
      "Winner: 1\n",
      "Score: 1.0\n",
      "\n",
      "Winner between 0 and 63:\n",
      "Winner: 1\n",
      "Score: 1.0\n",
      "\n",
      "Winner between 0 and 64:\n",
      "Winner: 1\n",
      "Score: 1.0\n",
      "\n",
      "Winner between 0 and 65:\n",
      "Winner: 1\n",
      "Score: 1.0\n",
      "\n",
      "Winner between 0 and 66:\n",
      "Winner: 1\n",
      "Score: 1.0\n",
      "\n",
      "Winner between 0 and 67:\n",
      "Winner: 1\n",
      "Score: 1.0\n",
      "\n",
      "Winner between 0 and 68:\n",
      "Winner: 1\n",
      "Score: 1.0\n",
      "\n",
      "Winner between 0 and 69:\n",
      "Winner: 1\n",
      "Score: 1.0\n",
      "\n",
      "Winner between 0 and 70:\n",
      "Winner: 1\n",
      "Score: 1.0\n",
      "\n",
      "Winner between 0 and 71:\n",
      "Winner: 1\n",
      "Score: 1.0\n",
      "\n",
      "Winner between 0 and 72:\n",
      "Winner: 1\n",
      "Score: 1.0\n",
      "\n",
      "Winner between 0 and 73:\n",
      "Winner: 1\n",
      "Score: 1.0\n",
      "\n",
      "Winner between 0 and 74:\n",
      "Winner: 1\n",
      "Score: 1.0\n",
      "\n",
      "Winner between 0 and 75:\n",
      "Winner: 1\n",
      "Score: 1.0\n",
      "\n",
      "Winner between 0 and 76:\n",
      "Winner: 1\n",
      "Score: 1.0\n",
      "\n",
      "Winner between 0 and 77:\n",
      "Winner: 1\n",
      "Score: 1.0\n",
      "\n",
      "Winner between 0 and 78:\n",
      "Winner: 1\n",
      "Score: 1.0\n",
      "\n",
      "Winner between 0 and 79:\n",
      "Winner: 1\n",
      "Score: 1.0\n",
      "\n",
      "Winner between 0 and 80:\n",
      "Winner: 1\n",
      "Score: 1.0\n",
      "\n",
      "Winner between 0 and 81:\n",
      "Winner: 1\n",
      "Score: 1.0\n",
      "\n",
      "Winner between 0 and 82:\n",
      "Winner: 0\n",
      "Score: 1.0\n",
      "\n",
      "Winner between 0 and 83:\n",
      "Winner: 0\n",
      "Score: 1.0\n",
      "\n",
      "Winner between 0 and 84:\n",
      "Winner: 1\n",
      "Score: 1.0\n",
      "\n",
      "Winner between 0 and 85:\n",
      "Winner: 1\n",
      "Score: 1.0\n",
      "\n",
      "Winner between 0 and 86:\n",
      "Winner: 1\n",
      "Score: 1.0\n",
      "\n",
      "Winner between 0 and 87:\n",
      "Winner: 1\n",
      "Score: 1.0\n",
      "\n",
      "Winner between 0 and 88:\n",
      "Winner: 1\n",
      "Score: 1.0\n",
      "\n",
      "Winner between 0 and 89:\n",
      "Winner: 1\n",
      "Score: 1.0\n",
      "\n",
      "Winner between 0 and 90:\n",
      "Winner: 1\n",
      "Score: 1.0\n",
      "\n",
      "Winner between 0 and 91:\n",
      "Winner: 1\n",
      "Score: 1.0\n",
      "\n",
      "Winner between 0 and 92:\n",
      "Winner: 1\n",
      "Score: 1.0\n",
      "\n",
      "Winner between 0 and 93:\n",
      "Winner: 0\n",
      "Score: 1.0\n",
      "\n",
      "Winner between 0 and 94:\n",
      "Winner: 1\n",
      "Score: 1.0\n",
      "\n",
      "Winner between 0 and 95:\n",
      "Winner: 1\n",
      "Score: 1.0\n",
      "\n",
      "Winner between 0 and 96:\n",
      "Winner: 1\n",
      "Score: 1.0\n",
      "\n",
      "Winner between 0 and 97:\n",
      "Winner: 1\n",
      "Score: 1.0\n",
      "\n",
      "Winner between 0 and 98:\n",
      "Winner: 0\n",
      "Score: 1.0\n",
      "\n",
      "Winner between 0 and 99:\n",
      "Winner: 1\n",
      "Score: 1.0\n",
      "\n",
      "Winner between 1 and 2:\n",
      "Winner: 1\n",
      "Score: 1.0\n",
      "\n",
      "Winner between 1 and 3:\n",
      "Winner: 0\n",
      "Score: 1.0\n",
      "\n"
     ]
    },
    {
     "ename": "IndexError",
     "evalue": "list index out of range",
     "output_type": "error",
     "traceback": [
      "\u001b[0;31m---------------------------------------------------------------------------\u001b[0m",
      "\u001b[0;31mIndexError\u001b[0m                                Traceback (most recent call last)",
      "Cell \u001b[0;32mIn[87], line 15\u001b[0m\n\u001b[1;32m     12\u001b[0m \u001b[38;5;28;01mfor\u001b[39;00m j \u001b[38;5;129;01min\u001b[39;00m \u001b[38;5;28mrange\u001b[39m(i \u001b[38;5;241m+\u001b[39m \u001b[38;5;241m1\u001b[39m, num_classes):\n\u001b[1;32m     13\u001b[0m     \u001b[38;5;66;03m# Predict the class probabilities for the current pair of digits\u001b[39;00m\n\u001b[1;32m     14\u001b[0m     estimator_index \u001b[38;5;241m=\u001b[39m i \u001b[38;5;241m*\u001b[39m (num_classes \u001b[38;5;241m-\u001b[39m \u001b[38;5;241m1\u001b[39m) \u001b[38;5;241m-\u001b[39m (i \u001b[38;5;241m*\u001b[39m (i \u001b[38;5;241m+\u001b[39m \u001b[38;5;241m1\u001b[39m)) \u001b[38;5;241m/\u001b[39m\u001b[38;5;241m/\u001b[39m \u001b[38;5;241m2\u001b[39m \u001b[38;5;241m+\u001b[39m j \u001b[38;5;241m-\u001b[39m i \u001b[38;5;241m-\u001b[39m \u001b[38;5;241m1\u001b[39m\n\u001b[0;32m---> 15\u001b[0m     decision_scores \u001b[38;5;241m=\u001b[39m \u001b[43mrfc\u001b[49m\u001b[38;5;241;43m.\u001b[39;49m\u001b[43mestimators_\u001b[49m\u001b[43m[\u001b[49m\u001b[43mestimator_index\u001b[49m\u001b[43m]\u001b[49m\u001b[38;5;241m.\u001b[39mpredict_proba(X_test\u001b[38;5;241m.\u001b[39miloc[input_index]\u001b[38;5;241m.\u001b[39mvalues\u001b[38;5;241m.\u001b[39mreshape(\u001b[38;5;241m1\u001b[39m, \u001b[38;5;241m-\u001b[39m\u001b[38;5;241m1\u001b[39m))\n\u001b[1;32m     17\u001b[0m     \u001b[38;5;66;03m# Store the decision scores for the current pair of digits\u001b[39;00m\n\u001b[1;32m     18\u001b[0m     pair_scores\u001b[38;5;241m.\u001b[39mappend(decision_scores)\n",
      "\u001b[0;31mIndexError\u001b[0m: list index out of range"
     ]
    }
   ],
   "source": [
    "# Choose a specific input image\n",
    "input_index = 0\n",
    "\n",
    "# Get the number of classes\n",
    "num_classes = len(rfc.estimators_)\n",
    "\n",
    "# Create a list to store the scores for each pair of digits\n",
    "pair_scores = []\n",
    "\n",
    "# Iterate over all pairs of digits\n",
    "for i in range(num_classes):\n",
    "    for j in range(i + 1, num_classes):\n",
    "        # Predict the class probabilities for the current pair of digits\n",
    "        estimator_index = i * (num_classes - 1) - (i * (i + 1)) // 2 + j - i - 1\n",
    "        decision_scores = rfc.estimators_[estimator_index].predict_proba(X_test.iloc[input_index].values.reshape(1, -1))\n",
    "\n",
    "        # Store the decision scores for the current pair of digits\n",
    "        pair_scores.append(decision_scores)\n",
    "\n",
    "        # Determine the winner and their respective score\n",
    "        winner = np.argmax(decision_scores)\n",
    "        winner_score = np.max(decision_scores)\n",
    "\n",
    "        print(f\"Winner between {i} and {j}:\")\n",
    "        print(\"Winner:\", winner)\n",
    "        print(\"Score:\", winner_score)\n",
    "        print()\n"
   ]
  }
 ],
 "metadata": {
  "kernelspec": {
   "display_name": "Python 3 (ipykernel)",
   "language": "python",
   "name": "python3"
  },
  "language_info": {
   "codemirror_mode": {
    "name": "ipython",
    "version": 3
   },
   "file_extension": ".py",
   "mimetype": "text/x-python",
   "name": "python",
   "nbconvert_exporter": "python",
   "pygments_lexer": "ipython3",
   "version": "3.10.6"
  }
 },
 "nbformat": 4,
 "nbformat_minor": 5
}
